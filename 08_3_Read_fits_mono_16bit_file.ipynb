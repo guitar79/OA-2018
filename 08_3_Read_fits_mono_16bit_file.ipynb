{
  "nbformat": 4,
  "nbformat_minor": 0,
  "metadata": {
    "colab": {
      "name": "08-3.Read_fits_mono_16bit_file",
      "version": "0.3.2",
      "provenance": [],
      "collapsed_sections": [],
      "toc_visible": true,
      "include_colab_link": true
    },
    "kernelspec": {
      "name": "python3",
      "display_name": "Python 3"
    },
    "accelerator": "GPU"
  },
  "cells": [
    {
      "cell_type": "markdown",
      "metadata": {
        "id": "view-in-github",
        "colab_type": "text"
      },
      "source": [
        "<a href=\"https://colab.research.google.com/github/guitar79/OA-2018/blob/master/08_3_Read_fits_mono_16bit_file.ipynb\" target=\"_parent\"><img src=\"https://colab.research.google.com/assets/colab-badge.svg\" alt=\"Open In Colab\"/></a>"
      ]
    },
    {
      "metadata": {
        "id": "hgwkawzGMlms",
        "colab_type": "text"
      },
      "cell_type": "markdown",
      "source": [
        "**Read fits file**\n",
        "\n",
        "\n",
        "* 이 자료는16 bit Fits file\n",
        "\n",
        "* python이 처음이라면 [Python Basic](https://colab.research.google.com/drive/1PCOoDIKypPVX9KTItMOht1cl96cPmeR_?authuser=1#scrollTo=3g6o04iLM0AF), [Python packages](https://colab.research.google.com/drive/1-1wx2VPEyNe11bmgpSpwdQgrJASCAqdH?authuser=1)를 먼저 학습하기를 권한다.\n",
        "\n",
        "* package를 쉽게 설치하기 위해 Anaconda 사용을 권장한다.\n",
        "\n",
        "경기과학고등학교 관측천문학 강좌를 위해 만들었으며  <a rel=\"license\" href=\"http://creativecommons.org/licenses/by-nc-sa/4.0/\">크리에이티브 커먼즈 저작자표시-비영리-동일조건변경허락 4.0 국제 라이선스</a>에 따라 이용할 수 있음.\n",
        "\n",
        "<a rel=\"license\" href=\"http://creativecommons.org/licenses/by-nc-sa/4.0/\"><img alt=\"크리에이티브 커먼즈 라이선스\" style=\"border-width:0\" src=\"https://i.creativecommons.org/l/by-nc-sa/4.0/88x31.png\" /></a>"
      ]
    },
    {
      "metadata": {
        "id": "u7wfBH1zb8kW",
        "colab_type": "text"
      },
      "cell_type": "markdown",
      "source": [
        "#Download data\n",
        "\n",
        "Download fits files\n",
        "\n",
        "* \"M80\"을 검색하면 많은 데이타가 보일 것이다.\n",
        "* \"Detector\" column : \"WFPC2\" 를 입력하고 \"Enter\"\n",
        "* \"NExposures\" column : 6\n",
        "* \"PropID\" column : \"11233\"\n",
        "* \"VisitNum\" = 06 "
      ]
    },
    {
      "metadata": {
        "id": "_vbIDydx7Gvr",
        "colab_type": "code",
        "outputId": "9689c75d-00d5-421f-d218-77754e41d88a",
        "colab": {
          "base_uri": "https://localhost:8080/",
          "height": 139
        }
      },
      "cell_type": "code",
      "source": [
        "!pip install astropy\n",
        "import numpy as np\n",
        "import cv2\n",
        "from astropy.io import fits\n",
        "import os\n",
        "\n",
        "# file name\n",
        "f_name = '20181012.M42'\n",
        "\n",
        "hdu = fits.open(f_name)\n",
        "data = hdu[0].data\n",
        "cv2_arrray = np.array(data, dtype=np.uint16)\n",
        "\n",
        "print(cv2_arrray)  "
      ],
      "execution_count": 0,
      "outputs": [
        {
          "output_type": "stream",
          "text": [
            "Collecting astropy\n",
            "\u001b[?25l  Downloading https://files.pythonhosted.org/packages/26/6f/d6993ad4dde9cfa7c51f9be218739302e1f01b5e1df2b59853084b26c439/astropy-3.0.5-cp36-cp36m-manylinux1_x86_64.whl (6.0MB)\n",
            "\u001b[K    100% |████████████████████████████████| 6.0MB 6.6MB/s \n",
            "\u001b[?25hRequirement already satisfied: numpy>=1.10.0 in /usr/local/lib/python3.6/dist-packages (from astropy) (1.14.6)\n",
            "Installing collected packages: astropy\n",
            "Successfully installed astropy-3.0.5\n"
          ],
          "name": "stdout"
        }
      ]
    },
    {
      "metadata": {
        "id": "EO475o4L3tOt",
        "colab_type": "text"
      },
      "cell_type": "markdown",
      "source": [
        "# Processing data\n",
        "\n",
        "HR diagram 을 그리기 위해 필요한 자료는 다음과 같다.\n",
        "\n",
        "\n",
        "*  $\\rm{Color~Index} = M_{F450} - M_{F814}$\n",
        "*  $\\rm{Magnitude} = M_{F450}$\n",
        "\n",
        "다운받은 자료에서 별의 ID (5th colomn), 별의 Magnitude (6th column)를 이용하면 된다.\n",
        "\n"
      ]
    },
    {
      "metadata": {
        "id": "d7yKE1PlMsk_",
        "colab_type": "code",
        "colab": {}
      },
      "cell_type": "code",
      "source": [
        "print (F450)\n",
        "print (F450[:,4])"
      ],
      "execution_count": 0,
      "outputs": []
    },
    {
      "metadata": {
        "id": "q2S18CnnP2bs",
        "colab_type": "text"
      },
      "cell_type": "markdown",
      "source": [
        "여기서 해결해야 할 문제는 두 파일 (F450, F814)에서 데이터 갯수가 서로 다르다는 것이다. \n",
        "\n",
        "이를 해결하려면 별의 ID를 비교하는 과정이 필요할텐데 다음과 같은 bool data type을 이용하면 해결할 수 있을 것이다."
      ]
    },
    {
      "metadata": {
        "id": "w-iLSYs3SU4r",
        "colab_type": "code",
        "colab": {}
      },
      "cell_type": "code",
      "source": [
        "import numpy as np\n",
        "\n",
        "num1 = np.arange(0, 11, 2) # generate numpy array (0, 11) with interval 2\n",
        "\n",
        "print(\"\\nnum1's elements:\")\n",
        "print(num1)\n",
        "\n",
        "# MASKING\n",
        "tf   = np.array([False, True, False, True, True, False])\n",
        "\n",
        "print (tf)\n",
        "\n",
        "print(\"\\nnum1's selected elements:\")\n",
        "print(num1[tf])\n"
      ],
      "execution_count": 0,
      "outputs": []
    },
    {
      "metadata": {
        "id": "QIZUrxbGTL2d",
        "colab_type": "text"
      },
      "cell_type": "markdown",
      "source": [
        "먼저 F450과 F814 의 데이터 갯수를 하나나하 loop 문으로 비교해야 할 것이다."
      ]
    },
    {
      "metadata": {
        "id": "ptUxCr65_ps2",
        "colab_type": "code",
        "colab": {}
      },
      "cell_type": "code",
      "source": [
        "print (len(F450))\n",
        "print (len(F814))"
      ],
      "execution_count": 0,
      "outputs": []
    },
    {
      "metadata": {
        "id": "D_nIj28lAiWw",
        "colab_type": "text"
      },
      "cell_type": "markdown",
      "source": [
        "F450에 있는 별의 ID와 일치하는 별이 F814에 있는지 찾아서 색지수를 구하고 일치하는 자료의 bool 자료를 true로 저장하자."
      ]
    },
    {
      "metadata": {
        "id": "L5k68Mv3TXwf",
        "colab_type": "code",
        "colab": {}
      },
      "cell_type": "code",
      "source": [
        "# get CI value and masking \n",
        "mask  = np.zeros(len(F450)).astype(bool)\n",
        "color = np.zeros(len(F450))\n",
        "\n",
        "# Get color indices of the \"same\" stars in two filter images\n",
        "for i in range(0, len(F450)):\n",
        "    ID450 = F450[i,4]\n",
        "    for j in range(0, len(F814)):\n",
        "        ID814 = F814[j,4]\n",
        "        if ID450 == ID814:\n",
        "            mask[i]  = True\n",
        "            color[i] = F450[i,5] - F814[j,5]\n",
        "            break # Once the matched item is found from F814, go to next star of F450.\n",
        "print (len(F450[mask]))\n",
        "print (len(color[mask]))"
      ],
      "execution_count": 0,
      "outputs": []
    },
    {
      "metadata": {
        "id": "-AfNcKl79Hoj",
        "colab_type": "text"
      },
      "cell_type": "markdown",
      "source": [
        "# Chart plot\n",
        "\n",
        "matplotlib를 이용하면 아래와 같은 코드로 HR diagram 을 그릴 수 있을 것이다."
      ]
    },
    {
      "metadata": {
        "id": "63dMeG1d7CmM",
        "colab_type": "code",
        "colab": {}
      },
      "cell_type": "code",
      "source": [
        "import numpy as np\n",
        "import matplotlib.pyplot as plt\n",
        "\n",
        "x = np.arange(0,6,0.1)\n",
        "y = np.random.rand(60)\n",
        "CI = x \n",
        "Mag = y*20\n",
        "print(\"CI\\n\", CI)\n",
        "print(\"Mag\\n\", Mag)\n",
        "\n",
        "#plot CI - Mag\n",
        "plt.plot(CI, Mag, 'o', ms=5, alpha=1)\n",
        "plt.grid()\n",
        "plt.title('H-R Diagram')\n",
        "plt.xlabel('Color Index')\n",
        "plt.ylabel('Magnitude')\n",
        "plt.gca().invert_yaxis()\n",
        "\n",
        "#show the Diagram\n",
        "plt.show()"
      ],
      "execution_count": 0,
      "outputs": []
    },
    {
      "metadata": {
        "id": "M4mcBFX4B0Fy",
        "colab_type": "text"
      },
      "cell_type": "markdown",
      "source": [
        "$\\rm{Color~Index}$와 $\\rm{Magnitude}$ 값을 indexing 하는 코드는 각각 color[mask], F450[mask,5]이다. "
      ]
    },
    {
      "metadata": {
        "id": "RZ9i3EBEC4mk",
        "colab_type": "code",
        "colab": {}
      },
      "cell_type": "code",
      "source": [
        "print(color[mask])\n",
        "print(F450[mask,5])"
      ],
      "execution_count": 0,
      "outputs": []
    },
    {
      "metadata": {
        "id": "MUUo5f-PFmBv",
        "colab_type": "text"
      },
      "cell_type": "markdown",
      "source": [
        "HR diagram을 그려보자."
      ]
    },
    {
      "metadata": {
        "id": "rBgfRKpIFtwg",
        "colab_type": "code",
        "colab": {}
      },
      "cell_type": "code",
      "source": [
        "# Get current size\n",
        "fig_size = plt.rcParams[\"figure.figsize\"]\n",
        " \n",
        "# Prints: [8.0, 6.0]\n",
        "print (\"Current size:\", fig_size)\n",
        "\n",
        "# Set figure width to 12 and height to 9\n",
        "fig_size[0] = 10\n",
        "fig_size[1] = 8\n",
        "plt.rcParams[\"figure.figsize\"] = fig_size\n",
        "\n",
        "\n",
        "plt.plot(color[mask], F450[mask,5], 'o', ms=2, alpha=0.2)\n",
        "plt.title('H-R Diagram of M80', fontsize=20)\n",
        "plt.xlabel('Color Index (F450W - F814W)', fontsize=18)\n",
        "plt.ylabel('Magnitude (F450W)', fontsize=18)\n",
        "plt.gca().invert_yaxis()\n",
        "\n",
        "plt.grid()\n",
        "\n",
        "\n",
        "#show the Diagram\n",
        "plt.show()\n",
        "\n",
        "plt.savefig('H-R Diagram of M80.png', dpi=None, facecolor='w', edgecolor='w',\n",
        "        orientation='portrait', papertype=None, format=None,\n",
        "        transparent=False, bbox_inches=None, pad_inches=0.1,\n",
        "        frameon=None, metadata=None)"
      ],
      "execution_count": 0,
      "outputs": []
    },
    {
      "metadata": {
        "id": "cUZ0PtQ8DALi",
        "colab_type": "text"
      },
      "cell_type": "markdown",
      "source": [
        "정리 차원에서 최종 코드와 HST 자료를 첨부한다.\n",
        "\n",
        "* [full code](https://github.com/guitar79/OA-2018/blob/master/08-align_and_combine_fits_mono_16bit.py)"
      ]
    }
  ]
}