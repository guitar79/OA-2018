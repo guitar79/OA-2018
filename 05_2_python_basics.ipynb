{
  "nbformat": 4,
  "nbformat_minor": 0,
  "metadata": {
    "colab": {
      "name": "05-2.python_basics",
      "version": "0.3.2",
      "provenance": [],
      "toc_visible": true,
      "include_colab_link": true
    },
    "kernelspec": {
      "name": "python3",
      "display_name": "Python 3"
    },
    "accelerator": "GPU"
  },
  "cells": [
    {
      "cell_type": "markdown",
      "metadata": {
        "id": "view-in-github",
        "colab_type": "text"
      },
      "source": [
        "[View in Colaboratory](https://colab.research.google.com/github/guitar79/OA-2018/blob/master/05_2_python_basics.ipynb)"
      ]
    },
    {
      "metadata": {
        "id": "3g6o04iLM0AF",
        "colab_type": "text"
      },
      "cell_type": "markdown",
      "source": [
        "python 사용법에 대해 간단히 설명한다. 자세한 내용은 official Python tutorial (https://docs.python.org/3/tutorial/index.html) 을 참고하기 바란다."
      ]
    },
    {
      "metadata": {
        "id": "hgwkawzGMlms",
        "colab_type": "text"
      },
      "cell_type": "markdown",
      "source": [
        "#Python Basics\n",
        "\n",
        "다음과 같이 간단하게 사용할 수 있다."
      ]
    },
    {
      "metadata": {
        "id": "jm93PJyuTWrw",
        "colab_type": "code",
        "colab": {
          "base_uri": "https://localhost:8080/",
          "height": 35
        },
        "outputId": "6906a2d8-df06-4d79-8676-30b03b111e33"
      },
      "cell_type": "code",
      "source": [
        "4-10"
      ],
      "execution_count": 1,
      "outputs": [
        {
          "output_type": "execute_result",
          "data": {
            "text/plain": [
              "-6"
            ]
          },
          "metadata": {
            "tags": []
          },
          "execution_count": 1
        }
      ]
    },
    {
      "metadata": {
        "id": "Rqcj4dEaTdUk",
        "colab_type": "code",
        "colab": {
          "base_uri": "https://localhost:8080/",
          "height": 125
        },
        "outputId": "8ad96f07-9e5f-42d0-b291-d051280285f5"
      },
      "cell_type": "code",
      "source": [
        "print (2*3)\n",
        "print (7/3)\n",
        "print (7//3)\n",
        "print (32 % 26)\n",
        "print (5 ** 3)\n",
        "print (18**(-1/3.))"
      ],
      "execution_count": 2,
      "outputs": [
        {
          "output_type": "stream",
          "text": [
            "6\n",
            "2.3333333333333335\n",
            "2\n",
            "6\n",
            "125\n",
            "0.38157141418444396\n"
          ],
          "name": "stdout"
        }
      ]
    },
    {
      "metadata": {
        "id": "EO475o4L3tOt",
        "colab_type": "text"
      },
      "cell_type": "markdown",
      "source": [
        "# Data Types\n",
        "\n",
        "Python도 다른 프로그래밍 언어처럼 몇몇 데이터 타입이 있다. \n",
        "\n",
        "**Numeric and boolean literals**\n",
        "\n",
        "데이터 타입을 보려면 다음과 같이 type 함수를 사용할 수 있다."
      ]
    },
    {
      "metadata": {
        "id": "HLGSMzKqdwT5",
        "colab_type": "code",
        "colab": {
          "base_uri": "https://localhost:8080/",
          "height": 305
        },
        "outputId": "fb40ec6a-0e65-44fc-e81b-7eb7666081cc"
      },
      "cell_type": "code",
      "source": [
        "a = 3     # integer\n",
        "b = 3.14  # float (real number)\n",
        "c = 3.14159 # a floating point number\n",
        "d = 5.1e10 # scientific notation\n",
        "e = 2.5 + 5.3j # a complex number\n",
        "hungry = True # boolean literal\n",
        "need_coffee = False # another boolean literal\n",
        "\n",
        "print(a)  # will print 3\n",
        "print(b)  # will print 3.14\n",
        "print(c)  # will print cc\n",
        "print(d)  \n",
        "print(e)  \n",
        "print(hungry)\n",
        "print(need_coffee)\n",
        "print(type(a))   # the data types of a, b, c\n",
        "print(type(b))\n",
        "print(type(c))\n",
        "print(type(d))\n",
        "print(type(e))\n",
        "print(type(hungry))\n",
        "print(type(need_coffee))\n",
        "print(a / b)\n",
        "print(a * e)"
      ],
      "execution_count": 3,
      "outputs": [
        {
          "output_type": "stream",
          "text": [
            "3\n",
            "3.14\n",
            "3.14159\n",
            "51000000000.0\n",
            "(2.5+5.3j)\n",
            "True\n",
            "False\n",
            "<class 'int'>\n",
            "<class 'float'>\n",
            "<class 'float'>\n",
            "<class 'float'>\n",
            "<class 'complex'>\n",
            "<class 'bool'>\n",
            "<class 'bool'>\n",
            "0.9554140127388535\n",
            "(7.5+15.899999999999999j)\n"
          ],
          "name": "stdout"
        }
      ]
    },
    {
      "metadata": {
        "id": "MOeWh0-ep-kE",
        "colab_type": "text"
      },
      "cell_type": "markdown",
      "source": [
        "**Strings**\n",
        "\n"
      ]
    },
    {
      "metadata": {
        "id": "VMJ43ddGV9z7",
        "colab_type": "code",
        "colab": {
          "base_uri": "https://localhost:8080/",
          "height": 71
        },
        "outputId": "4aa75ecb-3667-4c0c-dad4-2703251e5c56"
      },
      "cell_type": "code",
      "source": [
        "hello = 'Hello world!'\n",
        "print(hello)\n",
        "\n",
        "print ('She said, \"Hello, world!\"')\n",
        "print (\"She said, 'Hello, world!'\")"
      ],
      "execution_count": 4,
      "outputs": [
        {
          "output_type": "stream",
          "text": [
            "Hello world!\n",
            "She said, \"Hello, world!\"\n",
            "She said, 'Hello, world!'\n"
          ],
          "name": "stdout"
        }
      ]
    },
    {
      "metadata": {
        "id": "dfq8L9kbqaTO",
        "colab_type": "code",
        "colab": {
          "base_uri": "https://localhost:8080/",
          "height": 107
        },
        "outputId": "777b167c-f335-4ac9-b113-157a43ec5df8"
      },
      "cell_type": "code",
      "source": [
        "print (\"\"\"MIRANDA\n",
        "O, wonder!\n",
        "How many goodly creatures are there here!\n",
        "How beauteous mankind is! O brave new world\n",
        "That has such people in't!\"\"\")"
      ],
      "execution_count": 5,
      "outputs": [
        {
          "output_type": "stream",
          "text": [
            "MIRANDA\n",
            "O, wonder!\n",
            "How many goodly creatures are there here!\n",
            "How beauteous mankind is! O brave new world\n",
            "That has such people in't!\n"
          ],
          "name": "stdout"
        }
      ]
    },
    {
      "metadata": {
        "id": "h7qiE4AQqkza",
        "colab_type": "code",
        "colab": {
          "base_uri": "https://localhost:8080/",
          "height": 35
        },
        "outputId": "a0f5fb6a-f32e-40db-c22e-f873a0a158c9"
      },
      "cell_type": "code",
      "source": [
        "'abc' + 'def'"
      ],
      "execution_count": 6,
      "outputs": [
        {
          "output_type": "execute_result",
          "data": {
            "text/plain": [
              "'abcdef'"
            ]
          },
          "metadata": {
            "tags": []
          },
          "execution_count": 6
        }
      ]
    },
    {
      "metadata": {
        "id": "3_CrlsnkqvrL",
        "colab_type": "code",
        "colab": {
          "base_uri": "https://localhost:8080/",
          "height": 35
        },
        "outputId": "84438e6e-5d27-493c-e5ba-4733fb276310"
      },
      "cell_type": "code",
      "source": [
        "filename = '../data/PTF_d022683_f02_c06_u000114210_p12_refimg.fits'\n",
        "filename.endswith('fits')"
      ],
      "execution_count": 7,
      "outputs": [
        {
          "output_type": "execute_result",
          "data": {
            "text/plain": [
              "True"
            ]
          },
          "metadata": {
            "tags": []
          },
          "execution_count": 7
        }
      ]
    },
    {
      "metadata": {
        "id": "5WBCnfgMq7ys",
        "colab_type": "code",
        "colab": {
          "base_uri": "https://localhost:8080/",
          "height": 35
        },
        "outputId": "4fba4d7d-3aad-44e3-edb9-adc73e27173e"
      },
      "cell_type": "code",
      "source": [
        "filename = '../data/PTF_d022683_f02_c06_u000114210_p12_refimg.fits'\n",
        "filename.split('/')"
      ],
      "execution_count": 8,
      "outputs": [
        {
          "output_type": "execute_result",
          "data": {
            "text/plain": [
              "['..', 'data', 'PTF_d022683_f02_c06_u000114210_p12_refimg.fits']"
            ]
          },
          "metadata": {
            "tags": []
          },
          "execution_count": 8
        }
      ]
    },
    {
      "metadata": {
        "id": "VEWSU1x6rZIb",
        "colab_type": "code",
        "colab": {}
      },
      "cell_type": "code",
      "source": [
        "some_list = ['a','b',3,10]"
      ],
      "execution_count": 0,
      "outputs": []
    },
    {
      "metadata": {
        "id": "2nj6C-VofNLC",
        "colab_type": "text"
      },
      "cell_type": "markdown",
      "source": [
        "# Lists and tuples\n",
        "\n",
        "Lists are flexible containers which can contain python objects of any type. You can add or remove items or alter\n",
        "existing items. Lists are surrounded by square brackets and have items separated by commas."
      ]
    },
    {
      "metadata": {
        "id": "tpbtRUjMrwOg",
        "colab_type": "code",
        "colab": {
          "base_uri": "https://localhost:8080/",
          "height": 35
        },
        "outputId": "58891159-3604-4b7a-cb2d-c02f85bd231e"
      },
      "cell_type": "code",
      "source": [
        "some_list = ['a','b',3,10]\n",
        "print (some_list)"
      ],
      "execution_count": 10,
      "outputs": [
        {
          "output_type": "stream",
          "text": [
            "['a', 'b', 3, 10]\n"
          ],
          "name": "stdout"
        }
      ]
    },
    {
      "metadata": {
        "id": "TRunlhXSscrA",
        "colab_type": "code",
        "colab": {
          "base_uri": "https://localhost:8080/",
          "height": 35
        },
        "outputId": "306305a3-3749-4c05-df61-a26f77a525f0"
      },
      "cell_type": "code",
      "source": [
        "some_list[0]"
      ],
      "execution_count": 11,
      "outputs": [
        {
          "output_type": "execute_result",
          "data": {
            "text/plain": [
              "'a'"
            ]
          },
          "metadata": {
            "tags": []
          },
          "execution_count": 11
        }
      ]
    },
    {
      "metadata": {
        "id": "29GMpMuorI6J",
        "colab_type": "text"
      },
      "cell_type": "markdown",
      "source": [
        "**index**\n",
        "\n",
        "'index'는 '0' 부터 시작하며, 다음과 같은 데이터 형태들이 있다."
      ]
    },
    {
      "metadata": {
        "id": "QrEWOlmP7Wxr",
        "colab_type": "code",
        "colab": {
          "base_uri": "https://localhost:8080/",
          "height": 89
        },
        "outputId": "89086942-ebe2-43eb-abca-ab3dc51b154a"
      },
      "cell_type": "code",
      "source": [
        "A = [0,1,2]            # classical Python \"list\"\n",
        "B = (3,4,5)            # classical Python \"tuple\"\n",
        "\n",
        "\n",
        "print('A: ', A[0], A[1], A[2])\n",
        "print('B: ', B[0], B[1], B[2])\n",
        "\n",
        "print('AB: ', A, B)\n",
        "print('type: ', type(A), type(B))"
      ],
      "execution_count": 12,
      "outputs": [
        {
          "output_type": "stream",
          "text": [
            "A:  0 1 2\n",
            "B:  3 4 5\n",
            "AB:  [0, 1, 2] (3, 4, 5)\n",
            "type:  <class 'list'> <class 'tuple'>\n"
          ],
          "name": "stdout"
        }
      ]
    },
    {
      "metadata": {
        "id": "54yHBiPwskS_",
        "colab_type": "code",
        "colab": {
          "base_uri": "https://localhost:8080/",
          "height": 35
        },
        "outputId": "ef0fa3c1-9592-4eb8-ac85-e3845177fa00"
      },
      "cell_type": "code",
      "source": [
        "another_list = [4,5,6,7,[8,9,10]]\n",
        "print(another_list)"
      ],
      "execution_count": 13,
      "outputs": [
        {
          "output_type": "stream",
          "text": [
            "[4, 5, 6, 7, [8, 9, 10]]\n"
          ],
          "name": "stdout"
        }
      ]
    },
    {
      "metadata": {
        "id": "BMoLnGWes3-T",
        "colab_type": "code",
        "colab": {
          "base_uri": "https://localhost:8080/",
          "height": 71
        },
        "outputId": "38f40de5-1fbf-4f0a-acf6-26821da0e5b3"
      },
      "cell_type": "code",
      "source": [
        "print(another_list[0:2])\n",
        "print(another_list[-1])\n",
        "print(another_list[-1][1])"
      ],
      "execution_count": 14,
      "outputs": [
        {
          "output_type": "stream",
          "text": [
            "[4, 5]\n",
            "[8, 9, 10]\n",
            "9\n"
          ],
          "name": "stdout"
        }
      ]
    },
    {
      "metadata": {
        "id": "SZoHAzJMtsY8",
        "colab_type": "text"
      },
      "cell_type": "markdown",
      "source": [
        "# Dictionaries\n",
        "\n",
        "Sometimes, you want a collection that is like a list, but whose indices are strings or other Python values. That's a\n",
        "dictionary. Dictionaries are handy for any type of database-like operation, or for storing mappings from one set of\n",
        "values to another. You create a dictionary by enclosing a list of key-value pairs in curly braces:"
      ]
    },
    {
      "metadata": {
        "id": "7sQm6jlEtw-L",
        "colab_type": "code",
        "colab": {
          "base_uri": "https://localhost:8080/",
          "height": 91
        },
        "outputId": "4f72f2ff-4f01-4d15-86c9-356ece28ec83"
      },
      "cell_type": "code",
      "source": [
        "my_grb = {'name': 'GRB 130702A', 'redshift': 0.145, 'ra': (14, 29, 14.78), 'dec': (15, 46, 26.4)}\n",
        "print(my_grb)\n",
        "print(my_grb['ra'])\n",
        "print(my_grb['dec'])"
      ],
      "execution_count": 15,
      "outputs": [
        {
          "output_type": "stream",
          "text": [
            "{'name': 'GRB 130702A', 'redshift': 0.145, 'ra': (14, 29, 14.78), 'dec': (15, 46, 26.4)}\n",
            "(14, 29, 14.78)\n",
            "(15, 46, 26.4)\n"
          ],
          "name": "stdout"
        }
      ]
    },
    {
      "metadata": {
        "id": "Hl1bCPgwucmZ",
        "colab_type": "text"
      },
      "cell_type": "markdown",
      "source": [
        "dictionary에 item을 추가하거나 삭제할 수 있다."
      ]
    },
    {
      "metadata": {
        "id": "APRmpiQkuhiC",
        "colab_type": "code",
        "colab": {
          "base_uri": "https://localhost:8080/",
          "height": 73
        },
        "outputId": "cc2a92d9-8855-423b-800d-c9decc355ba0"
      },
      "cell_type": "code",
      "source": [
        "my_grb = {'name': 'GRB 130702A', 'redshift': 0.145, 'ra': (14, 29, 14.78), 'dec': (15, 46, 26.4)}\n",
        "\n",
        "my_grb['url'] = 'http://gcn.gsfc.nasa.gov/other/130702A.gcn3'\n",
        "print(my_grb)\n",
        "\n",
        "del my_grb['name']\n",
        "print(my_grb)"
      ],
      "execution_count": 16,
      "outputs": [
        {
          "output_type": "stream",
          "text": [
            "{'name': 'GRB 130702A', 'redshift': 0.145, 'ra': (14, 29, 14.78), 'dec': (15, 46, 26.4), 'url': 'http://gcn.gsfc.nasa.gov/other/130702A.gcn3'}\n",
            "{'redshift': 0.145, 'ra': (14, 29, 14.78), 'dec': (15, 46, 26.4), 'url': 'http://gcn.gsfc.nasa.gov/other/130702A.gcn3'}\n"
          ],
          "name": "stdout"
        }
      ]
    },
    {
      "metadata": {
        "id": "j3arcPyufWiI",
        "colab_type": "text"
      },
      "cell_type": "markdown",
      "source": [
        "# Conditions/Loops\n",
        "\n",
        " **Conditions**\n",
        "\n",
        "In Python, control flow statements such as conditionals and loops have blocks indicated with indentation. Any number\n",
        "of spaces or tabs is fine, as long as you are consistent within a block. Four spaces is the recommended standard.\n",
        "You can use the if...elif...else statement to have different bits of code run depending on the truth or falsehood of\n",
        "boolean expressions. For example:"
      ]
    },
    {
      "metadata": {
        "id": "OVDrHgwRf5hy",
        "colab_type": "code",
        "colab": {
          "base_uri": "https://localhost:8080/",
          "height": 35
        },
        "outputId": "81483e4d-be97-4ede-be6c-49b76ae6b976"
      },
      "cell_type": "code",
      "source": [
        "x, y, z = 3, 3.14, 10-7\n",
        "if (x != y):\n",
        "    print('Different!')"
      ],
      "execution_count": 17,
      "outputs": [
        {
          "output_type": "stream",
          "text": [
            "Different!\n"
          ],
          "name": "stdout"
        }
      ]
    },
    {
      "metadata": {
        "id": "P_FOgj1VvqYT",
        "colab_type": "code",
        "colab": {
          "base_uri": "https://localhost:8080/",
          "height": 35
        },
        "outputId": "a73bc6ca-671a-4399-8c40-a5868ccabb46"
      },
      "cell_type": "code",
      "source": [
        "d = {'foo': 3, 'bar': 5, 'bat': 9}\n",
        "if 'foo' in d:\n",
        "   print ('the key \"foo\" is in the dictionary')"
      ],
      "execution_count": 18,
      "outputs": [
        {
          "output_type": "stream",
          "text": [
            "the key \"foo\" is in the dictionary\n"
          ],
          "name": "stdout"
        }
      ]
    },
    {
      "metadata": {
        "id": "GjTYwaalvxcC",
        "colab_type": "text"
      },
      "cell_type": "markdown",
      "source": [
        "**The for and while loops**\n",
        "\n",
        "In Python, there are just two types of loops: for and while. for loops are useful for repeating a set of statements for\n",
        "each item in a collection (tuple, set, list, dictionary, or string). while loops are not as common, but can be used to\n",
        "repeat a set of statements until a boolean expression becomes false."
      ]
    },
    {
      "metadata": {
        "id": "-X19YWxMv7DW",
        "colab_type": "code",
        "colab": {
          "base_uri": "https://localhost:8080/",
          "height": 89
        },
        "outputId": "e3856449-ff9d-40d9-ce08-2256ce0c53af"
      },
      "cell_type": "code",
      "source": [
        "for i in [0, 1, 2, 3]:\n",
        "  print (i**2)"
      ],
      "execution_count": 19,
      "outputs": [
        {
          "output_type": "stream",
          "text": [
            "0\n",
            "1\n",
            "4\n",
            "9\n"
          ],
          "name": "stdout"
        }
      ]
    },
    {
      "metadata": {
        "id": "ed-jFeWWwN_N",
        "colab_type": "code",
        "colab": {
          "base_uri": "https://localhost:8080/",
          "height": 89
        },
        "outputId": "0d4dbd8d-610b-4c09-b299-ec2fc57ef5b6"
      },
      "cell_type": "code",
      "source": [
        "for i in range(4):\n",
        "  print (i**2)"
      ],
      "execution_count": 20,
      "outputs": [
        {
          "output_type": "stream",
          "text": [
            "0\n",
            "1\n",
            "4\n",
            "9\n"
          ],
          "name": "stdout"
        }
      ]
    },
    {
      "metadata": {
        "id": "RuCiqhh9wVPl",
        "colab_type": "code",
        "colab": {
          "base_uri": "https://localhost:8080/",
          "height": 125
        },
        "outputId": "37f76851-526b-40bd-9102-cc7c48cc5ef3"
      },
      "cell_type": "code",
      "source": [
        "for i in range(-2, 4):\n",
        "  print (i**2)"
      ],
      "execution_count": 21,
      "outputs": [
        {
          "output_type": "stream",
          "text": [
            "4\n",
            "1\n",
            "0\n",
            "1\n",
            "4\n",
            "9\n"
          ],
          "name": "stdout"
        }
      ]
    },
    {
      "metadata": {
        "id": "pklQklntwez8",
        "colab_type": "code",
        "colab": {
          "base_uri": "https://localhost:8080/",
          "height": 71
        },
        "outputId": "d821556c-21de-45b6-ebe0-f0c09d565725"
      },
      "cell_type": "code",
      "source": [
        "d = {'foo': 3, 'bar': 5, 'bat': 9}\n",
        "for key, val in d.items():\n",
        "  print (key, '...', val**3)"
      ],
      "execution_count": 22,
      "outputs": [
        {
          "output_type": "stream",
          "text": [
            "foo ... 27\n",
            "bar ... 125\n",
            "bat ... 729\n"
          ],
          "name": "stdout"
        }
      ]
    },
    {
      "metadata": {
        "id": "GRvdzEYimD91",
        "colab_type": "code",
        "colab": {
          "base_uri": "https://localhost:8080/",
          "height": 35
        },
        "outputId": "a11d0d80-e6db-440c-d360-67ff04180806"
      },
      "cell_type": "code",
      "source": [
        "import numpy as np\n",
        "\n",
        "L  = np.arange(0, 10, 1) # numpy array with elements (0, 10) with interval 1\n",
        "L1 = np.ones((10))  # 10 by 1 sized numpy array, filled with 1\n",
        "\n",
        "for i in range(0,10):\n",
        "    if (L[i] == 9):\n",
        "        print(\"\\t'Oh it's NEIN!'\")\n",
        "        continue\n",
        "    print(L[i], end=' ') # option \"end\" sets the ending part for each print; test many cases by yourself!\n",
        "    print(L[i]==L1[i], end=' ')"
      ],
      "execution_count": 23,
      "outputs": [
        {
          "output_type": "stream",
          "text": [
            "0 False 1 True 2 False 3 False 4 False 5 False 6 False 7 False 8 False \t'Oh it's NEIN!'\n"
          ],
          "name": "stdout"
        }
      ]
    },
    {
      "metadata": {
        "id": "62OniAYonS4E",
        "colab_type": "text"
      },
      "cell_type": "markdown",
      "source": [
        "The syntax of the while loop is similar to the if statement"
      ]
    },
    {
      "metadata": {
        "id": "49D-KyxEw0Nj",
        "colab_type": "code",
        "colab": {
          "base_uri": "https://localhost:8080/",
          "height": 71
        },
        "outputId": "83dd450c-a862-4e86-a02d-2f4ce4a9240d"
      },
      "cell_type": "code",
      "source": [
        "a = 1\n",
        "while a < 5:\n",
        "  a = a * 2\n",
        "  print (a)"
      ],
      "execution_count": 24,
      "outputs": [
        {
          "output_type": "stream",
          "text": [
            "2\n",
            "4\n",
            "8\n"
          ],
          "name": "stdout"
        }
      ]
    },
    {
      "metadata": {
        "id": "Y8vHOUQmnVDC",
        "colab_type": "code",
        "colab": {
          "base_uri": "https://localhost:8080/",
          "height": 125
        },
        "outputId": "7aa909cd-159c-480e-85e2-83f9a98145bb"
      },
      "cell_type": "code",
      "source": [
        "L1 = np.ones((10))  # 10 by 1 sized numpy array, filled with 1\n",
        "j = 0\n",
        "while (1):  # identical to while(True)\n",
        "    print(j, L1[j])\n",
        "    j += 1\n",
        "    if(j==5):\n",
        "        print(\"j reached 5\")\n",
        "        break"
      ],
      "execution_count": 25,
      "outputs": [
        {
          "output_type": "stream",
          "text": [
            "0 1.0\n",
            "1 1.0\n",
            "2 1.0\n",
            "3 1.0\n",
            "4 1.0\n",
            "j reached 5\n"
          ],
          "name": "stdout"
        }
      ]
    },
    {
      "metadata": {
        "id": "bcr1xYOSEuMp",
        "colab_type": "text"
      },
      "cell_type": "markdown",
      "source": [
        "# Functions\n",
        "\n",
        "Functions are created with the def statement. A function may either have or not have a return statement to send back a return value."
      ]
    },
    {
      "metadata": {
        "id": "dT4trPZPE4HL",
        "colab_type": "code",
        "colab": {
          "base_uri": "https://localhost:8080/",
          "height": 35
        },
        "outputId": "f58cfb7b-a05d-4342-95de-64f8cc61c9c3"
      },
      "cell_type": "code",
      "source": [
        "def square(n):\n",
        "  return n * n\n",
        "a = square(3)\n",
        "print (a)"
      ],
      "execution_count": 26,
      "outputs": [
        {
          "output_type": "stream",
          "text": [
            "9\n"
          ],
          "name": "stdout"
        }
      ]
    },
    {
      "metadata": {
        "id": "l0rTalCLFCqX",
        "colab_type": "code",
        "colab": {
          "base_uri": "https://localhost:8080/",
          "height": 35
        },
        "outputId": "1783cfbd-2899-4eed-8bde-361b50f10c3b"
      },
      "cell_type": "code",
      "source": [
        "def powers(n):\n",
        "  return n**2, n**3\n",
        "print (powers(3))"
      ],
      "execution_count": 27,
      "outputs": [
        {
          "output_type": "stream",
          "text": [
            "(9, 27)\n"
          ],
          "name": "stdout"
        }
      ]
    },
    {
      "metadata": {
        "id": "P9E8JRN8Fl3V",
        "colab_type": "text"
      },
      "cell_type": "markdown",
      "source": [
        "If you pass a mutable value such as a list to a function, then the function may modify that value. For example, you might implement the Fibonacci sequence like this:"
      ]
    },
    {
      "metadata": {
        "id": "OhC1eTFbFodl",
        "colab_type": "code",
        "colab": {
          "base_uri": "https://localhost:8080/",
          "height": 35
        },
        "outputId": "6428c357-d9ae-4535-e1ca-1951e69b5c51"
      },
      "cell_type": "code",
      "source": [
        "def fibonacci(seed, n):\n",
        "  while len(seed) < n:\n",
        "    seed.append(seed[-1] + seed[-2])\n",
        "# Note: no return statement\n",
        "seed = [1, 1]\n",
        "fibonacci(seed, 10)\n",
        "print (seed)"
      ],
      "execution_count": 28,
      "outputs": [
        {
          "output_type": "stream",
          "text": [
            "[1, 1, 2, 3, 5, 8, 13, 21, 34, 55]\n"
          ],
          "name": "stdout"
        }
      ]
    },
    {
      "metadata": {
        "id": "hJpJDLaUF0qg",
        "colab_type": "text"
      },
      "cell_type": "markdown",
      "source": [
        "# Error handling\n",
        "\n",
        "It can be important for your code to be able to handle error conditions. For example, let's say that you are\n",
        "implementing a sinc function:"
      ]
    },
    {
      "metadata": {
        "id": "_DU0gsNMF7fD",
        "colab_type": "code",
        "colab": {
          "base_uri": "https://localhost:8080/",
          "height": 316
        },
        "outputId": "10691d5f-298f-42d6-c886-c9688d9c6270"
      },
      "cell_type": "code",
      "source": [
        "import math\n",
        "def sinc(x):\n",
        "  return math.sin(x) / x\n",
        "print (sinc(0))"
      ],
      "execution_count": 29,
      "outputs": [
        {
          "output_type": "error",
          "ename": "ZeroDivisionError",
          "evalue": "ignored",
          "traceback": [
            "\u001b[0;31m---------------------------------------------------------------------------\u001b[0m",
            "\u001b[0;31mZeroDivisionError\u001b[0m                         Traceback (most recent call last)",
            "\u001b[0;32m<ipython-input-29-31eacdbf7a06>\u001b[0m in \u001b[0;36m<module>\u001b[0;34m()\u001b[0m\n\u001b[1;32m      2\u001b[0m \u001b[0;32mdef\u001b[0m \u001b[0msinc\u001b[0m\u001b[0;34m(\u001b[0m\u001b[0mx\u001b[0m\u001b[0;34m)\u001b[0m\u001b[0;34m:\u001b[0m\u001b[0;34m\u001b[0m\u001b[0m\n\u001b[1;32m      3\u001b[0m   \u001b[0;32mreturn\u001b[0m \u001b[0mmath\u001b[0m\u001b[0;34m.\u001b[0m\u001b[0msin\u001b[0m\u001b[0;34m(\u001b[0m\u001b[0mx\u001b[0m\u001b[0;34m)\u001b[0m \u001b[0;34m/\u001b[0m \u001b[0mx\u001b[0m\u001b[0;34m\u001b[0m\u001b[0m\n\u001b[0;32m----> 4\u001b[0;31m \u001b[0mprint\u001b[0m \u001b[0;34m(\u001b[0m\u001b[0msinc\u001b[0m\u001b[0;34m(\u001b[0m\u001b[0;36m0\u001b[0m\u001b[0;34m)\u001b[0m\u001b[0;34m)\u001b[0m\u001b[0;34m\u001b[0m\u001b[0m\n\u001b[0m",
            "\u001b[0;32m<ipython-input-29-31eacdbf7a06>\u001b[0m in \u001b[0;36msinc\u001b[0;34m(x)\u001b[0m\n\u001b[1;32m      1\u001b[0m \u001b[0;32mimport\u001b[0m \u001b[0mmath\u001b[0m\u001b[0;34m\u001b[0m\u001b[0m\n\u001b[1;32m      2\u001b[0m \u001b[0;32mdef\u001b[0m \u001b[0msinc\u001b[0m\u001b[0;34m(\u001b[0m\u001b[0mx\u001b[0m\u001b[0;34m)\u001b[0m\u001b[0;34m:\u001b[0m\u001b[0;34m\u001b[0m\u001b[0m\n\u001b[0;32m----> 3\u001b[0;31m   \u001b[0;32mreturn\u001b[0m \u001b[0mmath\u001b[0m\u001b[0;34m.\u001b[0m\u001b[0msin\u001b[0m\u001b[0;34m(\u001b[0m\u001b[0mx\u001b[0m\u001b[0;34m)\u001b[0m \u001b[0;34m/\u001b[0m \u001b[0mx\u001b[0m\u001b[0;34m\u001b[0m\u001b[0m\n\u001b[0m\u001b[1;32m      4\u001b[0m \u001b[0mprint\u001b[0m \u001b[0;34m(\u001b[0m\u001b[0msinc\u001b[0m\u001b[0;34m(\u001b[0m\u001b[0;36m0\u001b[0m\u001b[0;34m)\u001b[0m\u001b[0;34m)\u001b[0m\u001b[0;34m\u001b[0m\u001b[0m\n",
            "\u001b[0;31mZeroDivisionError\u001b[0m: float division by zero"
          ]
        }
      ]
    },
    {
      "metadata": {
        "id": "12-nIF7xGWXx",
        "colab_type": "code",
        "colab": {
          "base_uri": "https://localhost:8080/",
          "height": 35
        },
        "outputId": "16f90ff2-e5ad-45c3-86c9-42d04f6466e6"
      },
      "cell_type": "code",
      "source": [
        "def sinc(x):\n",
        "    try:\n",
        "        result = math.sin(x) / x\n",
        "    except ZeroDivisionError:\n",
        "        result = 1\n",
        "    return result\n",
        "print (sinc(0))"
      ],
      "execution_count": 8,
      "outputs": [
        {
          "output_type": "stream",
          "text": [
            "1\n"
          ],
          "name": "stdout"
        }
      ]
    },
    {
      "metadata": {
        "id": "OVhS_KAUGnOZ",
        "colab_type": "text"
      },
      "cell_type": "markdown",
      "source": [
        "# Reading and writing files\n",
        "\n",
        "The built-in open function opens a file and returns a file object that you can use to read or write data. Here's an example of writing data to a file:"
      ]
    },
    {
      "metadata": {
        "id": "q-F-pfUAG44X",
        "colab_type": "code",
        "colab": {}
      },
      "cell_type": "code",
      "source": [
        "myfile = open('myfile.txt', 'w') # open file for writing\n",
        "myfile.write(\"red 1\\n\")\n",
        "myfile.write(\"green 2\\n\")\n",
        "myfile.write(\"blue 3\\n\")\n",
        "myfile.close()"
      ],
      "execution_count": 0,
      "outputs": []
    }
  ]
}