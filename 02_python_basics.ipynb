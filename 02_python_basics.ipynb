{
  "nbformat": 4,
  "nbformat_minor": 0,
  "metadata": {
    "colab": {
      "name": "02.python_basics",
      "version": "0.3.2",
      "provenance": [],
      "toc_visible": true,
      "include_colab_link": true
    },
    "kernelspec": {
      "name": "python3",
      "display_name": "Python 3"
    },
    "accelerator": "GPU"
  },
  "cells": [
    {
      "cell_type": "markdown",
      "metadata": {
        "id": "view-in-github",
        "colab_type": "text"
      },
      "source": [
        "[View in Colaboratory](https://colab.research.google.com/github/guitar79/OA-2018/blob/master/02_python_basics.ipynb)"
      ]
    },
    {
      "metadata": {
        "id": "hgwkawzGMlms",
        "colab_type": "text"
      },
      "cell_type": "markdown",
      "source": [
        "**Python Basics**"
      ]
    },
    {
      "metadata": {
        "id": "3g6o04iLM0AF",
        "colab_type": "text"
      },
      "cell_type": "markdown",
      "source": [
        "python 사용법에 대해 간단히 설명한다. 자세한 내용은 official Python tutorial (https://docs.python.org/3/tutorial/index.html) 을 참고하기 바란다.\n",
        "\n",
        "python package를 사용하기 위해서는 미리 설치되어 있어야 한다. pip 또는 anaconda 를 이용하여 설치할 수 있는데, anaconda (https://www.anaconda.com/download/) 를 주로 사용할 것이다."
      ]
    },
    {
      "metadata": {
        "id": "u7wfBH1zb8kW",
        "colab_type": "text"
      },
      "cell_type": "markdown",
      "source": [
        "#Importing\n",
        "\n",
        "**Theory**\n",
        "\n",
        "이름이 'numpy'인 Package는 아래와 같이 불러올 수 있다."
      ]
    },
    {
      "metadata": {
        "id": "EY-BQN5YMPrf",
        "colab_type": "code",
        "colab": {}
      },
      "cell_type": "code",
      "source": [
        "import numpy"
      ],
      "execution_count": 0,
      "outputs": []
    },
    {
      "metadata": {
        "id": "8d_K-hgVeXeQ",
        "colab_type": "text"
      },
      "cell_type": "markdown",
      "source": [
        "'astropy'라는 package의 여러 'subpackage' 중에서 이름이 'constants'인 subpackage 만을 불러올 경우에는 아래와 같이 입력한다."
      ]
    },
    {
      "metadata": {
        "id": "5sghgub9eZKN",
        "colab_type": "code",
        "colab": {}
      },
      "cell_type": "code",
      "source": [
        "!pip install astropy    # Only google colaborator for installing the packages\n",
        "from astropy import constants"
      ],
      "execution_count": 0,
      "outputs": []
    },
    {
      "metadata": {
        "id": "Zf-eK7Ipebx4",
        "colab_type": "text"
      },
      "cell_type": "markdown",
      "source": [
        "'fits' 라는 이름의 subsub package 가 있는 경우, 즉 ssub ∈ sub ∈ pkg 인 경우에는 아래와 같이 불러올 수 있다."
      ]
    },
    {
      "metadata": {
        "id": "vniR1EJoeedc",
        "colab_type": "code",
        "colab": {}
      },
      "cell_type": "code",
      "source": [
        "!pip install astropy    # Only google colaborator for installing the packages\n",
        "2\n",
        "from astropy.io import fits"
      ],
      "execution_count": 0,
      "outputs": []
    },
    {
      "metadata": {
        "id": "lnMFurH3ekpg",
        "colab_type": "text"
      },
      "cell_type": "markdown",
      "source": [
        "'matplotlib'라는 이름의 package에 'pyplot' 함수를 'plt'라는 이름으로 사용하고자 한다면 다음과 같이 입력해 준다."
      ]
    },
    {
      "metadata": {
        "id": "cdrOulInenJU",
        "colab_type": "code",
        "colab": {}
      },
      "cell_type": "code",
      "source": [
        "import matplotlib.pyplot as plt"
      ],
      "execution_count": 0,
      "outputs": []
    },
    {
      "metadata": {
        "id": "jstMCBdRepcN",
        "colab_type": "text"
      },
      "cell_type": "markdown",
      "source": [
        "(larger).(smaller).(even_smaller)와 같은 형식으로 패키지를 사용할 수 있다. 'astropy.stats'라는 이름의 package (module) 안에 있는 'sigma_clip'이라는 함수를 사용하고자 한다면 다음과 같이 입력해 준다."
      ]
    },
    {
      "metadata": {
        "id": "OGFYog8Lerc5",
        "colab_type": "code",
        "colab": {}
      },
      "cell_type": "code",
      "source": [
        "!pip install astropy  # Only google colaborator for installing the packages\n",
        "import astropy\n",
        "astropy.stats.sigma_clip()"
      ],
      "execution_count": 0,
      "outputs": []
    },
    {
      "metadata": {
        "id": "EO475o4L3tOt",
        "colab_type": "text"
      },
      "cell_type": "markdown",
      "source": [
        "# Data Types\n",
        "\n",
        "Python도 다른 프로그래밍 언어처럼 몇몇 데이터 타입이 있다. 그리고 데이터 타입을 보려면 다음과 같이 type 함수를 사용할 수 있다."
      ]
    },
    {
      "metadata": {
        "id": "HLGSMzKqdwT5",
        "colab_type": "code",
        "colab": {
          "base_uri": "https://localhost:8080/",
          "height": 119
        },
        "outputId": "ba3d75c4-0a4d-4e36-a9c8-0c8dcf87a9bd"
      },
      "cell_type": "code",
      "source": [
        "a = 3     # integer\n",
        "b = 3.14  # float (real number)\n",
        "c = 'cc'  # string\n",
        "\n",
        "print(a)  # will print 3\n",
        "print(b)  # will print 3.14\n",
        "print(c)  # will print cc\n",
        "print(type(a))   # the data types of a, b, c\n",
        "print(type(b))\n",
        "print(type(c))"
      ],
      "execution_count": 1,
      "outputs": [
        {
          "output_type": "stream",
          "text": [
            "3\n",
            "3.14\n",
            "cc\n",
            "<class 'int'>\n",
            "<class 'float'>\n",
            "<class 'str'>\n"
          ],
          "name": "stdout"
        }
      ]
    },
    {
      "metadata": {
        "id": "aL-DrUwlyee4",
        "colab_type": "text"
      },
      "cell_type": "markdown",
      "source": [
        "물론 'True', 'False' 형태도 있다. "
      ]
    },
    {
      "metadata": {
        "id": "-h4Rcn2Fd0qY",
        "colab_type": "code",
        "colab": {
          "base_uri": "https://localhost:8080/",
          "height": 119
        },
        "outputId": "99ca6e9b-5fc1-4c72-e64b-137008090658"
      },
      "cell_type": "code",
      "source": [
        "print(type(True))\n",
        "print(type(False))"
      ],
      "execution_count": 0,
      "outputs": [
        {
          "output_type": "stream",
          "text": [
            "***describe about the dataframe***\n",
            "          Vmag      Plx     B-V  SpType\n",
            "count   118218   118218  118218  115184\n",
            "unique    1127     5617    2437    4124\n",
            "top       8.69                       K0\n",
            "freq       504      263    1281    8570\n"
          ],
          "name": "stdout"
        }
      ]
    },
    {
      "metadata": {
        "id": "g8UVgtKZd4Lq",
        "colab_type": "text"
      },
      "cell_type": "markdown",
      "source": [
        "데이터가 없는 값을 'nan' 으로 넣어주자."
      ]
    },
    {
      "metadata": {
        "id": "2nj6C-VofNLC",
        "colab_type": "text"
      },
      "cell_type": "markdown",
      "source": [
        "# Index\n",
        "\n",
        "'index'는 '0' 부터 시작하며, 다음과 같은 데이터 형태들이 있다."
      ]
    },
    {
      "metadata": {
        "id": "QrEWOlmP7Wxr",
        "colab_type": "code",
        "colab": {
          "base_uri": "https://localhost:8080/",
          "height": 119
        },
        "outputId": "fba52c9b-4d5e-47dd-b7eb-8cf667f4be3f"
      },
      "cell_type": "code",
      "source": [
        "import numpy as np\n",
        "\n",
        "A = [0,1,2]            # classical Python \"list\"\n",
        "B = (0,1,2)            # classical Python \"tuple\"\n",
        "C = np.array((0,1,2))  # numpy n-dimensional array\n",
        "print('A: ', A[0], A[1], A[2])\n",
        "print('B: ', B[0], B[1], B[2])\n",
        "print('C: ', C[0], C[1], C[2])\n",
        "print('ABC: ', A, B, C)\n",
        "print('type: ', type(A), type(B), type(C))"
      ],
      "execution_count": 0,
      "outputs": [
        {
          "output_type": "stream",
          "text": [
            "***describe about df_clean***\n",
            "          Vmag     Plx     B-V  SpType\n",
            "count   118217  117955  116937  115184\n",
            "unique    1126    5616    2436    4124\n",
            "top       8.69    2.93   1.000      K0\n",
            "freq       504     183     317    8570\n"
          ],
          "name": "stdout"
        }
      ]
    },
    {
      "metadata": {
        "id": "j3arcPyufWiI",
        "colab_type": "text"
      },
      "cell_type": "markdown",
      "source": [
        "# Conditions/Loops"
      ]
    },
    {
      "metadata": {
        "id": "OVDrHgwRf5hy",
        "colab_type": "code",
        "colab": {
          "base_uri": "https://localhost:8080/",
          "height": 34
        },
        "outputId": "332fcc00-2e64-43cb-b92e-8c650b37d341"
      },
      "cell_type": "code",
      "source": [
        "x, y, z = 3, 3.14, 10-7\n",
        "if (x != y):\n",
        "    print('Different!')"
      ],
      "execution_count": 2,
      "outputs": [
        {
          "output_type": "stream",
          "text": [
            "Different!\n"
          ],
          "name": "stdout"
        }
      ]
    },
    {
      "metadata": {
        "id": "3a-emiWlloP_",
        "colab_type": "text"
      },
      "cell_type": "markdown",
      "source": [
        "...\n"
      ]
    },
    {
      "metadata": {
        "id": "GRvdzEYimD91",
        "colab_type": "code",
        "colab": {
          "base_uri": "https://localhost:8080/",
          "height": 34
        },
        "outputId": "062b1da1-75b1-417b-c735-89c1b269497d"
      },
      "cell_type": "code",
      "source": [
        "import numpy as np\n",
        "\n",
        "L  = np.arange(0, 10, 1) # numpy array with elements (0, 10) with interval 1\n",
        "L1 = np.ones((10))  # 10 by 1 sized numpy array, filled with 1\n",
        "\n",
        "for i in range(0,10):\n",
        "    if (L[i] == 9):\n",
        "        print(\"\\t'Oh it's NEIN!'\")\n",
        "        continue\n",
        "    print(L[i], end=' ') # option \"end\" sets the ending part for each print; test many cases by yourself!\n",
        "    print(L[i]==L1[i], end=' ')"
      ],
      "execution_count": 4,
      "outputs": [
        {
          "output_type": "stream",
          "text": [
            "0 False 1 True 2 False 3 False 4 False 5 False 6 False 7 False 8 False \t'Oh it's NEIN!'\n"
          ],
          "name": "stdout"
        }
      ]
    },
    {
      "metadata": {
        "id": "62OniAYonS4E",
        "colab_type": "text"
      },
      "cell_type": "markdown",
      "source": [
        "...."
      ]
    },
    {
      "metadata": {
        "id": "Y8vHOUQmnVDC",
        "colab_type": "code",
        "colab": {
          "base_uri": "https://localhost:8080/",
          "height": 221
        },
        "outputId": "479b098f-c7e1-42db-ce98-e9574a1ecf2f"
      },
      "cell_type": "code",
      "source": [
        "L1 = np.ones((10))  # 10 by 1 sized numpy array, filled with 1\n",
        "j = 0\n",
        "while (1):  # identical to while(True)\n",
        "    print(j, L1[j])\n",
        "    j += 1\n",
        "    if(j==5):\n",
        "        print(\"j reached 5\")\n",
        "        break"
      ],
      "execution_count": 0,
      "outputs": [
        {
          "output_type": "stream",
          "text": [
            "\n",
            "***shape of the df_clean***\n",
            "(111562, 6)\n",
            "\n",
            "***head of the df_clean***\n",
            "     Vmag    Plx    B-V SpType       M_V SpType2\n",
            "HIP                                             \n",
            "1    9.10   3.54  0.482     F5  1.845016      F5\n",
            "2    9.27  21.90  0.999    K3V  5.972221      K3\n",
            "3    6.61   2.81 -0.019     B9 -1.146468      B9\n",
            "4    8.06   7.75  0.370    F0V  2.506509      F0\n",
            "5    8.55   2.87  0.902  G8III  0.839409      G8\n"
          ],
          "name": "stdout"
        }
      ]
    },
    {
      "metadata": {
        "id": "QceTAlWTf6Xn",
        "colab_type": "text"
      },
      "cell_type": "markdown",
      "source": [
        "# Numpy\n",
        "\n",
        "Numpy는 자주 사용할 라이브러리 이므로 익숙해 지는 것이 좋겠다."
      ]
    },
    {
      "metadata": {
        "id": "ahuHgAhBvnSB",
        "colab_type": "code",
        "colab": {
          "base_uri": "https://localhost:8080/",
          "height": 238
        },
        "outputId": "d3e8b339-3031-4630-b19f-4a69c935275f"
      },
      "cell_type": "code",
      "source": [
        "import numpy as np\n",
        "\n",
        "num1 = np.arange(0, 11, 2) # generate numpy array (0, 11) with interval 2\n",
        "num2 = np.random.rand(6) # generate six random numbers (0,1)\n",
        "\n",
        "# Basics\n",
        "print(\"num1:\")\n",
        "print(num1)\n",
        "print(\"num2:\")\n",
        "print(num2)\n",
        "print(\"\\nnum1^2:\") # \"\\n\" means \"new line\".\n",
        "print(num1**2)           # Square each element\n",
        "print(\"\\nnum1^(0.5):\")\n",
        "print(np.sqrt(num1))     # Square root of each element\n",
        "print(\"\\nnum1 in 2 x 3 form:\")\n",
        "print(num1.reshape(2,3)) # reshape the num1 into 2 by 3 form. "
      ],
      "execution_count": 0,
      "outputs": [
        {
          "output_type": "stream",
          "text": [
            "***count number each class in df_clean***\n",
            "K    31578\n",
            "F    25201\n",
            "G    22213\n",
            "A    17651\n",
            "B    10281\n",
            "M     4212\n",
            "O      256\n",
            "C       82\n",
            "N       48\n",
            "R       23\n",
            "S       17\n",
            "Name: SpType, dtype: int64\n"
          ],
          "name": "stdout"
        }
      ]
    },
    {
      "metadata": {
        "id": "hAtwUM7axb2m",
        "colab_type": "text"
      },
      "cell_type": "markdown",
      "source": [
        "...."
      ]
    },
    {
      "metadata": {
        "id": "gosul4qgxryD",
        "colab_type": "code",
        "colab": {
          "base_uri": "https://localhost:8080/",
          "height": 170
        },
        "outputId": "c73b7ca6-19ba-4caa-871c-75a06fb6b212"
      },
      "cell_type": "code",
      "source": [
        "import numpy as np\n",
        "\n",
        "num1 = np.arange(0, 11, 2) # generate numpy array (0, 11) with interval 2\n",
        "\n",
        "# Identical to np.reshape(num1, (2,3))\n",
        "num3 = np.reshape(num1, (2,3))\n",
        "\n",
        "print(\"\\nnum3\")\n",
        "print(num3)         # all\n",
        "\n",
        "print(\"\\nnum3's row 0:\")\n",
        "print(num3[0,:])         # row 0, column all (:)\n",
        "print(\"\\nnum3's column 0:\")\n",
        "print(num3[:,0])         # row all (:), column 1\n",
        "\n",
        "print(\"\\nnum3's min/max:\")\n",
        "print(num3.min(), num3.max()) # Show at min and max value of num3\n",
        "\n",
        "# Identical to np.min(num3), np.max(num3)\n",
        "print(np.where(num3 == num3.max())) # Show at which position the maximum occurs"
      ],
      "execution_count": 0,
      "outputs": [
        {
          "output_type": "stream",
          "text": [
            "***count number each class in df_clean***\n",
            "K    31578\n",
            "F    25201\n",
            "G    22213\n",
            "A    17651\n",
            "B    10281\n",
            "M     4212\n",
            "O      256\n",
            "Name: SpType, dtype: int64\n"
          ],
          "name": "stdout"
        }
      ]
    },
    {
      "metadata": {
        "id": "p0mS_3XsyQUX",
        "colab_type": "text"
      },
      "cell_type": "markdown",
      "source": [
        "....\n"
      ]
    },
    {
      "metadata": {
        "id": "Zm-Vei-0yT6Z",
        "colab_type": "code",
        "colab": {
          "base_uri": "https://localhost:8080/",
          "height": 170
        },
        "outputId": "3e7fc06d-e975-43be-9f06-6a4218883674"
      },
      "cell_type": "code",
      "source": [
        "import numpy as np\n",
        "\n",
        "num1 = np.arange(0, 11, 2) # generate numpy array (0, 11) with interval 2\n",
        "num2 = np.random.rand(6) # generate six random numbers (0,1)\n",
        "\n",
        "# MASKING\n",
        "tf   = np.array([False, True, False, True, True, False])\n",
        "print(\"\\nnum1's selected elements:\")\n",
        "print(num1[tf])\n",
        "\n",
        "print(\"\\nnum2\")\n",
        "print(num2)\n",
        "\n",
        "tf   = (num2*10 > 3)       # Select only elements larger than 3 from num2*10\n",
        "# RHS is identical to just \"num2*10>3\"\n",
        "print(\"\\nnum2's selected elements:\")\n",
        "print(num2[tf])"
      ],
      "execution_count": 0,
      "outputs": [
        {
          "output_type": "stream",
          "text": [
            "\n",
            "***head of the df_clean***\n",
            "     Vmag    Plx    B-V SpType       M_V SpType2\n",
            "HIP                                             \n",
            "1    9.10   3.54  0.482     F5  1.845016      35\n",
            "2    9.27  21.90  0.999    K3V  5.972221      53\n",
            "3    6.61   2.81 -0.019     B9 -1.146468      19\n",
            "4    8.06   7.75  0.370    F0V  2.506509      30\n",
            "5    8.55   2.87  0.902  G8III  0.839409      48\n"
          ],
          "name": "stdout"
        }
      ]
    },
    {
      "metadata": {
        "id": "SsU0jKvzgfzH",
        "colab_type": "text"
      },
      "cell_type": "markdown",
      "source": [
        "# Matplotlib\n",
        "\n",
        "**General Concepts**\n",
        "\n",
        "matplotlib has an extensive codebase that can be daunting to many new users. However, most of matplotlib can be understood with a fairly simple conceptual framework and knowledge of a few important points.\n",
        "\n",
        "\n",
        "**Note**\n",
        "\n",
        "Pyplot's state-machine environment behaves similarly to MATLAB and should be most familiar to users with MATLAB experience.\n",
        "\n",
        "**Parts of a Figure**\n",
        "\n",
        "https://matplotlib.org/_images/anatomy.png\n",
        "\n",
        "![Parts of figure](https://matplotlib.org/_images/anatomy.png)"
      ]
    },
    {
      "metadata": {
        "id": "JIh_YWgCyl6z",
        "colab_type": "code",
        "colab": {
          "base_uri": "https://localhost:8080/",
          "height": 351
        },
        "outputId": "2afd3ab4-040e-4172-92b2-218b63c55e15"
      },
      "cell_type": "code",
      "source": [
        "# https://matplotlib.org/tutorials/introductory/pyplot.html#sphx-glr-tutorials-introductory-pyplot-py\n",
        "import matplotlib.pyplot as plt\n",
        "\n",
        "#  every x, y pair of arguments, there is an optional third argument which is the format string that indicates the color and line type of the plot.\n",
        "plt.plot([1, 2, 3, 4], [1, 4, 9, 16], 'ro') \n",
        "\n",
        "#  x, y axis range.\n",
        "plt.axis([0, 6, 0, 20])\n",
        "\n",
        "plt.show()"
      ],
      "execution_count": 5,
      "outputs": [
        {
          "output_type": "display_data",
          "data": {
            "image/png": "[encoded data removed]",
            "text/plain": [
              "<matplotlib.figure.Figure at 0x7ff8e631a4a8>"
            ]
          },
          "metadata": {
            "tags": []
          }
        }
      ]
    },
    {
      "metadata": {
        "id": "xou_AaZHmLXj",
        "colab_type": "code",
        "colab": {}
      },
      "cell_type": "code",
      "source": [
        "# https://matplotlib.org/tutorials/introductory/pyplot.html#sphx-glr-tutorials-introductory-pyplot-py\n",
        "import matplotlib.pyplot as plt\n",
        "import numpy as np\n",
        "\n",
        "# evenly sampled time at 200ms intervals\n",
        "t = np.arange(0., 5., 0.2)\n",
        "\n",
        "# red dashes, blue squares and green triangles\n",
        "plt.plot(t, t, 'r--', t, t**2, 'bs', t, t**3, 'g^')\n",
        "plt.show()"
      ],
      "execution_count": 0,
      "outputs": []
    },
    {
      "metadata": {
        "id": "RToyju0RmPhZ",
        "colab_type": "code",
        "colab": {}
      },
      "cell_type": "code",
      "source": [
        "# https://matplotlib.org/tutorials/introductory/pyplot.html#sphx-glr-tutorials-introductory-pyplot-py\n",
        "import matplotlib.pyplot as plt\n",
        "import numpy as np\n",
        "\n",
        "# evenly sampled time at 200ms intervals\n",
        "t = np.arange(0., 5., 0.2)\n",
        "\n",
        "# red dashes, blue squares and green triangles\n",
        "plt.plot(t, t, 'r--', t, t**2, 'bs', t, t**3, 'g^')\n",
        "\n",
        "plt.title('H-R Diagrams')\n",
        "plt.show()"
      ],
      "execution_count": 0,
      "outputs": []
    },
    {
      "metadata": {
        "id": "yLOGzem-mSyL",
        "colab_type": "code",
        "colab": {}
      },
      "cell_type": "code",
      "source": [
        "# https://matplotlib.org/tutorials/introductory/usage.html#sphx-glr-tutorials-introductory-usage-py\n",
        "# sphinx_gallery_thumbnail_number = 3\n",
        "\n",
        "import matplotlib.pyplot as plt\n",
        "import numpy as np\n",
        "\n",
        "fig = plt.figure()  # an empty figure with no axes\n",
        "fig.suptitle('No axes on this figure')  # Add a title so we know which it is\n",
        "\n",
        "fig, ax_lst = plt.subplots(2, 2)  # a figure with a 2x2 grid of Axes"
      ],
      "execution_count": 0,
      "outputs": []
    },
    {
      "metadata": {
        "id": "8qpKiE1bmWBA",
        "colab_type": "code",
        "colab": {}
      },
      "cell_type": "code",
      "source": [
        "# https://matplotlib.org/tutorials/introductory/usage.html#sphx-glr-tutorials-introductory-usage-py\n",
        "# sphinx_gallery_thumbnail_number = 3\n",
        "\n",
        "import matplotlib.pyplot as plt\n",
        "import numpy as np\n",
        "\n",
        "x = np.linspace(0, 2, 100)\n",
        "\n",
        "plt.plot(x, x, label='linear')\n",
        "plt.plot(x, x**2, label='quadratic')\n",
        "plt.plot(x, x**3, label='cubic')\n",
        "\n",
        "plt.xlabel('x label')\n",
        "plt.ylabel('y label')\n",
        "\n",
        "plt.title(\"Simple Plot\")\n",
        "\n",
        "plt.legend()\n",
        "\n",
        "plt.show()"
      ],
      "execution_count": 0,
      "outputs": []
    },
    {
      "metadata": {
        "id": "gBNtM6GMmZMs",
        "colab_type": "code",
        "colab": {}
      },
      "cell_type": "code",
      "source": [
        "import matplotlib.pyplot as plt\n",
        "plt.ion()\n",
        "plt.plot([1.6, 2.7])\n",
        "plt.title(\"interactive test\")\n",
        "plt.xlabel(\"index\")\n",
        "ax = plt.gca()\n",
        "ax.plot([3.1, 2.2])\n",
        "plt.draw()"
      ],
      "execution_count": 0,
      "outputs": []
    },
    {
      "metadata": {
        "id": "ci4oceX1mcH_",
        "colab_type": "code",
        "colab": {}
      },
      "cell_type": "code",
      "source": [
        "import matplotlib.pyplot as plt\n",
        "plt.ioff()\n",
        "plt.plot([1.6, 2.7])\n",
        "plt.show()"
      ],
      "execution_count": 0,
      "outputs": []
    },
    {
      "metadata": {
        "id": "htFLteW_meW2",
        "colab_type": "code",
        "colab": {}
      },
      "cell_type": "code",
      "source": [
        "import numpy as np\n",
        "import matplotlib.pyplot as plt\n",
        "\n",
        "plt.ioff()\n",
        "for i in range(3):\n",
        "    plt.plot(np.random.rand(10))\n",
        "    plt.show()"
      ],
      "execution_count": 0,
      "outputs": []
    },
    {
      "metadata": {
        "id": "Us5XibN7mg6w",
        "colab_type": "code",
        "colab": {}
      },
      "cell_type": "code",
      "source": [
        "import numpy as np\n",
        "import matplotlib.pyplot as plt\n",
        "\n",
        "plt.ioff()\n",
        "for i in range(3):\n",
        "    plt.plot(np.random.rand(10))\n",
        "    plt.draw()"
      ],
      "execution_count": 0,
      "outputs": []
    },
    {
      "metadata": {
        "id": "98EJvLDLmjfe",
        "colab_type": "code",
        "colab": {}
      },
      "cell_type": "code",
      "source": [
        "import numpy as np\n",
        "import matplotlib.pyplot as plt\n",
        "\n",
        "x = np.arange(0, 10, 0.2)\n",
        "y = np.sin(x)\n",
        "fig, ax = plt.subplots()\n",
        "ax.plot(x, y)\n",
        "plt.show()"
      ],
      "execution_count": 0,
      "outputs": []
    },
    {
      "metadata": {
        "id": "eAme2oBcmli9",
        "colab_type": "code",
        "colab": {}
      },
      "cell_type": "code",
      "source": [
        "import matplotlib.pyplot as plt\n",
        "import numpy as np\n",
        "\n",
        "x = np.linspace(0, 2 * np.pi, 20)\n",
        "y = np.sin(x)\n",
        "print ('length of x :', len(x))\n",
        "print ('x :', x)\n",
        "\n",
        "fig, ax = plt.subplots()\n",
        "ax.plot(x, y, 'o')\n",
        "plt.show()"
      ],
      "execution_count": 0,
      "outputs": []
    },
    {
      "metadata": {
        "id": "zb6PmScOmocb",
        "colab_type": "code",
        "colab": {
          "base_uri": "https://localhost:8080/",
          "height": 653
        },
        "outputId": "0fc25ebf-0305-4f5b-bfc9-41da8ac6c272"
      },
      "cell_type": "code",
      "source": [
        "import matplotlib.pyplot as plt\n",
        "import numpy as np\n",
        "\n",
        "x = np.linspace(0, 2 * np.pi, 20)\n",
        "y = np.sin(x)\n",
        "yp = None\n",
        "\n",
        "xi = np.linspace(x[0], x[-1], 100)\n",
        "yi = np.interp(xi, x, y, yp)\n",
        "\n",
        "print ('length of xi :', len(xi))\n",
        "print ('xi :', xi)\n",
        "\n",
        "fig, ax = plt.subplots()\n",
        "ax.plot(x, y, 'o', xi, yi, '.')\n",
        "plt.show()"
      ],
      "execution_count": 6,
      "outputs": [
        {
          "output_type": "stream",
          "text": [
            "length of xi : 100\n",
            "xi : [0.         0.06346652 0.12693304 0.19039955 0.25386607 0.31733259\n",
            " 0.38079911 0.44426563 0.50773215 0.57119866 0.63466518 0.6981317\n",
            " 0.76159822 0.82506474 0.88853126 0.95199777 1.01546429 1.07893081\n",
            " 1.14239733 1.20586385 1.26933037 1.33279688 1.3962634  1.45972992\n",
            " 1.52319644 1.58666296 1.65012947 1.71359599 1.77706251 1.84052903\n",
            " 1.90399555 1.96746207 2.03092858 2.0943951  2.15786162 2.22132814\n",
            " 2.28479466 2.34826118 2.41172769 2.47519421 2.53866073 2.60212725\n",
            " 2.66559377 2.72906028 2.7925268  2.85599332 2.91945984 2.98292636\n",
            " 3.04639288 3.10985939 3.17332591 3.23679243 3.30025895 3.36372547\n",
            " 3.42719199 3.4906585  3.55412502 3.61759154 3.68105806 3.74452458\n",
            " 3.8079911  3.87145761 3.93492413 3.99839065 4.06185717 4.12532369\n",
            " 4.1887902  4.25225672 4.31572324 4.37918976 4.44265628 4.5061228\n",
            " 4.56958931 4.63305583 4.69652235 4.75998887 4.82345539 4.88692191\n",
            " 4.95038842 5.01385494 5.07732146 5.14078798 5.2042545  5.26772102\n",
            " 5.33118753 5.39465405 5.45812057 5.52158709 5.58505361 5.64852012\n",
            " 5.71198664 5.77545316 5.83891968 5.9023862  5.96585272 6.02931923\n",
            " 6.09278575 6.15625227 6.21971879 6.28318531]\n"
          ],
          "name": "stdout"
        },
        {
          "output_type": "display_data",
          "data": {
            "image/png": "[encoded data removed]",
            "text/plain": [
              "<matplotlib.figure.Figure at 0x7ff8e61f8630>"
            ]
          },
          "metadata": {
            "tags": []
          }
        }
      ]
    }
  ]
}