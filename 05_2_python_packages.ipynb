{
  "nbformat": 4,
  "nbformat_minor": 0,
  "metadata": {
    "colab": {
      "name": "05-2.python_packages",
      "version": "0.3.2",
      "provenance": [],
      "toc_visible": true,
      "include_colab_link": true
    },
    "kernelspec": {
      "name": "python3",
      "display_name": "Python 3"
    },
    "accelerator": "GPU"
  },
  "cells": [
    {
      "cell_type": "markdown",
      "metadata": {
        "id": "view-in-github",
        "colab_type": "text"
      },
      "source": [
        "[View in Colaboratory](https://colab.research.google.com/github/guitar79/OA-2018/blob/master/05_2_python_packages.ipynb)"
      ]
    },
    {
      "metadata": {
        "id": "3g6o04iLM0AF",
        "colab_type": "text"
      },
      "cell_type": "markdown",
      "source": [
        "python 사용법에 대해 간단히 설명한다. 자세한 내용은 official Python tutorial (https://docs.python.org/3/tutorial/index.html) 을 참고하기 바란다."
      ]
    },
    {
      "metadata": {
        "id": "rhRtkSm5SeXU",
        "colab_type": "text"
      },
      "cell_type": "markdown",
      "source": [
        "# Install Python packages\n",
        "\n",
        "python package를 사용하기 위해서는 미리 설치되어 있어야 한다. pip 또는 anaconda 를 이용하여 설치할 수 있는데, anaconda (https://www.anaconda.com/download/) 를 주로 사용할 것이다.\n",
        "\n",
        " Anaconda prompt에서 다음과 같이 입력하여 package를 설치할 수 있다.\n",
        "\n",
        ">conda install astropy"
      ]
    },
    {
      "metadata": {
        "id": "u7wfBH1zb8kW",
        "colab_type": "text"
      },
      "cell_type": "markdown",
      "source": [
        "#Importing\n",
        "\n",
        "**Theory**\n",
        "\n",
        "이름이 'math'인 Package는 아래와 같이 불러올 수 있다."
      ]
    },
    {
      "metadata": {
        "id": "EY-BQN5YMPrf",
        "colab_type": "code",
        "colab": {
          "base_uri": "https://localhost:8080/",
          "height": 35
        },
        "outputId": "058bc9b9-5f2d-4863-c8d5-597efed948a6"
      },
      "cell_type": "code",
      "source": [
        "import math\n",
        "math.log(math.e)"
      ],
      "execution_count": 0,
      "outputs": [
        {
          "output_type": "execute_result",
          "data": {
            "text/plain": [
              "1.0"
            ]
          },
          "metadata": {
            "tags": []
          },
          "execution_count": 63
        }
      ]
    },
    {
      "metadata": {
        "id": "8d_K-hgVeXeQ",
        "colab_type": "text"
      },
      "cell_type": "markdown",
      "source": [
        "'math'라는 package의 여러 'subpackage' 중에서 이름이 'pi'인 subpackage 만을 불러올 경우에는 아래와 같이 입력한다."
      ]
    },
    {
      "metadata": {
        "id": "5sghgub9eZKN",
        "colab_type": "code",
        "colab": {
          "base_uri": "https://localhost:8080/",
          "height": 35
        },
        "outputId": "711a7ec9-04e6-4661-e411-c1b9409913e3"
      },
      "cell_type": "code",
      "source": [
        "from math import pi\n",
        "pi"
      ],
      "execution_count": 0,
      "outputs": [
        {
          "output_type": "execute_result",
          "data": {
            "text/plain": [
              "3.141592653589793"
            ]
          },
          "metadata": {
            "tags": []
          },
          "execution_count": 64
        }
      ]
    },
    {
      "metadata": {
        "id": "Zf-eK7Ipebx4",
        "colab_type": "text"
      },
      "cell_type": "markdown",
      "source": [
        "'fits' 라는 이름의 subsub package 가 있는 경우, 즉 ssub ∈ sub ∈ pkg 인 경우에는 아래와 같이 불러올 수 있다."
      ]
    },
    {
      "metadata": {
        "id": "vniR1EJoeedc",
        "colab_type": "code",
        "colab": {
          "base_uri": "https://localhost:8080/",
          "height": 53
        },
        "outputId": "de58907a-d2f7-4180-b20a-89d38ac540b4"
      },
      "cell_type": "code",
      "source": [
        "!pip install astropy    # Only google colaborator for installing the packages\n",
        "from astropy.io import fits"
      ],
      "execution_count": 0,
      "outputs": [
        {
          "output_type": "stream",
          "text": [
            "Requirement already satisfied: astropy in /usr/local/lib/python3.6/dist-packages (3.0.4)\n",
            "Requirement already satisfied: numpy>=1.10.0 in /usr/local/lib/python3.6/dist-packages (from astropy) (1.14.6)\n"
          ],
          "name": "stdout"
        }
      ]
    },
    {
      "metadata": {
        "id": "lnMFurH3ekpg",
        "colab_type": "text"
      },
      "cell_type": "markdown",
      "source": [
        "'matplotlib'라는 이름의 package에 'pyplot' 함수를 'plt'라는 이름으로 사용하고자 한다면 다음과 같이 입력해 준다."
      ]
    },
    {
      "metadata": {
        "id": "cdrOulInenJU",
        "colab_type": "code",
        "colab": {}
      },
      "cell_type": "code",
      "source": [
        "import matplotlib.pyplot as plt"
      ],
      "execution_count": 0,
      "outputs": []
    },
    {
      "metadata": {
        "id": "jstMCBdRepcN",
        "colab_type": "text"
      },
      "cell_type": "markdown",
      "source": [
        "(larger).(smaller).(even_smaller)와 같은 형식으로 패키지를 사용할 수 있다. 'numpy.random'라는 이름의 package (module) 안에 있는 'rand', 'max' 등의 함수를 사용하고자 한다면 다음과 같이 입력해 준다."
      ]
    },
    {
      "metadata": {
        "id": "OGFYog8Lerc5",
        "colab_type": "code",
        "colab": {
          "base_uri": "https://localhost:8080/",
          "height": 53
        },
        "outputId": "f747222c-86ce-4137-976c-1521454cd16e"
      },
      "cell_type": "code",
      "source": [
        "import numpy\n",
        "a = numpy.random.rand(6)\n",
        "print(a)\n",
        "numpy.ndarray.max(a)"
      ],
      "execution_count": 0,
      "outputs": [
        {
          "output_type": "stream",
          "text": [
            "[0.8444461  0.14241036 0.49578847 0.29401797 0.37269172 0.82657026]\n"
          ],
          "name": "stdout"
        },
        {
          "output_type": "execute_result",
          "data": {
            "text/plain": [
              "0.844446101478588"
            ]
          },
          "metadata": {
            "tags": []
          },
          "execution_count": 77
        }
      ]
    },
    {
      "metadata": {
        "id": "bb1LOvk_VnIS",
        "colab_type": "text"
      },
      "cell_type": "markdown",
      "source": [
        "**Strings **\n",
        "\n"
      ]
    },
    {
      "metadata": {
        "id": "QceTAlWTf6Xn",
        "colab_type": "text"
      },
      "cell_type": "markdown",
      "source": [
        "# Numpy\n",
        "\n",
        "Numpy는 자주 사용할 라이브러리 이므로 익숙해 지는 것이 좋겠다."
      ]
    },
    {
      "metadata": {
        "id": "ahuHgAhBvnSB",
        "colab_type": "code",
        "colab": {
          "base_uri": "https://localhost:8080/",
          "height": 269
        },
        "outputId": "7554717d-d826-41e6-dd9e-2a5c9997c033"
      },
      "cell_type": "code",
      "source": [
        "import numpy as np\n",
        "\n",
        "num1 = np.arange(0, 11, 2) # generate numpy array (0, 11) with interval 2\n",
        "num2 = np.random.rand(6) # generate six random numbers (0,1)\n",
        "\n",
        "# Basics\n",
        "print(\"num1:\")\n",
        "print(num1)\n",
        "print(\"num2:\")\n",
        "print(num2)\n",
        "print(\"\\nnum1^2:\") # \"\\n\" means \"new line\".\n",
        "print(num1**2)           # Square each element\n",
        "print(\"\\nnum1^(0.5):\")\n",
        "print(np.sqrt(num1))     # Square root of each element\n",
        "print(\"\\nnum1 in 2 x 3 form:\")\n",
        "print(num1.reshape(2,3)) # reshape the num1 into 2 by 3 form. "
      ],
      "execution_count": 0,
      "outputs": [
        {
          "output_type": "stream",
          "text": [
            "num1:\n",
            "[ 0  2  4  6  8 10]\n",
            "num2:\n",
            "[0.97621778 0.21197496 0.44492375 0.60281728 0.77157034 0.38668474]\n",
            "\n",
            "num1^2:\n",
            "[  0   4  16  36  64 100]\n",
            "\n",
            "num1^(0.5):\n",
            "[0.         1.41421356 2.         2.44948974 2.82842712 3.16227766]\n",
            "\n",
            "num1 in 2 x 3 form:\n",
            "[[ 0  2  4]\n",
            " [ 6  8 10]]\n"
          ],
          "name": "stdout"
        }
      ]
    },
    {
      "metadata": {
        "id": "hAtwUM7axb2m",
        "colab_type": "text"
      },
      "cell_type": "markdown",
      "source": [
        "...."
      ]
    },
    {
      "metadata": {
        "id": "gosul4qgxryD",
        "colab_type": "code",
        "colab": {
          "base_uri": "https://localhost:8080/",
          "height": 269
        },
        "outputId": "52f43814-c761-4f35-c18b-7ab817747057"
      },
      "cell_type": "code",
      "source": [
        "import numpy as np\n",
        "\n",
        "num1 = np.arange(0, 11, 2) # generate numpy array (0, 11) with interval 2\n",
        "\n",
        "# Identical to np.reshape(num1, (2,3))\n",
        "num3 = np.reshape(num1, (2,3))\n",
        "\n",
        "print(\"\\nnum3\")\n",
        "print(num3)         # all\n",
        "\n",
        "print(\"\\nnum3's row 0:\")\n",
        "print(num3[0,:])         # row 0, column all (:)\n",
        "print(\"\\nnum3's column 0:\")\n",
        "print(num3[:,0])         # row all (:), column 1\n",
        "\n",
        "print(\"\\nnum3's min/max:\")\n",
        "print(num3.min(), num3.max()) # Show at min and max value of num3\n",
        "\n",
        "# Identical to np.min(num3), np.max(num3)\n",
        "print(np.where(num3 == num3.max())) # Show at which position the maximum occurs"
      ],
      "execution_count": 0,
      "outputs": [
        {
          "output_type": "stream",
          "text": [
            "\n",
            "num3\n",
            "[[ 0  2  4]\n",
            " [ 6  8 10]]\n",
            "\n",
            "num3's row 0:\n",
            "[0 2 4]\n",
            "\n",
            "num3's column 0:\n",
            "[0 6]\n",
            "\n",
            "num3's min/max:\n",
            "0 10\n",
            "(array([1]), array([2]))\n"
          ],
          "name": "stdout"
        }
      ]
    },
    {
      "metadata": {
        "id": "p0mS_3XsyQUX",
        "colab_type": "text"
      },
      "cell_type": "markdown",
      "source": [
        "....\n"
      ]
    },
    {
      "metadata": {
        "id": "Zm-Vei-0yT6Z",
        "colab_type": "code",
        "colab": {
          "base_uri": "https://localhost:8080/",
          "height": 179
        },
        "outputId": "75a957ff-bfae-42de-bed5-b8b53f6e3f7f"
      },
      "cell_type": "code",
      "source": [
        "import numpy as np\n",
        "\n",
        "num1 = np.arange(0, 11, 2) # generate numpy array (0, 11) with interval 2\n",
        "num2 = np.random.rand(6) # generate six random numbers (0,1)\n",
        "\n",
        "# MASKING\n",
        "tf   = np.array([False, True, False, True, True, False])\n",
        "print(\"\\nnum1's selected elements:\")\n",
        "print(num1[tf])\n",
        "\n",
        "print(\"\\nnum2\")\n",
        "print(num2)\n",
        "\n",
        "tf   = (num2*10 > 3)       # Select only elements larger than 3 from num2*10\n",
        "# RHS is identical to just \"num2*10>3\"\n",
        "print(\"\\nnum2's selected elements:\")\n",
        "print(num2[tf])"
      ],
      "execution_count": 0,
      "outputs": [
        {
          "output_type": "stream",
          "text": [
            "\n",
            "num1's selected elements:\n",
            "[2 6 8]\n",
            "\n",
            "num2\n",
            "[0.53735509 0.0935742  0.8304578  0.80182429 0.94186178 0.01595245]\n",
            "\n",
            "num2's selected elements:\n",
            "[0.53735509 0.8304578  0.80182429 0.94186178]\n"
          ],
          "name": "stdout"
        }
      ]
    },
    {
      "metadata": {
        "id": "SsU0jKvzgfzH",
        "colab_type": "text"
      },
      "cell_type": "markdown",
      "source": [
        "# Matplotlib\n",
        "\n",
        "**General Concepts**\n",
        "\n",
        "matplotlib has an extensive codebase that can be daunting to many new users. However, most of matplotlib can be understood with a fairly simple conceptual framework and knowledge of a few important points.\n",
        "\n",
        "\n",
        "**Note**\n",
        "\n",
        "Pyplot's state-machine environment behaves similarly to MATLAB and should be most familiar to users with MATLAB experience.\n",
        "\n",
        "**Parts of a Figure**\n",
        "\n",
        "https://matplotlib.org/_images/anatomy.png\n",
        "\n",
        "![Parts of figure](https://matplotlib.org/_images/anatomy.png)"
      ]
    },
    {
      "metadata": {
        "id": "JIh_YWgCyl6z",
        "colab_type": "code",
        "colab": {
          "base_uri": "https://localhost:8080/",
          "height": 351
        },
        "outputId": "2afd3ab4-040e-4172-92b2-218b63c55e15"
      },
      "cell_type": "code",
      "source": [
        "# https://matplotlib.org/tutorials/introductory/pyplot.html#sphx-glr-tutorials-introductory-pyplot-py\n",
        "import matplotlib.pyplot as plt\n",
        "\n",
        "#  every x, y pair of arguments, there is an optional third argument which is the format string that indicates the color and line type of the plot.\n",
        "plt.plot([1, 2, 3, 4], [1, 4, 9, 16], 'ro') \n",
        "\n",
        "#  x, y axis range.\n",
        "plt.axis([0, 6, 0, 20])\n",
        "\n",
        "plt.show()"
      ],
      "execution_count": 0,
      "outputs": [
        {
          "output_type": "display_data",
          "data": {
            "image/png": "[encoded data removed]",
            "text/plain": [
              "<matplotlib.figure.Figure at 0x7ff8e631a4a8>"
            ]
          },
          "metadata": {
            "tags": []
          }
        }
      ]
    },
    {
      "metadata": {
        "id": "4p6MXWTc-25K",
        "colab_type": "code",
        "colab": {
          "base_uri": "https://localhost:8080/",
          "height": 365
        },
        "outputId": "1ef5917b-2193-41d5-f3bf-62a7ed7eb3fb"
      },
      "cell_type": "code",
      "source": [
        "import matplotlib.pyplot as plt\n",
        "\n",
        "#  every x, y pair of arguments, there is an optional third argument which is the format string that indicates the color and line type of the plot.\n",
        "plt.plot([1, 2, 3, 4], [1, 4, 9, 16], 'ro') \n",
        "\n",
        "#  x, y axis range.\n",
        "plt.axis([0, 6, 0, 20])\n",
        "\n",
        "plt.xlabel('XXXX xxxx')\n",
        "plt.ylabel('YYYY yyyy')\n",
        "\n",
        "plt.xticks(np.arange(6), ('','Tom', 'Dick', 'Harry', 'Sally','Sue'))\n",
        "\n",
        "plt.show()"
      ],
      "execution_count": 0,
      "outputs": [
        {
          "output_type": "display_data",
          "data": {
            "image/png": "[encoded data removed]",
            "text/plain": [
              "<matplotlib.figure.Figure at 0x7f7a769c1eb8>"
            ]
          },
          "metadata": {
            "tags": []
          }
        }
      ]
    },
    {
      "metadata": {
        "id": "xou_AaZHmLXj",
        "colab_type": "code",
        "colab": {
          "base_uri": "https://localhost:8080/",
          "height": 347
        },
        "outputId": "bd6e8426-79a2-4e24-faf7-fa9251bb9e28"
      },
      "cell_type": "code",
      "source": [
        "# https://matplotlib.org/tutorials/introductory/pyplot.html#sphx-glr-tutorials-introductory-pyplot-py\n",
        "import matplotlib.pyplot as plt\n",
        "import numpy as np\n",
        "\n",
        "# evenly sampled time at 200ms intervals\n",
        "t = np.arange(0., 5., 0.2)\n",
        "\n",
        "# red dashes, blue squares and green triangles\n",
        "plt.plot(t, t, 'r--', t, t**2, 'bs', t, t**3, 'g^')\n",
        "plt.show()"
      ],
      "execution_count": 0,
      "outputs": [
        {
          "output_type": "display_data",
          "data": {
            "image/png": "[encoded data removed]",
            "text/plain": [
              "<matplotlib.figure.Figure at 0x7f7a797ac278>"
            ]
          },
          "metadata": {
            "tags": []
          }
        }
      ]
    },
    {
      "metadata": {
        "id": "RToyju0RmPhZ",
        "colab_type": "code",
        "colab": {}
      },
      "cell_type": "code",
      "source": [
        "# https://matplotlib.org/tutorials/introductory/pyplot.html#sphx-glr-tutorials-introductory-pyplot-py\n",
        "import matplotlib.pyplot as plt\n",
        "import numpy as np\n",
        "\n",
        "# evenly sampled time at 200ms intervals\n",
        "t = np.arange(0., 5., 0.2)\n",
        "\n",
        "# red dashes, blue squares and green triangles\n",
        "plt.plot(t, t, 'r--', t, t**2, 'bs', t, t**3, 'g^')\n",
        "\n",
        "plt.title('H-R Diagrams')\n",
        "plt.show()"
      ],
      "execution_count": 0,
      "outputs": []
    },
    {
      "metadata": {
        "id": "yLOGzem-mSyL",
        "colab_type": "code",
        "colab": {}
      },
      "cell_type": "code",
      "source": [
        "# https://matplotlib.org/tutorials/introductory/usage.html#sphx-glr-tutorials-introductory-usage-py\n",
        "# sphinx_gallery_thumbnail_number = 3\n",
        "\n",
        "import matplotlib.pyplot as plt\n",
        "import numpy as np\n",
        "\n",
        "fig = plt.figure()  # an empty figure with no axes\n",
        "fig.suptitle('No axes on this figure')  # Add a title so we know which it is\n",
        "\n",
        "fig, ax_lst = plt.subplots(2, 2)  # a figure with a 2x2 grid of Axes"
      ],
      "execution_count": 0,
      "outputs": []
    },
    {
      "metadata": {
        "id": "8qpKiE1bmWBA",
        "colab_type": "code",
        "colab": {}
      },
      "cell_type": "code",
      "source": [
        "# https://matplotlib.org/tutorials/introductory/usage.html#sphx-glr-tutorials-introductory-usage-py\n",
        "# sphinx_gallery_thumbnail_number = 3\n",
        "\n",
        "import matplotlib.pyplot as plt\n",
        "import numpy as np\n",
        "\n",
        "x = np.linspace(0, 2, 100)\n",
        "\n",
        "plt.plot(x, x, label='linear')\n",
        "plt.plot(x, x**2, label='quadratic')\n",
        "plt.plot(x, x**3, label='cubic')\n",
        "\n",
        "plt.xlabel('x label')\n",
        "plt.ylabel('y label')\n",
        "\n",
        "plt.title(\"Simple Plot\")\n",
        "\n",
        "plt.legend()\n",
        "\n",
        "plt.show()"
      ],
      "execution_count": 0,
      "outputs": []
    },
    {
      "metadata": {
        "id": "gBNtM6GMmZMs",
        "colab_type": "code",
        "colab": {}
      },
      "cell_type": "code",
      "source": [
        "import matplotlib.pyplot as plt\n",
        "plt.ion()\n",
        "plt.plot([1.6, 2.7])\n",
        "plt.title(\"interactive test\")\n",
        "plt.xlabel(\"index\")\n",
        "ax = plt.gca()\n",
        "ax.plot([3.1, 2.2])\n",
        "plt.draw()"
      ],
      "execution_count": 0,
      "outputs": []
    },
    {
      "metadata": {
        "id": "ci4oceX1mcH_",
        "colab_type": "code",
        "colab": {}
      },
      "cell_type": "code",
      "source": [
        "import matplotlib.pyplot as plt\n",
        "plt.ioff()\n",
        "plt.plot([1.6, 2.7])\n",
        "plt.show()"
      ],
      "execution_count": 0,
      "outputs": []
    },
    {
      "metadata": {
        "id": "htFLteW_meW2",
        "colab_type": "code",
        "colab": {}
      },
      "cell_type": "code",
      "source": [
        "import numpy as np\n",
        "import matplotlib.pyplot as plt\n",
        "\n",
        "plt.ioff()\n",
        "for i in range(3):\n",
        "    plt.plot(np.random.rand(10))\n",
        "    plt.show()"
      ],
      "execution_count": 0,
      "outputs": []
    },
    {
      "metadata": {
        "id": "Us5XibN7mg6w",
        "colab_type": "code",
        "colab": {}
      },
      "cell_type": "code",
      "source": [
        "import numpy as np\n",
        "import matplotlib.pyplot as plt\n",
        "\n",
        "plt.ioff()\n",
        "for i in range(3):\n",
        "    plt.plot(np.random.rand(10))\n",
        "    plt.draw()"
      ],
      "execution_count": 0,
      "outputs": []
    },
    {
      "metadata": {
        "id": "98EJvLDLmjfe",
        "colab_type": "code",
        "colab": {}
      },
      "cell_type": "code",
      "source": [
        "import numpy as np\n",
        "import matplotlib.pyplot as plt\n",
        "\n",
        "x = np.arange(0, 10, 0.2)\n",
        "y = np.sin(x)\n",
        "fig, ax = plt.subplots()\n",
        "ax.plot(x, y)\n",
        "plt.show()"
      ],
      "execution_count": 0,
      "outputs": []
    },
    {
      "metadata": {
        "id": "eAme2oBcmli9",
        "colab_type": "code",
        "colab": {}
      },
      "cell_type": "code",
      "source": [
        "import matplotlib.pyplot as plt\n",
        "import numpy as np\n",
        "\n",
        "x = np.linspace(0, 2 * np.pi, 20)\n",
        "y = np.sin(x)\n",
        "print ('length of x :', len(x))\n",
        "print ('x :', x)\n",
        "\n",
        "fig, ax = plt.subplots()\n",
        "ax.plot(x, y, 'o')\n",
        "plt.show()"
      ],
      "execution_count": 0,
      "outputs": []
    },
    {
      "metadata": {
        "id": "zb6PmScOmocb",
        "colab_type": "code",
        "colab": {
          "base_uri": "https://localhost:8080/",
          "height": 653
        },
        "outputId": "0fc25ebf-0305-4f5b-bfc9-41da8ac6c272"
      },
      "cell_type": "code",
      "source": [
        "import matplotlib.pyplot as plt\n",
        "import numpy as np\n",
        "\n",
        "x = np.linspace(0, 2 * np.pi, 20)\n",
        "y = np.sin(x)\n",
        "yp = None\n",
        "\n",
        "xi = np.linspace(x[0], x[-1], 100)\n",
        "yi = np.interp(xi, x, y, yp)\n",
        "\n",
        "print ('length of xi :', len(xi))\n",
        "print ('xi :', xi)\n",
        "\n",
        "fig, ax = plt.subplots()\n",
        "ax.plot(x, y, 'o', xi, yi, '.')\n",
        "plt.show()"
      ],
      "execution_count": 0,
      "outputs": [
        {
          "output_type": "stream",
          "text": [
            "length of xi : 100\n",
            "xi : [0.         0.06346652 0.12693304 0.19039955 0.25386607 0.31733259\n",
            " 0.38079911 0.44426563 0.50773215 0.57119866 0.63466518 0.6981317\n",
            " 0.76159822 0.82506474 0.88853126 0.95199777 1.01546429 1.07893081\n",
            " 1.14239733 1.20586385 1.26933037 1.33279688 1.3962634  1.45972992\n",
            " 1.52319644 1.58666296 1.65012947 1.71359599 1.77706251 1.84052903\n",
            " 1.90399555 1.96746207 2.03092858 2.0943951  2.15786162 2.22132814\n",
            " 2.28479466 2.34826118 2.41172769 2.47519421 2.53866073 2.60212725\n",
            " 2.66559377 2.72906028 2.7925268  2.85599332 2.91945984 2.98292636\n",
            " 3.04639288 3.10985939 3.17332591 3.23679243 3.30025895 3.36372547\n",
            " 3.42719199 3.4906585  3.55412502 3.61759154 3.68105806 3.74452458\n",
            " 3.8079911  3.87145761 3.93492413 3.99839065 4.06185717 4.12532369\n",
            " 4.1887902  4.25225672 4.31572324 4.37918976 4.44265628 4.5061228\n",
            " 4.56958931 4.63305583 4.69652235 4.75998887 4.82345539 4.88692191\n",
            " 4.95038842 5.01385494 5.07732146 5.14078798 5.2042545  5.26772102\n",
            " 5.33118753 5.39465405 5.45812057 5.52158709 5.58505361 5.64852012\n",
            " 5.71198664 5.77545316 5.83891968 5.9023862  5.96585272 6.02931923\n",
            " 6.09278575 6.15625227 6.21971879 6.28318531]\n"
          ],
          "name": "stdout"
        },
        {
          "output_type": "display_data",
          "data": {
            "image/png": "[encoded data removed]",
            "text/plain": [
              "<matplotlib.figure.Figure at 0x7ff8e61f8630>"
            ]
          },
          "metadata": {
            "tags": []
          }
        }
      ]
    },
    {
      "metadata": {
        "id": "onVr39qVMm4o",
        "colab_type": "text"
      },
      "cell_type": "markdown",
      "source": [
        "# Pandas\n",
        "\n",
        "Pandas는 Series와 DataFrame 이라는 매우 유용한 데이터 구조를 제공한다.\n",
        "\n",
        "** Series**\n",
        "\n"
      ]
    },
    {
      "metadata": {
        "id": "jX-MHrEuQDdt",
        "colab_type": "code",
        "colab": {
          "base_uri": "https://localhost:8080/",
          "height": 119
        },
        "outputId": "527613af-acee-4a8f-d3e5-e88fa0e651ef"
      },
      "cell_type": "code",
      "source": [
        "import pandas as pd\n",
        "# converting tuple to Series\n",
        "h = ('AA', '2012-02-01', 100, 10.2)\n",
        "s = pd.Series(h)\n",
        "print(type(s))\n",
        "print(s)"
      ],
      "execution_count": 1,
      "outputs": [
        {
          "output_type": "stream",
          "text": [
            "<class 'pandas.core.series.Series'>\n",
            "0            AA\n",
            "1    2012-02-01\n",
            "2           100\n",
            "3          10.2\n",
            "dtype: object\n"
          ],
          "name": "stdout"
        }
      ]
    },
    {
      "metadata": {
        "id": "B5KZlyTbQV3g",
        "colab_type": "code",
        "colab": {
          "base_uri": "https://localhost:8080/",
          "height": 119
        },
        "outputId": "28e3b771-70eb-4a75-856e-9b80c3856183"
      },
      "cell_type": "code",
      "source": [
        "# converting dict to Series\n",
        "d = {'name' : 'IBM', 'date' : '2010-09-08', 'shares' : 100, 'price' : 10.2}\n",
        "ds = pd.Series(d)\n",
        "print(type(ds))\n",
        "print(ds)"
      ],
      "execution_count": 2,
      "outputs": [
        {
          "output_type": "stream",
          "text": [
            "<class 'pandas.core.series.Series'>\n",
            "date      2010-09-08\n",
            "name             IBM\n",
            "price           10.2\n",
            "shares           100\n",
            "dtype: object\n"
          ],
          "name": "stdout"
        }
      ]
    },
    {
      "metadata": {
        "id": "svQvwfSrQ1Lp",
        "colab_type": "code",
        "colab": {}
      },
      "cell_type": "code",
      "source": [
        "f = ['FB', '2001-08-02', 90, 3.2]\n",
        "f = pd.Series(f, index = ['name', 'date', 'shares', 'price'])\n",
        "print(f)\n",
        "\n",
        "print('------')\n",
        "print(f['shares'])\n",
        "\n",
        "print('------')\n",
        "print(f[0])\n",
        "\n",
        "print('------')\n",
        "print(f[['shares', 'price']])"
      ],
      "execution_count": 0,
      "outputs": []
    },
    {
      "metadata": {
        "id": "7PDoDai4Raf6",
        "colab_type": "text"
      },
      "cell_type": "markdown",
      "source": [
        "**DataFrame**\n",
        "\n",
        "Series가 1차원 배열이라면, DataFrame은 2차원 배열이다."
      ]
    },
    {
      "metadata": {
        "id": "XF1pOHQlRtew",
        "colab_type": "code",
        "colab": {
          "base_uri": "https://localhost:8080/",
          "height": 119
        },
        "outputId": "4bacd7f3-5ef1-48c6-f664-2803dca69a5e"
      },
      "cell_type": "code",
      "source": [
        "data = { 'name' : ['AA', 'IBM', 'GOOG'], 'date' : ['2001-12-01', '2012-02-10', '2010-04-09'], 'shares' : [100, 30, 90], 'price' : [12.3, 10.3, 32.2] }\n",
        "df = pd.DataFrame(data)\n",
        "print(type(df))\n",
        "\n",
        "print('------')\n",
        "print(df)"
      ],
      "execution_count": 4,
      "outputs": [
        {
          "output_type": "stream",
          "text": [
            "<class 'pandas.core.frame.DataFrame'>\n",
            "------\n",
            "         date  name  price  shares\n",
            "0  2001-12-01    AA   12.3     100\n",
            "1  2012-02-10   IBM   10.3      30\n",
            "2  2010-04-09  GOOG   32.2      90\n"
          ],
          "name": "stdout"
        }
      ]
    },
    {
      "metadata": {
        "id": "Z6pdwBn9SLWr",
        "colab_type": "text"
      },
      "cell_type": "markdown",
      "source": [
        "Additional columns can be added after defining a DataFrame as below"
      ]
    },
    {
      "metadata": {
        "id": "2g57_82mSJGE",
        "colab_type": "code",
        "colab": {
          "base_uri": "https://localhost:8080/",
          "height": 85
        },
        "outputId": "4a2cbfca-ec68-4144-f262-223b4e826d54"
      },
      "cell_type": "code",
      "source": [
        "df['owner'] = 'Unknown'\n",
        "print(df)"
      ],
      "execution_count": 5,
      "outputs": [
        {
          "output_type": "stream",
          "text": [
            "         date  name  price  shares    owner\n",
            "0  2001-12-01    AA   12.3     100  Unknown\n",
            "1  2012-02-10   IBM   10.3      30  Unknown\n",
            "2  2010-04-09  GOOG   32.2      90  Unknown\n"
          ],
          "name": "stdout"
        }
      ]
    },
    {
      "metadata": {
        "id": "0zaxPvyCSWhW",
        "colab_type": "text"
      },
      "cell_type": "markdown",
      "source": [
        "Currently, the row index are set to 0, 1 and 2. These can be changed using ‘index’ attribute as below,"
      ]
    },
    {
      "metadata": {
        "id": "wgezio_FSWC7",
        "colab_type": "code",
        "colab": {
          "base_uri": "https://localhost:8080/",
          "height": 85
        },
        "outputId": "d65db8cb-dd14-4764-d279-99f17af718ee"
      },
      "cell_type": "code",
      "source": [
        "df.index = ['one', 'two', 'three']\n",
        "print(df)"
      ],
      "execution_count": 6,
      "outputs": [
        {
          "output_type": "stream",
          "text": [
            "             date  name  price  shares    owner\n",
            "one    2001-12-01    AA   12.3     100  Unknown\n",
            "two    2012-02-10   IBM   10.3      30  Unknown\n",
            "three  2010-04-09  GOOG   32.2      90  Unknown\n"
          ],
          "name": "stdout"
        }
      ]
    },
    {
      "metadata": {
        "id": "Fgd0wyxcUmfy",
        "colab_type": "text"
      },
      "cell_type": "markdown",
      "source": [
        "Further, any column of the DataFrame can be set as index using ‘set_index()’ attribute, as shown below"
      ]
    },
    {
      "metadata": {
        "id": "vzcPVvmRSClI",
        "colab_type": "code",
        "colab": {
          "base_uri": "https://localhost:8080/",
          "height": 102
        },
        "outputId": "66775ab1-6446-4885-cde2-b30942b72e21"
      },
      "cell_type": "code",
      "source": [
        "df = df.set_index(['name'])\n",
        "print(df)"
      ],
      "execution_count": 7,
      "outputs": [
        {
          "output_type": "stream",
          "text": [
            "            date  price  shares    owner\n",
            "name                                    \n",
            "AA    2001-12-01   12.3     100  Unknown\n",
            "IBM   2012-02-10   10.3      30  Unknown\n",
            "GOOG  2010-04-09   32.2      90  Unknown\n"
          ],
          "name": "stdout"
        }
      ]
    },
    {
      "metadata": {
        "id": "Xg0YoJ-uUm2Y",
        "colab_type": "text"
      },
      "cell_type": "markdown",
      "source": [
        "Data can be accessed in two ways i.e. using row and column index"
      ]
    },
    {
      "metadata": {
        "id": "yX6ObL12UniR",
        "colab_type": "code",
        "colab": {
          "base_uri": "https://localhost:8080/",
          "height": 102
        },
        "outputId": "b326583a-aa92-4129-b28b-12f60449f447"
      },
      "cell_type": "code",
      "source": [
        "# access data using column-index\n",
        "print(df['shares'])"
      ],
      "execution_count": 8,
      "outputs": [
        {
          "output_type": "stream",
          "text": [
            "name\n",
            "AA      100\n",
            "IBM      30\n",
            "GOOG     90\n",
            "Name: shares, dtype: int64\n"
          ],
          "name": "stdout"
        }
      ]
    },
    {
      "metadata": {
        "id": "h3IxLT4tUsa2",
        "colab_type": "code",
        "colab": {
          "base_uri": "https://localhost:8080/",
          "height": 102
        },
        "outputId": "006d2759-eb1a-427d-c61c-703beac04356"
      },
      "cell_type": "code",
      "source": [
        "# access all rows for a column\n",
        "print(df.loc[:, 'date'])"
      ],
      "execution_count": 10,
      "outputs": [
        {
          "output_type": "stream",
          "text": [
            "name\n",
            "AA      2001-12-01\n",
            "IBM     2012-02-10\n",
            "GOOG    2010-04-09\n",
            "Name: date, dtype: object\n"
          ],
          "name": "stdout"
        }
      ]
    },
    {
      "metadata": {
        "id": "DjDwKxnMVMlt",
        "colab_type": "code",
        "colab": {
          "base_uri": "https://localhost:8080/",
          "height": 51
        },
        "outputId": "1e19d8e6-6aac-485a-99ef-8690de418d38"
      },
      "cell_type": "code",
      "source": [
        "# access specific element from the DataFrame,\n",
        "print(df.ix[0, 'shares'])\n",
        "print(df.ix[0, 1])"
      ],
      "execution_count": 23,
      "outputs": [
        {
          "output_type": "stream",
          "text": [
            "100\n",
            "12.3\n"
          ],
          "name": "stdout"
        }
      ]
    },
    {
      "metadata": {
        "id": "Z3yUtvPgW4B_",
        "colab_type": "text"
      },
      "cell_type": "markdown",
      "source": [
        "Any column can be deleted using ‘del’ or ‘drop’ commands,"
      ]
    },
    {
      "metadata": {
        "id": "KGL-df_uW7YS",
        "colab_type": "code",
        "colab": {
          "base_uri": "https://localhost:8080/",
          "height": 102
        },
        "outputId": "7bc23592-665c-438f-a7aa-6df7b5ab1b09"
      },
      "cell_type": "code",
      "source": [
        "del df['owner']\n",
        "print (df)"
      ],
      "execution_count": 12,
      "outputs": [
        {
          "output_type": "stream",
          "text": [
            "            date  price  shares\n",
            "name                           \n",
            "AA    2001-12-01   12.3     100\n",
            "IBM   2012-02-10   10.3      30\n",
            "GOOG  2010-04-09   32.2      90\n"
          ],
          "name": "stdout"
        }
      ]
    },
    {
      "metadata": {
        "id": "Gj1DoE5BXESG",
        "colab_type": "text"
      },
      "cell_type": "markdown",
      "source": [
        "**Reading files**"
      ]
    },
    {
      "metadata": {
        "id": "fCVRGkmdXH8D",
        "colab_type": "code",
        "colab": {
          "base_uri": "https://localhost:8080/",
          "height": 204
        },
        "outputId": "75f1ae20-654a-4559-99e5-5132b1eba56d"
      },
      "cell_type": "code",
      "source": [
        "import pandas as pd\n",
        "casts = pd.read_csv('sample_data/california_housing_test.csv', index_col=None, encoding='utf-8')\n",
        "casts.head()"
      ],
      "execution_count": 15,
      "outputs": [
        {
          "output_type": "execute_result",
          "data": {
            "text/html": [
              "<div>\n",
              "<style scoped>\n",
              "    .dataframe tbody tr th:only-of-type {\n",
              "        vertical-align: middle;\n",
              "    }\n",
              "\n",
              "    .dataframe tbody tr th {\n",
              "        vertical-align: top;\n",
              "    }\n",
              "\n",
              "    .dataframe thead th {\n",
              "        text-align: right;\n",
              "    }\n",
              "</style>\n",
              "<table border=\"1\" class=\"dataframe\">\n",
              "  <thead>\n",
              "    <tr style=\"text-align: right;\">\n",
              "      <th></th>\n",
              "      <th>longitude</th>\n",
              "      <th>latitude</th>\n",
              "      <th>housing_median_age</th>\n",
              "      <th>total_rooms</th>\n",
              "      <th>total_bedrooms</th>\n",
              "      <th>population</th>\n",
              "      <th>households</th>\n",
              "      <th>median_income</th>\n",
              "      <th>median_house_value</th>\n",
              "    </tr>\n",
              "  </thead>\n",
              "  <tbody>\n",
              "    <tr>\n",
              "      <th>0</th>\n",
              "      <td>-122.05</td>\n",
              "      <td>37.37</td>\n",
              "      <td>27.0</td>\n",
              "      <td>3885.0</td>\n",
              "      <td>661.0</td>\n",
              "      <td>1537.0</td>\n",
              "      <td>606.0</td>\n",
              "      <td>6.6085</td>\n",
              "      <td>344700.0</td>\n",
              "    </tr>\n",
              "    <tr>\n",
              "      <th>1</th>\n",
              "      <td>-118.30</td>\n",
              "      <td>34.26</td>\n",
              "      <td>43.0</td>\n",
              "      <td>1510.0</td>\n",
              "      <td>310.0</td>\n",
              "      <td>809.0</td>\n",
              "      <td>277.0</td>\n",
              "      <td>3.5990</td>\n",
              "      <td>176500.0</td>\n",
              "    </tr>\n",
              "    <tr>\n",
              "      <th>2</th>\n",
              "      <td>-117.81</td>\n",
              "      <td>33.78</td>\n",
              "      <td>27.0</td>\n",
              "      <td>3589.0</td>\n",
              "      <td>507.0</td>\n",
              "      <td>1484.0</td>\n",
              "      <td>495.0</td>\n",
              "      <td>5.7934</td>\n",
              "      <td>270500.0</td>\n",
              "    </tr>\n",
              "    <tr>\n",
              "      <th>3</th>\n",
              "      <td>-118.36</td>\n",
              "      <td>33.82</td>\n",
              "      <td>28.0</td>\n",
              "      <td>67.0</td>\n",
              "      <td>15.0</td>\n",
              "      <td>49.0</td>\n",
              "      <td>11.0</td>\n",
              "      <td>6.1359</td>\n",
              "      <td>330000.0</td>\n",
              "    </tr>\n",
              "    <tr>\n",
              "      <th>4</th>\n",
              "      <td>-119.67</td>\n",
              "      <td>36.33</td>\n",
              "      <td>19.0</td>\n",
              "      <td>1241.0</td>\n",
              "      <td>244.0</td>\n",
              "      <td>850.0</td>\n",
              "      <td>237.0</td>\n",
              "      <td>2.9375</td>\n",
              "      <td>81700.0</td>\n",
              "    </tr>\n",
              "  </tbody>\n",
              "</table>\n",
              "</div>"
            ],
            "text/plain": [
              "   longitude  latitude  housing_median_age  total_rooms  total_bedrooms  \\\n",
              "0    -122.05     37.37                27.0       3885.0           661.0   \n",
              "1    -118.30     34.26                43.0       1510.0           310.0   \n",
              "2    -117.81     33.78                27.0       3589.0           507.0   \n",
              "3    -118.36     33.82                28.0         67.0            15.0   \n",
              "4    -119.67     36.33                19.0       1241.0           244.0   \n",
              "\n",
              "   population  households  median_income  median_house_value  \n",
              "0      1537.0       606.0         6.6085            344700.0  \n",
              "1       809.0       277.0         3.5990            176500.0  \n",
              "2      1484.0       495.0         5.7934            270500.0  \n",
              "3        49.0        11.0         6.1359            330000.0  \n",
              "4       850.0       237.0         2.9375             81700.0  "
            ]
          },
          "metadata": {
            "tags": []
          },
          "execution_count": 15
        }
      ]
    },
    {
      "metadata": {
        "id": "8rWC5QkRX7lb",
        "colab_type": "text"
      },
      "cell_type": "markdown",
      "source": [
        "**Row and column selection**"
      ]
    },
    {
      "metadata": {
        "id": "9wh36-mUXjr0",
        "colab_type": "code",
        "colab": {
          "base_uri": "https://localhost:8080/",
          "height": 153
        },
        "outputId": "77fbb84e-070a-4c55-b0d7-61b96142128e"
      },
      "cell_type": "code",
      "source": [
        "c = casts['median_house_value']\n",
        "print(type(c))\n",
        "\n",
        "print('------')\n",
        "print(c.head())"
      ],
      "execution_count": 17,
      "outputs": [
        {
          "output_type": "stream",
          "text": [
            "<class 'pandas.core.series.Series'>\n",
            "------\n",
            "0    344700.0\n",
            "1    176500.0\n",
            "2    270500.0\n",
            "3    330000.0\n",
            "4     81700.0\n",
            "Name: median_house_value, dtype: float64\n"
          ],
          "name": "stdout"
        }
      ]
    },
    {
      "metadata": {
        "id": "zy-q9CbKdNMs",
        "colab_type": "code",
        "colab": {
          "base_uri": "https://localhost:8080/",
          "height": 187
        },
        "outputId": "4f1dc3e5-db91-42ea-a0dc-2dc2baec45b5"
      },
      "cell_type": "code",
      "source": [
        "print(casts.iloc[0])\n"
      ],
      "execution_count": 19,
      "outputs": [
        {
          "output_type": "stream",
          "text": [
            "longitude               -122.0500\n",
            "latitude                  37.3700\n",
            "housing_median_age        27.0000\n",
            "total_rooms             3885.0000\n",
            "total_bedrooms           661.0000\n",
            "population              1537.0000\n",
            "households               606.0000\n",
            "median_income              6.6085\n",
            "median_house_value    344700.0000\n",
            "Name: 0, dtype: float64\n"
          ],
          "name": "stdout"
        }
      ]
    },
    {
      "metadata": {
        "id": "nZftG_5QeExf",
        "colab_type": "text"
      },
      "cell_type": "markdown",
      "source": [
        "**Filter Data**"
      ]
    },
    {
      "metadata": {
        "id": "NN-vFl_deJO2",
        "colab_type": "code",
        "colab": {
          "base_uri": "https://localhost:8080/",
          "height": 476
        },
        "outputId": "2c39ef06-0407-4591-b1b1-b06e894b79ff"
      },
      "cell_type": "code",
      "source": [
        "# movies after 1985\n",
        "cast1 = casts[casts['longitude'] < -120]\n",
        "print(cast1.head())\n",
        "\n",
        "print('------'*10)\n",
        "cast2 = casts[ (casts['longitude'] < -110) & (casts['longitude'] > -120)]\n",
        "print(cast2.head())\n",
        "\n"
      ],
      "execution_count": 28,
      "outputs": [
        {
          "output_type": "stream",
          "text": [
            "    longitude  latitude  housing_median_age  total_rooms  total_bedrooms  \\\n",
            "0     -122.05     37.37                27.0       3885.0           661.0   \n",
            "6     -121.43     38.63                43.0       1009.0           225.0   \n",
            "7     -120.65     35.48                19.0       2310.0           471.0   \n",
            "8     -122.84     38.40                15.0       3080.0           617.0   \n",
            "12    -121.93     37.25                36.0       1089.0           182.0   \n",
            "\n",
            "    population  households  median_income  median_house_value  \n",
            "0       1537.0       606.0         6.6085            344700.0  \n",
            "6        604.0       218.0         1.6641             67000.0  \n",
            "7       1341.0       441.0         3.2250            166900.0  \n",
            "8       1446.0       599.0         3.6696            194400.0  \n",
            "12       535.0       170.0         4.6900            252600.0  \n",
            "------------------------------------------------------------\n",
            "   longitude  latitude  housing_median_age  total_rooms  total_bedrooms  \\\n",
            "1    -118.30     34.26                43.0       1510.0           310.0   \n",
            "2    -117.81     33.78                27.0       3589.0           507.0   \n",
            "3    -118.36     33.82                28.0         67.0            15.0   \n",
            "4    -119.67     36.33                19.0       1241.0           244.0   \n",
            "5    -119.56     36.51                37.0       1018.0           213.0   \n",
            "\n",
            "   population  households  median_income  median_house_value  \n",
            "1       809.0       277.0         3.5990            176500.0  \n",
            "2      1484.0       495.0         5.7934            270500.0  \n",
            "3        49.0        11.0         6.1359            330000.0  \n",
            "4       850.0       237.0         2.9375             81700.0  \n",
            "5       663.0       204.0         1.6635             67000.0  \n"
          ],
          "name": "stdout"
        }
      ]
    }
  ]
}