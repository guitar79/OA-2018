{
  "nbformat": 4,
  "nbformat_minor": 0,
  "metadata": {
    "colab": {
      "name": "Introduction.ipynb",
      "version": "0.3.2",
      "provenance": [],
      "include_colab_link": true
    },
    "kernelspec": {
      "name": "python3",
      "display_name": "Python 3"
    }
  },
  "cells": [
    {
      "cell_type": "markdown",
      "metadata": {
        "id": "view-in-github",
        "colab_type": "text"
      },
      "source": [
        "[View in Colaboratory](https://colab.research.google.com/github/guitar79/OA-2018/blob/master/Introduction.ipynb)"
      ]
    },
    {
      "metadata": {
        "id": "9Lm-HnqiE87b",
        "colab_type": "text"
      },
      "cell_type": "markdown",
      "source": [
        "A code sample"
      ]
    },
    {
      "metadata": {
        "id": "iCFohFD2FPfp",
        "colab_type": "code",
        "colab": {}
      },
      "cell_type": "code",
      "source": [
        "x = 34 - 23 \t\t# A comment.\n",
        "y = “Hello” \t\t# Another one. \n",
        "z = 3.45\n",
        "if z == 3.45 or y == “Hello”: \n",
        "  x = x + 1 \n",
        "  y = y + “World” \t# String concat. \n",
        "print x \n",
        "print y\n"
      ],
      "execution_count": 0,
      "outputs": []
    }
  ]
}