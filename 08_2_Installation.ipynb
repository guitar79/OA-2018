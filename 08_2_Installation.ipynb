{
  "nbformat": 4,
  "nbformat_minor": 0,
  "metadata": {
    "colab": {
      "name": "08-2.Installation",
      "version": "0.3.2",
      "provenance": [],
      "collapsed_sections": [],
      "toc_visible": true,
      "include_colab_link": true
    },
    "kernelspec": {
      "name": "python3",
      "display_name": "Python 3"
    },
    "accelerator": "GPU"
  },
  "cells": [
    {
      "cell_type": "markdown",
      "metadata": {
        "id": "view-in-github",
        "colab_type": "text"
      },
      "source": [
        "<a href=\"https://colab.research.google.com/github/guitar79/OA-2018/blob/master/08_2_Installation.ipynb\" target=\"_parent\"><img src=\"https://colab.research.google.com/assets/colab-badge.svg\" alt=\"Open In Colab\"/></a>"
      ]
    },
    {
      "metadata": {
        "id": "hgwkawzGMlms",
        "colab_type": "text"
      },
      "cell_type": "markdown",
      "source": [
        "**IRAF and Astropy Installation**\n",
        "\n",
        "\n",
        "* 이 자료는 \n",
        "\n",
        "* python이 처음이라면 [Python Basic](https://colab.research.google.com/drive/1PCOoDIKypPVX9KTItMOht1cl96cPmeR_?authuser=1#scrollTo=3g6o04iLM0AF), [Python packages](https://colab.research.google.com/drive/1-1wx2VPEyNe11bmgpSpwdQgrJASCAqdH?authuser=1)를 먼저 학습하기를 권한다.\n",
        "\n",
        "경기과학고등학교 관측천문학 강좌를 위해 만들었으며  <a rel=\"license\" href=\"http://creativecommons.org/licenses/by-nc-sa/4.0/\">크리에이티브 커먼즈 저작자표시-비영리-동일조건변경허락 4.0 국제 라이선스</a>에 따라 이용할 수 있음.\n",
        "\n",
        "<a rel=\"license\" href=\"http://creativecommons.org/licenses/by-nc-sa/4.0/\"><img alt=\"크리에이티브 커먼즈 라이선스\" style=\"border-width:0\" src=\"https://i.creativecommons.org/l/by-nc-sa/4.0/88x31.png\" /></a>"
      ]
    },
    {
      "metadata": {
        "id": "u7wfBH1zb8kW",
        "colab_type": "text"
      },
      "cell_type": "markdown",
      "source": [
        "# Anaconda\n",
        "모든 IRAF/Astropy packages 는 [Anaconda](https://anaconda.org/)를 통해 설치할 것이다. 만약 설치 공간이 부족하다면 miniconda를 이용해 보기를 권한다. \n",
        "\n",
        "Python 2 와 python 3이 서로 다르지만 앞으로는 python3가 더 빈번하게 사용될 것이니 Anaconda3과 Python 3를 사용하자.\n",
        "\n",
        "다운로드가 끝나면 terminal windows (command windows, anaconda prompt)를 열어보자.\n",
        "\n",
        "# IRAF\n",
        "IRAF를 설치하는 방법은 몇가지가 있으나, linux 운영체제에서 사용하는 방법은 초보자들에게는 매우 어렵다. 그러나 이제는 STScI에서 개발하여 AstroConda를 통하여 IRAF를 설치할 수 있다. \n",
        "\n",
        "terminal windows에서 아래와 같이 입력해 보자. \n",
        "(이 과정은 10분 정도 소요될 수 있다.)\n",
        "\n",
        ">conda update --all\n",
        ">conda config --add channels http://ssb.stsci.edu/astroconda\n",
        "\n",
        "새 환경을 만들기 위해 아래와 같이 입력해 보자.\n",
        "\n",
        ">conda create -n iraf27 python=2.7 iraf-all pyraf-all stsci\n",
        ">activate iraf27\n",
        "\n",
        "그러면 prompt가 바뀔 것이다.\n",
        "\n",
        "Anaconda 환경에 관한 설명은 아래 글을 참고하기 바란다. \n",
        "[파이썬 버전관리](https://blog.naver.com/isc0304/221074508688)\n",
        "\n",
        "# Astropy\n",
        "\n",
        "Astropy 는 천문학자를 위한 python packages의 이름이다. 만약 Anaconda 를 사용한다면 Astropy는 이미 설치되어 있을 것이다.\n",
        "\n",
        "# photutils\n",
        "\n",
        "Astropy 외에 추가로 설치해야 하는 package이다. 설치하기 위하여 command windows에 다음과 깉이 입력하면 설치할 수 있다.\n",
        "\n",
        ">conda install -c astropy photutils\n",
        "\n",
        "\n",
        "# Image Displayer\n",
        "\n",
        "In astronomical image reduction process, you need some tools to display images on computer screen to interactively investigate the images. There is a historical standard, which is kind of an affiliated package of IRAF, [SAO ds9](http://ds9.si.edu/site/Download.html). The most recent version as of Feb 2017 is ver 7.5. Some people use [Maxim DL](http://diffractionlimited.com/product/maxim-dl/), but it's commercial and used mostly by amateur astronomers. In the future, as Python gets more and more intention, Ginga will be another powerful option. We are not sure when Ginga will become quite perfect, but until then, I recommend you to use both of them. Their pros and cons will be explained from now.\n",
        "\n"
      ]
    }
  ]
}