{
  "nbformat": 4,
  "nbformat_minor": 0,
  "metadata": {
    "colab": {
      "name": "08-2.Installation",
      "version": "0.3.2",
      "provenance": [],
      "collapsed_sections": [],
      "toc_visible": true,
      "include_colab_link": true
    },
    "kernelspec": {
      "name": "python3",
      "display_name": "Python 3"
    },
    "accelerator": "GPU"
  },
  "cells": [
    {
      "cell_type": "markdown",
      "metadata": {
        "id": "view-in-github",
        "colab_type": "text"
      },
      "source": [
        "<a href=\"https://colab.research.google.com/github/guitar79/OA-2018/blob/master/08_2_Installation.ipynb\" target=\"_parent\"><img src=\"https://colab.research.google.com/assets/colab-badge.svg\" alt=\"Open In Colab\"/></a>"
      ]
    },
    {
      "metadata": {
        "id": "hgwkawzGMlms",
        "colab_type": "text"
      },
      "cell_type": "markdown",
      "source": [
        "**IRAF and Astropy Installation**\n",
        "\n",
        "\n",
        "* 이 자료는 \n",
        "\n",
        "* python이 처음이라면 [Python Basic](https://colab.research.google.com/drive/1PCOoDIKypPVX9KTItMOht1cl96cPmeR_?authuser=1#scrollTo=3g6o04iLM0AF), [Python packages](https://colab.research.google.com/drive/1-1wx2VPEyNe11bmgpSpwdQgrJASCAqdH?authuser=1)를 먼저 학습하기를 권한다.\n",
        "\n",
        "경기과학고등학교 관측천문학 강좌를 위해 만들었으며  <a rel=\"license\" href=\"http://creativecommons.org/licenses/by-nc-sa/4.0/\">크리에이티브 커먼즈 저작자표시-비영리-동일조건변경허락 4.0 국제 라이선스</a>에 따라 이용할 수 있음.\n",
        "\n",
        "<a rel=\"license\" href=\"http://creativecommons.org/licenses/by-nc-sa/4.0/\"><img alt=\"크리에이티브 커먼즈 라이선스\" style=\"border-width:0\" src=\"https://i.creativecommons.org/l/by-nc-sa/4.0/88x31.png\" /></a>"
      ]
    },
    {
      "metadata": {
        "id": "u7wfBH1zb8kW",
        "colab_type": "text"
      },
      "cell_type": "markdown",
      "source": [
        "# Anaconda\n",
        "All the IRAF/Astropy packages will be downloaded via a platform called [Anaconda](https://anaconda.org/). So let's download Anaconda. If you are running out of space and really want very small package, try miniconda.\n",
        "\n",
        "It doesn't matter which one you choose (Python 2 or 3). I recommend to use Anaconda3 and use Python 3, since it is the future of Python.\n",
        "\n",
        "When the download is done, turn the terminal on and type as the website says.\n",
        "\n",
        "# Astropy and Photutils\n",
        "\n",
        "Astropy is the name of a project which devotes its human power in developing a single package containing tools useful for astronomers in Python language(GitHub, Official website, The most recent stable distribution documentation).\n",
        "\n",
        "You should have Astropy by default if you used Anaconda.\n",
        "\n",
        "# photutils\n",
        "\n",
        "You may have found the so-called \"affiliated\" packages listed here. Astropy is installed by Anaconda, but not these affiliated packages. Among these, you SHOULD download photutils. To download, type\n",
        "\n",
        ">conda install -c astropy photutils\n",
        "\n",
        "on the terminal.\n",
        "\n",
        "# Image Displayer\n",
        "In astronomical image reduction process, you need some tools to display images on computer screen to interactively investigate the images. There is a historical standard, which is kind of an affiliated package of IRAF, [SAO ds9](http://ds9.si.edu/site/Download.html). The most recent version as of Feb 2017 is ver 7.5. Some people use [Maxim DL](http://diffractionlimited.com/product/maxim-dl/), but it's commercial and used mostly by amateur astronomers. In the future, as Python gets more and more intention, Ginga will be another powerful option. We are not sure when Ginga will become quite perfect, but until then, I recommend you to use both of them. Their pros and cons will be explained from now.\n",
        "\n"
      ]
    }
  ]
}