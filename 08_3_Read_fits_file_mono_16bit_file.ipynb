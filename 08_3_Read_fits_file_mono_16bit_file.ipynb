{
 "cells": [
  {
   "cell_type": "markdown",
   "metadata": {
    "colab_type": "text",
    "id": "view-in-github"
   },
   "source": [
    "<a href=\"https://colab.research.google.com/github/guitar79/OA-2018/blob/master/08_3_Read_fits_mono_16bit_file.ipynb\" target=\"_parent\"><img src=\"https://colab.research.google.com/assets/colab-badge.svg\" alt=\"Open In Colab\"/></a>"
   ]
  },
  {
   "cell_type": "markdown",
   "metadata": {
    "colab_type": "text",
    "id": "hgwkawzGMlms"
   },
   "source": [
    "**Read fits file**\n",
    "\n",
    "\n",
    "* 이 자료는 16 bit mono Fits file을 열어 데이터를 핸들링하는 방법을 설명하는 글이다.\n",
    "\n",
    "* python이 처음이라면 [Python Basic](https://colab.research.google.com/drive/1PCOoDIKypPVX9KTItMOht1cl96cPmeR_?authuser=1#scrollTo=3g6o04iLM0AF), [Python packages](https://colab.research.google.com/drive/1-1wx2VPEyNe11bmgpSpwdQgrJASCAqdH?authuser=1)를 먼저 학습하기를 권한다.\n",
    "\n",
    "* package를 쉽게 설치하기 위해 Anaconda 사용을 권장한다.\n",
    "\n",
    "경기과학고등학교 관측천문학 강좌를 위해 만들었으며  <a rel=\"license\" href=\"http://creativecommons.org/licenses/by-nc-sa/4.0/\">크리에이티브 커먼즈 저작자표시-비영리-동일조건변경허락 4.0 국제 라이선스</a>에 따라 이용할 수 있음.\n",
    "\n",
    "<a rel=\"license\" href=\"http://creativecommons.org/licenses/by-nc-sa/4.0/\"><img alt=\"크리에이티브 커먼즈 라이선스\" style=\"border-width:0\" src=\"https://i.creativecommons.org/l/by-nc-sa/4.0/88x31.png\" /></a>"
   ]
  },
  {
   "cell_type": "markdown",
   "metadata": {
    "colab_type": "text",
    "id": "u7wfBH1zb8kW"
   },
   "source": [
    "# Download data\n",
    "\n",
    "MONO CCD로 촬영한 천체사진 [(예제 fits files)](https://drive.google.com/open?id=1guTGchioD5iD8tr1HOu0Qjjj_MjL-c-M) 을 다운받으신 후 파일을 읽고 데이터를 확인해 봅시다.\n"
   ]
  },
  {
   "cell_type": "code",
   "execution_count": 1,
   "metadata": {
    "colab": {
     "base_uri": "https://localhost:8080/",
     "height": 53
    },
    "colab_type": "code",
    "id": "_vbIDydx7Gvr",
    "outputId": "e4d475fd-ea60-4d86-c275-cf45e701c56d"
   },
   "outputs": [
    {
     "name": "stdout",
     "output_type": "stream",
     "text": [
      "Requirement already satisfied: astropy in c:\\users\\user\\anaconda3\\lib\\site-packages (3.0.5)\n",
      "Requirement already satisfied: numpy>=1.10.0 in c:\\users\\user\\anaconda3\\lib\\site-packages (from astropy) (1.15.3)\n"
     ]
    }
   ],
   "source": [
    "!pip install astropy\n",
    "#위 코드는 이곳 notebook에서만 필요합니다. 다른곳에서는 주석 처리하시기 바랍니다.\n",
    "\n",
    "from astropy.io import fits\n",
    "import matplotlib.pyplot as plt\n",
    "\n",
    "#dir_name = '20181012.M42'\n",
    "f_name = 'm42-003L.fit'"
   ]
  },
  {
   "cell_type": "markdown",
   "metadata": {
    "colab_type": "text",
    "id": "EO475o4L3tOt"
   },
   "source": [
    "# Processing data\n",
    "\n",
    "fits file을 파일을 열어 hdu 라는 변수에 저정하고 다음과 같이 출력을 해 보면\n",
    "> <astropy.io.fits.hdu.image.PrimaryHDU object at 0x7f5d51e59a90>\n",
    "\n",
    "라는 객체가 생성되어 있음을 확인할 수 있습니다."
   ]
  },
  {
   "cell_type": "code",
   "execution_count": 2,
   "metadata": {
    "colab": {
     "base_uri": "https://localhost:8080/",
     "height": 35
    },
    "colab_type": "code",
    "id": "d7yKE1PlMsk_",
    "outputId": "fd4bd253-4b08-408f-8ace-2e0e74371ee8"
   },
   "outputs": [
    {
     "name": "stdout",
     "output_type": "stream",
     "text": [
      "hdu : [<astropy.io.fits.hdu.image.PrimaryHDU object at 0x0000026E5C7B0C18>]\n"
     ]
    }
   ],
   "source": [
    "# read 16bit monochrome fits file\n",
    "hdu = fits.open(f_name)\n",
    "print('hdu :', hdu)"
   ]
  },
  {
   "cell_type": "markdown",
   "metadata": {
    "colab_type": "text",
    "id": "U7UGrK4aIdkX"
   },
   "source": [
    "python에서 dir()은 객체가 가지고 있는 변수, 함수를 보여 준다.\n",
    "\n",
    ">print(dir(hdu))"
   ]
  },
  {
   "cell_type": "code",
   "execution_count": 3,
   "metadata": {
    "colab": {
     "base_uri": "https://localhost:8080/",
     "height": 55
    },
    "colab_type": "code",
    "id": "Cqs3b-rDIgOk",
    "outputId": "ff55caa3-f1dd-4426-a8ba-30372e617a06"
   },
   "outputs": [
    {
     "name": "stdout",
     "output_type": "stream",
     "text": [
      "dir(hdu)\n",
      " ['__add__', '__class__', '__contains__', '__delattr__', '__delitem__', '__dict__', '__dir__', '__doc__', '__enter__', '__eq__', '__exit__', '__format__', '__ge__', '__getattribute__', '__getitem__', '__gt__', '__hash__', '__iadd__', '__imul__', '__init__', '__init_subclass__', '__iter__', '__le__', '__len__', '__lt__', '__module__', '__mul__', '__ne__', '__new__', '__reduce__', '__reduce_ex__', '__repr__', '__reversed__', '__rmul__', '__setattr__', '__setitem__', '__sizeof__', '__str__', '__subclasshook__', '__weakref__', '_data', '_file', '_flush_resize', '_flush_update', '_in_read_next_hdu', '_open_kwargs', '_positive_index_of', '_read_all', '_read_next_hdu', '_readfrom', '_resize', '_save_backup', '_truncate', '_try_while_unread_hdus', '_verify', '_wasresized', 'append', 'clear', 'close', 'copy', 'count', 'extend', 'fileinfo', 'filename', 'flush', 'fromfile', 'fromstring', 'index', 'index_of', 'info', 'insert', 'pop', 'readall', 'remove', 'reverse', 'run_option', 'sort', 'update_extend', 'verify', 'writeto']\n"
     ]
    }
   ],
   "source": [
    "print('dir(hdu)\\n', dir(hdu))"
   ]
  },
  {
   "cell_type": "markdown",
   "metadata": {
    "colab_type": "text",
    "id": "g_qsc29kIvdh"
   },
   "source": [
    "아래의 코드를 참자하여 fits 파일에 있는 정보들을 읽어보자. "
   ]
  },
  {
   "cell_type": "code",
   "execution_count": 4,
   "metadata": {
    "colab": {
     "base_uri": "https://localhost:8080/",
     "height": 253
    },
    "colab_type": "code",
    "id": "w-iLSYs3SU4r",
    "outputId": "77dec320-1ab8-47e4-a74b-0145a280d2ab"
   },
   "outputs": [
    {
     "name": "stdout",
     "output_type": "stream",
     "text": [
      "Filename: m42-003L.fit\n",
      "No.    Name      Ver    Type      Cards   Dimensions   Format\n",
      "  0  PRIMARY       1 PrimaryHDU      51   (3326, 2504)   int16 (rescales to uint16)   \n",
      "hdu.info()\n",
      " None\n",
      "hdu[0].header\n",
      " SIMPLE  =                    T                                                  BITPIX  =                   16 /8 unsigned int, 16 & 32 int, -32 & -64 real     NAXIS   =                    2 /number of axes                                  NAXIS1  =                 3326 /fastest changing axis                           NAXIS2  =                 2504 /next to fastest changing axis                   BSCALE  =   1.0000000000000000 /physical = BZERO + BSCALE*array_value           BZERO   =   32768.000000000000 /physical = BZERO + BSCALE*array_value           DATE-OBS= '2018-10-12T16:26:48' /YYYY-MM-DDThh:mm:ss observation start, UT      EXPTIME =   400.00000000000000 /Exposure time in seconds                        EXPOSURE=   400.00000000000000 /Exposure time in seconds                        SET-TEMP=  -30.000000000000000 /CCD temperature setpoint in C                   CCD-TEMP=  -30.000000000000000 /CCD temperature at start of exposure in C       XPIXSZ  =   5.4000000000000004 /Pixel Width in microns (after binning)          YPIXSZ  =   5.4000000000000004 /Pixel Height in microns (after binning)         XBINNING=                    1 /Binning factor in width                         YBINNING=                    1 /Binning factor in height                        XORGSUBF=                    0 /Subframe X position in binned pixels            YORGSUBF=                    0 /Subframe Y position in binned pixels            READOUTM= 'Use Adv Dialog' /    Readout mode of image                           ISOSPEED= 'High Gain'                                                           FILTER  = 'L       ' /          Filter used when taking image                   IMAGETYP= 'Light Frame' /       Type of image                                   FOCUSPOS=                 2118 /Focuser position in steps                       FOCUSSSZ=  0.00000000000000000 /Focuser step size in microns                    FOCUSTEM=  -2.1250000000000000 /Focuser temperature in deg C                    OBJECT  = 'm42     '                                                            OBJCTRA = '05 35 12' /          Nominal Right Ascension of center of image      OBJCTDEC= '-05 23 16' /         Nominal Declination of center of image          OBJCTALT= ' 28.4599' /          Nominal altitude of center of image             OBJCTAZ = '123.4634' /          Nominal azimuth of center of image              OBJCTHA = ' -3.1632' /          Nominal hour angle of center of image           PIERSIDE= 'WEST    ' /          Side of pier telescope is on                    SITELAT = '37 34 01' /          Latitude of the imaging location                SITELONG= '127 00 00' /         Longitude of the imaging location               JD      =   2458404.1852777777 /Julian Date at start of exposure                JD-HELIO=   2458404.1898160507 /Heliocentric Julian Date at exposure midpoint   AIRMASS =   2.1665123059518163 /Relative optical path length through atmosphere TRAKTIME=   3.0000000000000000 /Exposure time used for autoguiding              FOCALLEN=   380.00000000000000 /Focal length of telescope in mm                 APTDIA  =   106.00000000000000 /Aperture diameter of telescope in mm            APTAREA =   8824.7340095043182 /Aperture area of telescope in mm^2              EGAIN   =  0.46599999070167542 /Electronic gain in e-/ADU                       SWCREATE= 'MaxIm DL Version 5.24 131231 33HRT' /Name of software that created            the image                                                              SBSTDVER= 'SBFITSEXT Version 1.0' /Version of SBFITSEXT standard in effect      TELESCOP= 'FSQ-106*0.73' /      telescope used to acquire this image            INSTRUME= 'QSI 683ws S/N 00602553 HW 10.00.00 FW 06.03.01 PI 7.4.1824.0'        OBSERVER= 'Kiehyun Park'                                                        NOTES   = '        '                                                            FLIPSTAT= '        '                                                            SWOWNER = 'tmb130  ' /          Licensed owner of software                      END                                                                                                                                                                                                                                                                                                                                                                                                                                                                                                                                                                                                                                                                                                                                                                                                                                                                                                                                                                                                                                                                                                                                                                                                                                                                                                                                                                                                                                                                                                                                                                                                                                                                                                                                             \n",
      "hdu[0].data\n",
      " [[3915 3944 4223 ... 3884 3951 3955]\n",
      " [4051 3847 4203 ... 3889 3870 3711]\n",
      " [3921 4235 4403 ... 3951 3835 3825]\n",
      " ...\n",
      " [3854 4031 3839 ... 3358 3499 3290]\n",
      " [3843 3973 3839 ... 3544 3345 3341]\n",
      " [3935 4057 4028 ... 3423 3360 3415]]\n"
     ]
    }
   ],
   "source": [
    "print('hdu.info()\\n', hdu.info())\n",
    "print('hdu[0].header\\n', hdu[0].header)\n",
    "print('hdu[0].data\\n', hdu[0].data)"
   ]
  },
  {
   "cell_type": "markdown",
   "metadata": {
    "colab_type": "text",
    "id": "uOE_kgZ3FMUG"
   },
   "source": [
    "hdu[0]의 pixel value를 변수에 저장하여 그 값을 읽어보자."
   ]
  },
  {
   "cell_type": "code",
   "execution_count": 5,
   "metadata": {
    "colab": {
     "base_uri": "https://localhost:8080/",
     "height": 161
    },
    "colab_type": "code",
    "id": "Sb7RfqayJAG1",
    "outputId": "54abc463-2cb3-4a7a-ec84-d70f785dabb0"
   },
   "outputs": [
    {
     "name": "stdout",
     "output_type": "stream",
     "text": [
      "fits_data.shape\n",
      " (2504, 3326)\n",
      "fits_data\n",
      " [[3915 3944 4223 ... 3884 3951 3955]\n",
      " [4051 3847 4203 ... 3889 3870 3711]\n",
      " [3921 4235 4403 ... 3951 3835 3825]\n",
      " ...\n",
      " [3854 4031 3839 ... 3358 3499 3290]\n",
      " [3843 3973 3839 ... 3544 3345 3341]\n",
      " [3935 4057 4028 ... 3423 3360 3415]]\n"
     ]
    }
   ],
   "source": [
    "# save data from fits file\n",
    "fits_data = hdu[0].data\n",
    "print('fits_data.shape\\n', fits_data.shape)\n",
    "print('fits_data\\n', fits_data)"
   ]
  },
  {
   "cell_type": "markdown",
   "metadata": {
    "colab_type": "text",
    "id": "J_FZUbtVE5PC"
   },
   "source": [
    "fits_data를 display 해 보고 싶다면 다음과 같이 matplotlib를 이용할 수 있다."
   ]
  },
  {
   "cell_type": "code",
   "execution_count": 6,
   "metadata": {
    "colab": {
     "base_uri": "https://localhost:8080/",
     "height": 351
    },
    "colab_type": "code",
    "id": "ptUxCr65_ps2",
    "outputId": "456498ba-c79c-46be-f656-12151539b488"
   },
   "outputs": [
    {
     "data": {
      "image/png": "[encoded data removed]",
      "text/plain": [
       "<Figure size 432x288 with 1 Axes>"
      ]
     },
     "metadata": {
      "needs_background": "light"
     },
     "output_type": "display_data"
    }
   ],
   "source": [
    "# show fits file \n",
    "plt.imshow(fits_data, cmap = 'gray', interpolation = 'None')\n",
    "plt.show()"
   ]
  },
  {
   "cell_type": "code",
   "execution_count": 7,
   "metadata": {
    "colab": {},
    "colab_type": "code",
    "id": "bPfrqGtJB8q5"
   },
   "outputs": [],
   "source": [
    "# write 16bit monochrome fits file\n",
    "hdu.writeto(f_name[:-4]+'_changed'+f_name[-4:], overwrite =True)"
   ]
  },
  {
   "cell_type": "markdown",
   "metadata": {
    "colab_type": "text",
    "id": "cUZ0PtQ8DALi"
   },
   "source": [
    "정리 차원에서 최종 코드를 첨부한다.\n",
    "\n",
    "* [full code](https://github.com/guitar79/OA-2018/blob/master/08-3.read_mono_fits_16bit_file.py)"
   ]
  }
 ],
 "metadata": {
  "accelerator": "GPU",
  "colab": {
   "collapsed_sections": [],
   "include_colab_link": true,
   "name": "08-3.Read_fits_mono_16bit_file",
   "provenance": [],
   "toc_visible": true,
   "version": "0.3.2"
  },
  "kernelspec": {
   "display_name": "Python 3",
   "language": "python",
   "name": "python3"
  },
  "language_info": {
   "codemirror_mode": {
    "name": "ipython",
    "version": 3
   },
   "file_extension": ".py",
   "mimetype": "text/x-python",
   "name": "python",
   "nbconvert_exporter": "python",
   "pygments_lexer": "ipython3",
   "version": "3.6.7"
  }
 },
 "nbformat": 4,
 "nbformat_minor": 1
}
