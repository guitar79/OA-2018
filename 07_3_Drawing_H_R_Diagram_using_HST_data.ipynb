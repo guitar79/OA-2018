{
  "nbformat": 4,
  "nbformat_minor": 0,
  "metadata": {
    "colab": {
      "name": "07-3.Drawing_H-R_Diagram_using_HST_data",
      "version": "0.3.2",
      "provenance": [],
      "collapsed_sections": [],
      "toc_visible": true,
      "include_colab_link": true
    },
    "kernelspec": {
      "name": "python3",
      "display_name": "Python 3"
    },
    "accelerator": "GPU"
  },
  "cells": [
    {
      "cell_type": "markdown",
      "metadata": {
        "id": "view-in-github",
        "colab_type": "text"
      },
      "source": [
        "[View in Colaboratory](https://colab.research.google.com/github/guitar79/OA-2018/blob/master/07_3_Drawing_H_R_Diagram_using_HST_data.ipynb)"
      ]
    },
    {
      "metadata": {
        "id": "hgwkawzGMlms",
        "colab_type": "text"
      },
      "cell_type": "markdown",
      "source": [
        "**Drawing H-R Diagram using HST data**\n",
        "\n",
        "\n",
        "* 이 자료는Hubble Space Telescope (HST)의 WFPC2 F450W 과 F814W filters data를 이용하여 HR Diagram을 그리는 교수학습자료이다.\n",
        "\n",
        "* 이 자료는 아래 자료를 참고하여, python3 환경에서 돌아가도록 수정하여 작성하였다. http://www.jasonkendall.com/WPU/HRDiagram/\n",
        "http://nbviewer.jupyter.org/github/ysbach/AO_2017/blob/master/03_Get_the_Taste.ipynb\n",
        "\n",
        "* python이 처음이라면 [Python Basic](https://colab.research.google.com/drive/1PCOoDIKypPVX9KTItMOht1cl96cPmeR_?authuser=1#scrollTo=3g6o04iLM0AF), [Python packages](https://colab.research.google.com/drive/1-1wx2VPEyNe11bmgpSpwdQgrJASCAqdH?authuser=1)를 먼저 학습하기를 권한다.\n",
        "\n",
        "* package를 쉽게 설치하기 위해 Anaconda 사용을 권장한다.\n",
        "\n",
        "* 경기과학고등학교 관측천문학 강좌를 위해 만들었으며 라이센스는 다음을 따른다.\n",
        "<a rel=\"license\" href=\"http://creativecommons.org/licenses/by-nc-sa/4.0/\"><img alt=\"크리에이티브 커먼즈 라이선스\" style=\"border-width:0\" src=\"https://i.creativecommons.org/l/by-nc-sa/4.0/88x31.png\" /></a><br />이 저작물은 <a rel=\"license\" href=\"http://creativecommons.org/licenses/by-nc-sa/4.0/\">크리에이티브 커먼즈 저작자표시-비영리-동일조건변경허락 4.0 국제 라이선스</a>에 따라 이용할 수 있음."
      ]
    },
    {
      "metadata": {
        "id": "u7wfBH1zb8kW",
        "colab_type": "text"
      },
      "cell_type": "markdown",
      "source": [
        "#Download data\n",
        "\n",
        "Hubble Legacy Archive (http://hla.stsci.edu/) 사이트에 접속한 후 \"Enter Site here\" 를 클릭한다. \n",
        "\n",
        "\n",
        "* \"M80\"을 검색하면 많은 데이타가 보일 것이다.\n",
        "* \"Detector\" column : \"WFPC2\" 를 입력하고 \"Enter\"\n",
        "* \"NExposures\" column : 6\n",
        "* \"PropID\" column : \"11233\"\n",
        "* \"VisitNum\" = 06 \n",
        "\n",
        "이제 2개의 자료만 보일 것이다. \n",
        "\n",
        "테이블 마지막 부분에 DAOPHOT algorithm에 의한 \"DAOCat\" data와 ,  SExtractor algorithm에 의한 \"SEXCat\" 자료가 있다. \n",
        "\n",
        "\"DAOphot\" link를 클릭하여 두 자료를 다운로드 받자.\n"
      ]
    },
    {
      "metadata": {
        "id": "_vbIDydx7Gvr",
        "colab_type": "code",
        "colab": {
          "base_uri": "https://localhost:8080/",
          "height": 503
        },
        "outputId": "e2f1febf-5b3a-4fc1-cd1f-448434cf402c"
      },
      "cell_type": "code",
      "source": [
        "import numpy as np\n",
        "import matplotlib.pyplot as plt\n",
        "\n",
        "# Load data\n",
        "# NumPy automatically skips the commented rows.\n",
        "F450 = np.loadtxt('hst_11233_06_wfpc2_f450w_wf_daophot_trm.cat') \n",
        "F814 = np.loadtxt('hst_11233_06_wfpc2_f814w_wf_daophot_trm.cat')\n",
        "\n",
        "print (F450)\n",
        "\n",
        "print ('******'*5)\n",
        "\n",
        "print (F814)"
      ],
      "execution_count": 1,
      "outputs": [
        {
          "output_type": "stream",
          "text": [
            "[[1839.865      680.779      244.264694  ... -999.        -999.\n",
            "     0.       ]\n",
            " [1837.589      676.567      244.2647626 ... -999.        -999.\n",
            "     0.       ]\n",
            " [1836.598      686.129      244.2647926 ... -999.        -999.\n",
            "     0.       ]\n",
            " ...\n",
            " [ 232.368      757.548      244.3131989 ... -999.        -999.\n",
            "     0.       ]\n",
            " [ 230.792      770.891      244.3132464 ... -999.        -999.\n",
            "     0.       ]\n",
            " [ 213.691      705.85       244.3137627 ... -999.        -999.\n",
            "     0.       ]]\n",
            "******************************\n",
            "[[1839.865      680.779      244.264694  ... -999.        -999.\n",
            "     0.       ]\n",
            " [1837.589      676.567      244.2647626 ... -999.        -999.\n",
            "     0.       ]\n",
            " [1836.598      686.129      244.2647926 ... -999.        -999.\n",
            "     0.       ]\n",
            " ...\n",
            " [ 230.792      770.891      244.3132464 ... -999.        -999.\n",
            "     0.       ]\n",
            " [ 213.691      705.85       244.3137627 ... -999.        -999.\n",
            "     0.       ]\n",
            " [ 209.054      696.384      244.3139027 ... -999.        -999.\n",
            "     0.       ]]\n"
          ],
          "name": "stdout"
        }
      ]
    },
    {
      "metadata": {
        "id": "EO475o4L3tOt",
        "colab_type": "text"
      },
      "cell_type": "markdown",
      "source": [
        "# Processing data\n",
        "\n",
        "HR diagram 을 그리기 위해 필요한 자료는 다음과 같다.\n",
        "\n",
        "\n",
        "*  $\\rm{Color~Index} = M_{F450} - M_{F814}$\n",
        "*  $\\rm{Magnitude} = M_{F450}$\n",
        "\n",
        "다운받은 자료에서 별의 ID (5th colomn), 별의 Magnitude (6th column)를 이용하면 된다.\n",
        "\n"
      ]
    },
    {
      "metadata": {
        "id": "d7yKE1PlMsk_",
        "colab_type": "code",
        "colab": {
          "base_uri": "https://localhost:8080/",
          "height": 269
        },
        "outputId": "5db47a87-2677-47cc-817c-5b5dbb3a6c02"
      },
      "cell_type": "code",
      "source": [
        "print (F450)\n",
        "print (F450[:,4])"
      ],
      "execution_count": 2,
      "outputs": [
        {
          "output_type": "stream",
          "text": [
            "[[1839.865      680.779      244.264694  ... -999.        -999.\n",
            "     0.       ]\n",
            " [1837.589      676.567      244.2647626 ... -999.        -999.\n",
            "     0.       ]\n",
            " [1836.598      686.129      244.2647926 ... -999.        -999.\n",
            "     0.       ]\n",
            " ...\n",
            " [ 232.368      757.548      244.3131989 ... -999.        -999.\n",
            "     0.       ]\n",
            " [ 230.792      770.891      244.3132464 ... -999.        -999.\n",
            "     0.       ]\n",
            " [ 213.691      705.85       244.3137627 ... -999.        -999.\n",
            "     0.       ]]\n",
            "[3158. 3115. 3208. ... 4002. 4119. 3427.]\n"
          ],
          "name": "stdout"
        }
      ]
    },
    {
      "metadata": {
        "id": "q2S18CnnP2bs",
        "colab_type": "text"
      },
      "cell_type": "markdown",
      "source": [
        "여기서 해결해야 할 문제는 두 파일 (F450, F814)에서 데이터 갯수가 서로 다르다는 것이다. \n",
        "\n",
        "이를 해결하려면 별의 ID를 비교하는 과정이 필요할텐데 다음과 같은 bool data type을 이용하면 해결할 수 있을 것이다."
      ]
    },
    {
      "metadata": {
        "id": "w-iLSYs3SU4r",
        "colab_type": "code",
        "colab": {
          "base_uri": "https://localhost:8080/",
          "height": 143
        },
        "outputId": "fe48fc9f-e40c-46f2-abee-0f0cc9f45556"
      },
      "cell_type": "code",
      "source": [
        "import numpy as np\n",
        "\n",
        "num1 = np.arange(0, 11, 2) # generate numpy array (0, 11) with interval 2\n",
        "\n",
        "print(\"\\nnum1's elements:\")\n",
        "print(num1)\n",
        "\n",
        "# MASKING\n",
        "tf   = np.array([False, True, False, True, True, False])\n",
        "\n",
        "print (tf)\n",
        "\n",
        "print(\"\\nnum1's selected elements:\")\n",
        "print(num1[tf])\n"
      ],
      "execution_count": 3,
      "outputs": [
        {
          "output_type": "stream",
          "text": [
            "\n",
            "num1's elements:\n",
            "[ 0  2  4  6  8 10]\n",
            "[False  True False  True  True False]\n",
            "\n",
            "num1's selected elements:\n",
            "[2 6 8]\n"
          ],
          "name": "stdout"
        }
      ]
    },
    {
      "metadata": {
        "id": "QIZUrxbGTL2d",
        "colab_type": "text"
      },
      "cell_type": "markdown",
      "source": [
        "먼저 F450과 F814 의 데이터 갯수를 하나나하 loop 문으로 비교해야 할 것이다."
      ]
    },
    {
      "metadata": {
        "id": "ptUxCr65_ps2",
        "colab_type": "code",
        "colab": {
          "base_uri": "https://localhost:8080/",
          "height": 53
        },
        "outputId": "a511376d-0ada-44e9-fb2a-81265796e710"
      },
      "cell_type": "code",
      "source": [
        "print (len(F450))\n",
        "print (len(F814))"
      ],
      "execution_count": 4,
      "outputs": [
        {
          "output_type": "stream",
          "text": [
            "5739\n",
            "7193\n"
          ],
          "name": "stdout"
        }
      ]
    },
    {
      "metadata": {
        "id": "D_nIj28lAiWw",
        "colab_type": "text"
      },
      "cell_type": "markdown",
      "source": [
        "F450에 있는 별의 ID와 일치하는 별이 F814에 있는지 찾아서 색지수를 구하고 일치하는 자료의 bool 자료를 true로 저장하자."
      ]
    },
    {
      "metadata": {
        "id": "L5k68Mv3TXwf",
        "colab_type": "code",
        "colab": {
          "base_uri": "https://localhost:8080/",
          "height": 53
        },
        "outputId": "e4487dbc-6787-46bd-fb93-5f57bbc8f0c1"
      },
      "cell_type": "code",
      "source": [
        "# get CI value and masking \n",
        "mask  = np.zeros(len(F450)).astype(bool)\n",
        "color = np.zeros(len(F450))\n",
        "\n",
        "# Get color indices of the \"same\" stars in two filter images\n",
        "for i in range(0, len(F450)):\n",
        "    ID450 = F450[i,4]\n",
        "    for j in range(0, len(F814)):\n",
        "        ID814 = F814[j,4]\n",
        "        if ID450 == ID814:\n",
        "            mask[i]  = True\n",
        "            color[i] = F450[i,5] - F814[j,5]\n",
        "            break # Once the matched item is found from F814, go to next star of F450.\n",
        "print (len(F450[mask]))\n",
        "print (len(color[mask]))"
      ],
      "execution_count": 5,
      "outputs": [
        {
          "output_type": "stream",
          "text": [
            "5598\n",
            "5598\n"
          ],
          "name": "stdout"
        }
      ]
    },
    {
      "metadata": {
        "id": "-AfNcKl79Hoj",
        "colab_type": "text"
      },
      "cell_type": "markdown",
      "source": [
        "# Chart plot\n",
        "\n",
        "matplotlib를 이용하면 아래와 같은 코드로 HR diagram 을 그릴 수 있을 것이다."
      ]
    },
    {
      "metadata": {
        "id": "63dMeG1d7CmM",
        "colab_type": "code",
        "colab": {
          "base_uri": "https://localhost:8080/",
          "height": 664
        },
        "outputId": "df46ea84-5ac0-4217-8199-dbd3222cff09"
      },
      "cell_type": "code",
      "source": [
        "import numpy as np\n",
        "import matplotlib.pyplot as plt\n",
        "\n",
        "x = np.arange(0,6,0.1)\n",
        "y = np.random.rand(60)\n",
        "CI = x \n",
        "Mag = y*20\n",
        "print(\"CI\\n\", CI)\n",
        "print(\"Mag\\n\", Mag)\n",
        "\n",
        "#plot CI - Mag\n",
        "plt.plot(CI, Mag, 'o', ms=5, alpha=1)\n",
        "plt.grid()\n",
        "plt.title('H-R Diagram')\n",
        "plt.xlabel('Color Index')\n",
        "plt.ylabel('Magnitude')\n",
        "plt.gca().invert_yaxis()\n",
        "\n",
        "#show the Diagram\n",
        "plt.show()"
      ],
      "execution_count": 6,
      "outputs": [
        {
          "output_type": "stream",
          "text": [
            "CI\n",
            " [0.  0.1 0.2 0.3 0.4 0.5 0.6 0.7 0.8 0.9 1.  1.1 1.2 1.3 1.4 1.5 1.6 1.7\n",
            " 1.8 1.9 2.  2.1 2.2 2.3 2.4 2.5 2.6 2.7 2.8 2.9 3.  3.1 3.2 3.3 3.4 3.5\n",
            " 3.6 3.7 3.8 3.9 4.  4.1 4.2 4.3 4.4 4.5 4.6 4.7 4.8 4.9 5.  5.1 5.2 5.3\n",
            " 5.4 5.5 5.6 5.7 5.8 5.9]\n",
            "Mag\n",
            " [18.53537411 17.64648801  7.5059956  19.1216748  18.22452302 18.53986052\n",
            " 18.34793431  4.06849871  1.86886962 15.48969109  7.29684361  1.26277585\n",
            " 11.98488199 18.17742765  7.36998494  9.41531652  0.51480459 19.02964268\n",
            " 17.45627622  4.03294279 16.04798396  7.75964421  5.6320685   3.63308601\n",
            "  4.9234469   8.04255835  4.17005265 18.44795445 16.89950478  7.55673753\n",
            " 11.48969229  7.98509828 19.28924847  8.79336289 18.90626023 19.05671113\n",
            "  9.02771621 16.74547999 13.40430782 19.02462623 15.14321995  9.40419811\n",
            " 11.28062614 15.9876918   6.79906667  0.56760428  5.07378494 16.41977085\n",
            "  8.47521076 14.2214855  14.01975711  6.03111027 12.12880473  2.10612484\n",
            " 10.50316744  6.36733327  4.67033121 16.72487385 19.54291517 15.15075767]\n"
          ],
          "name": "stdout"
        },
        {
          "output_type": "display_data",
          "data": {
            "image/png": "[encoded data removed]",
            "text/plain": [
              "<matplotlib.figure.Figure at 0x7fbed5b758d0>"
            ]
          },
          "metadata": {
            "tags": []
          }
        }
      ]
    },
    {
      "metadata": {
        "id": "M4mcBFX4B0Fy",
        "colab_type": "text"
      },
      "cell_type": "markdown",
      "source": [
        "$\\rm{Color~Index}$와 $\\rm{Magnitude}$ 값을 indexing 하는 코드는 각각 color[mask], F450[mask,5]이다. "
      ]
    },
    {
      "metadata": {
        "id": "RZ9i3EBEC4mk",
        "colab_type": "code",
        "colab": {
          "base_uri": "https://localhost:8080/",
          "height": 53
        },
        "outputId": "30892472-d303-48fc-8ca0-1bc595bb4feb"
      },
      "cell_type": "code",
      "source": [
        "print(color[mask])\n",
        "print(F450[mask,5])"
      ],
      "execution_count": 7,
      "outputs": [
        {
          "output_type": "stream",
          "text": [
            "[0.801 0.824 0.87  ... 1.268 1.079 1.619]\n",
            "[22.2   23.015 22.51  ... 24.385 23.664 26.227]\n"
          ],
          "name": "stdout"
        }
      ]
    },
    {
      "metadata": {
        "id": "MUUo5f-PFmBv",
        "colab_type": "text"
      },
      "cell_type": "markdown",
      "source": [
        "HR diagram을 그려보자."
      ]
    },
    {
      "metadata": {
        "id": "rBgfRKpIFtwg",
        "colab_type": "code",
        "colab": {
          "base_uri": "https://localhost:8080/",
          "height": 561
        },
        "outputId": "394e0829-703e-4d58-f62c-bbbe32e4dbd1"
      },
      "cell_type": "code",
      "source": [
        "# Get current size\n",
        "fig_size = plt.rcParams[\"figure.figsize\"]\n",
        " \n",
        "# Prints: [8.0, 6.0]\n",
        "print (\"Current size:\", fig_size)\n",
        "\n",
        "# Set figure width to 12 and height to 9\n",
        "fig_size[0] = 10\n",
        "fig_size[1] = 8\n",
        "plt.rcParams[\"figure.figsize\"] = fig_size\n",
        "\n",
        "\n",
        "plt.plot(color[mask], F450[mask,5], 'o', ms=2, alpha=0.2)\n",
        "plt.title('H-R Diagram of M80', fontsize=20)\n",
        "plt.xlabel('Color Index (F450W - F814W)', fontsize=18)\n",
        "plt.ylabel('Magnitude (F450W)', fontsize=18)\n",
        "plt.gca().invert_yaxis()\n",
        "\n",
        "plt.grid()\n",
        "\n",
        "\n",
        "#show the Diagram\n",
        "plt.show()\n",
        "\n",
        "plt.savefig('H-R Diagram of M80.png', dpi=None, facecolor='w', edgecolor='w',\n",
        "        orientation='portrait', papertype=None, format=None,\n",
        "        transparent=False, bbox_inches=None, pad_inches=0.1,\n",
        "        frameon=None, metadata=None)"
      ],
      "execution_count": 8,
      "outputs": [
        {
          "output_type": "stream",
          "text": [
            "Current size: [8.0, 5.5]\n"
          ],
          "name": "stdout"
        },
        {
          "output_type": "display_data",
          "data": {
            "image/png": "[encoded data removed]",
            "text/plain": [
              "<matplotlib.figure.Figure at 0x7fbed588c518>"
            ]
          },
          "metadata": {
            "tags": []
          }
        },
        {
          "output_type": "display_data",
          "data": {
            "text/plain": [
              "<matplotlib.figure.Figure at 0x7fbed5664da0>"
            ]
          },
          "metadata": {
            "tags": []
          }
        }
      ]
    },
    {
      "metadata": {
        "id": "cUZ0PtQ8DALi",
        "colab_type": "text"
      },
      "cell_type": "markdown",
      "source": [
        "정리 차원에서 최종 코드와 HST 자료를 첨부한다.\n",
        "\n",
        "* [full code](https://github.com/guitar79/OA-2018/blob/master/07-3.Draw_HR_Diagram_using_HST_data.py)\n",
        "* [F450](https://github.com/guitar79/OA-2018/blob/master/hst_11233_06_wfpc2_f450w_wf_daophot_trm.cat) 자료\n",
        "* [F814](https://github.com/guitar79/OA-2018/blob/master/hst_11233_06_wfpc2_f814w_wf_daophot_trm.cat) 자료"
      ]
    }
  ]
}