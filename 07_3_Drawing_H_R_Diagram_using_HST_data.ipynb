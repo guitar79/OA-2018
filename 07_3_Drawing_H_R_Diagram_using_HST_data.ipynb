{
  "nbformat": 4,
  "nbformat_minor": 0,
  "metadata": {
    "colab": {
      "name": "07-3.Drawing_H-R_Diagram_using_HST_data",
      "version": "0.3.2",
      "provenance": [],
      "collapsed_sections": [],
      "toc_visible": true,
      "include_colab_link": true
    },
    "kernelspec": {
      "name": "python3",
      "display_name": "Python 3"
    },
    "accelerator": "GPU"
  },
  "cells": [
    {
      "cell_type": "markdown",
      "metadata": {
        "id": "view-in-github",
        "colab_type": "text"
      },
      "source": [
        "[View in Colaboratory](https://colab.research.google.com/github/guitar79/OA-2018/blob/master/07_3_Drawing_H_R_Diagram_using_HST_data.ipynb)"
      ]
    },
    {
      "metadata": {
        "id": "hgwkawzGMlms",
        "colab_type": "text"
      },
      "cell_type": "markdown",
      "source": [
        "**Drawing H-R Diagram using HST data**\n",
        "\n",
        "\n",
        "* 이 자료는Hubble Space Telescope (HST)의 WFPC2 F450W 과 F814W filters data를 이용하여 HR Diagram을 그리는 교수학습자료이다.\n",
        "\n",
        "* 이 자료는 아래 자료를 참고하여, python3 환경에서 돌아가도록 수정하여 작성하였다. http://www.jasonkendall.com/WPU/HRDiagram/\n",
        "http://nbviewer.jupyter.org/github/ysbach/AO_2017/blob/master/03_Get_the_Taste.ipynb\n",
        "\n",
        "* python이 처음이라면 [Python Basic](https://colab.research.google.com/drive/1PCOoDIKypPVX9KTItMOht1cl96cPmeR_?authuser=1#scrollTo=3g6o04iLM0AF), [Python packages](https://colab.research.google.com/drive/1-1wx2VPEyNe11bmgpSpwdQgrJASCAqdH?authuser=1)를 먼저 학습하기를 권한다.\n",
        "\n",
        "* package를 쉽게 설치하기 위해 Anaconda 사용을 권장한다.\n",
        "\n",
        "* 경기과학고등학교 관측천문학 강좌를 위해 만들었으며 라이센스는 다음을 따른다.\n",
        "<a rel=\"license\" href=\"http://creativecommons.org/licenses/by-nc-sa/4.0/\"><img alt=\"크리에이티브 커먼즈 라이선스\" style=\"border-width:0\" src=\"https://i.creativecommons.org/l/by-nc-sa/4.0/88x31.png\" /></a><br />이 저작물은 <a rel=\"license\" href=\"http://creativecommons.org/licenses/by-nc-sa/4.0/\">크리에이티브 커먼즈 저작자표시-비영리-동일조건변경허락 4.0 국제 라이선스</a>에 따라 이용할 수 있습니다."
      ]
    },
    {
      "metadata": {
        "id": "u7wfBH1zb8kW",
        "colab_type": "text"
      },
      "cell_type": "markdown",
      "source": [
        "#Download data\n",
        "\n",
        "Hubble Legacy Archive (http://hla.stsci.edu/) 사이트에 접속한 후 \"Enter Site here\" 를 클릭한다. \n",
        "\n",
        "\n",
        "* \"M80\"을 검색하면 많은 데이타가 보일 것이다.\n",
        "* \"Detector\" column : \"WFPC2\" 를 입력하고 \"Enter\"\n",
        "* \"NExposures\" column : 6\n",
        "* \"PropID\" column : \"11233\"\n",
        "* \"VisitNum\" = 6 \n",
        "\n",
        "이제 2개의 자료만 보일 것이다. \n",
        "\n",
        "테이블 마지막 부분에 DAOPHOT algorithm에 의한 \"DAOCat\" data와 ,  SExtractor algorithm에 의한 \"SEXCat\" 자료가 있다. \n",
        "\n",
        "\"DAOphot\" link를 클릭하여 두 자료를 다운로드 받자.\n"
      ]
    },
    {
      "metadata": {
        "id": "_vbIDydx7Gvr",
        "colab_type": "code",
        "colab": {
          "base_uri": "https://localhost:8080/",
          "height": 476
        },
        "outputId": "303ccd54-df6e-4eca-e3a4-a416aff445f7"
      },
      "cell_type": "code",
      "source": [
        "import numpy as np\n",
        "import matplotlib.pyplot as plt\n",
        "\n",
        "# Load data\n",
        "# NumPy automatically skips the commented rows.\n",
        "F450 = np.loadtxt('hst_11233_06_wfpc2_f450w_wf_daophot_trm.cat') \n",
        "F814 = np.loadtxt('hst_11233_06_wfpc2_f814w_wf_daophot_trm.cat')\n",
        "\n",
        "print (F450)\n",
        "\n",
        "print ('******'*5)\n",
        "\n",
        "print (F814)"
      ],
      "execution_count": 1,
      "outputs": [
        {
          "output_type": "stream",
          "text": [
            "[[1839.865      680.779      244.264694  ... -999.        -999.\n",
            "     0.       ]\n",
            " [1837.589      676.567      244.2647626 ... -999.        -999.\n",
            "     0.       ]\n",
            " [1836.598      686.129      244.2647926 ... -999.        -999.\n",
            "     0.       ]\n",
            " ...\n",
            " [ 232.368      757.548      244.3131989 ... -999.        -999.\n",
            "     0.       ]\n",
            " [ 230.792      770.891      244.3132464 ... -999.        -999.\n",
            "     0.       ]\n",
            " [ 213.691      705.85       244.3137627 ... -999.        -999.\n",
            "     0.       ]]\n",
            "******************************\n",
            "[[1839.865      680.779      244.264694  ... -999.        -999.\n",
            "     0.       ]\n",
            " [1837.589      676.567      244.2647626 ... -999.        -999.\n",
            "     0.       ]\n",
            " [1836.598      686.129      244.2647926 ... -999.        -999.\n",
            "     0.       ]\n",
            " ...\n",
            " [ 230.792      770.891      244.3132464 ... -999.        -999.\n",
            "     0.       ]\n",
            " [ 213.691      705.85       244.3137627 ... -999.        -999.\n",
            "     0.       ]\n",
            " [ 209.054      696.384      244.3139027 ... -999.        -999.\n",
            "     0.       ]]\n"
          ],
          "name": "stdout"
        }
      ]
    },
    {
      "metadata": {
        "id": "EO475o4L3tOt",
        "colab_type": "text"
      },
      "cell_type": "markdown",
      "source": [
        "# Processing data\n",
        "\n",
        "HR diagram 을 그리기 위해 필요한 자료는 다음과 같다.\n",
        "\n",
        "\n",
        "*  $\\rm{Color~Index} = M_{F450} - M_{F814}$\n",
        "*  $\\rm{Magnitude} = M_{F450}$\n",
        "\n",
        "다운받은 자료에서 별의 ID (5th colomn), 별의 Magnitude (6th column)를 이용하면 된다.\n",
        "\n"
      ]
    },
    {
      "metadata": {
        "id": "d7yKE1PlMsk_",
        "colab_type": "code",
        "colab": {
          "base_uri": "https://localhost:8080/",
          "height": 255
        },
        "outputId": "f3dd4966-c139-4888-8f46-214f30ee59a1"
      },
      "cell_type": "code",
      "source": [
        "print (F450)\n",
        "print (F450[:,4])"
      ],
      "execution_count": 2,
      "outputs": [
        {
          "output_type": "stream",
          "text": [
            "[[1839.865      680.779      244.264694  ... -999.        -999.\n",
            "     0.       ]\n",
            " [1837.589      676.567      244.2647626 ... -999.        -999.\n",
            "     0.       ]\n",
            " [1836.598      686.129      244.2647926 ... -999.        -999.\n",
            "     0.       ]\n",
            " ...\n",
            " [ 232.368      757.548      244.3131989 ... -999.        -999.\n",
            "     0.       ]\n",
            " [ 230.792      770.891      244.3132464 ... -999.        -999.\n",
            "     0.       ]\n",
            " [ 213.691      705.85       244.3137627 ... -999.        -999.\n",
            "     0.       ]]\n",
            "[3158. 3115. 3208. ... 4002. 4119. 3427.]\n"
          ],
          "name": "stdout"
        }
      ]
    },
    {
      "metadata": {
        "id": "q2S18CnnP2bs",
        "colab_type": "text"
      },
      "cell_type": "markdown",
      "source": [
        "여기서 해결해야 할 문제는 두 파일 (F450, F814)에서 데이터 갯수가 서로 다르다는 것이다. \n",
        "\n",
        "이를 해결하려면 별의 ID를 비교하는 과정이 필요할텐데 다음과 같은 bool data type을 이용하면 해결할 수 있을 것이다."
      ]
    },
    {
      "metadata": {
        "id": "w-iLSYs3SU4r",
        "colab_type": "code",
        "colab": {
          "base_uri": "https://localhost:8080/",
          "height": 136
        },
        "outputId": "e2a18d65-7567-454b-cdea-4fb6919ae0dd"
      },
      "cell_type": "code",
      "source": [
        "import numpy as np\n",
        "\n",
        "num1 = np.arange(0, 11, 2) # generate numpy array (0, 11) with interval 2\n",
        "\n",
        "print(\"\\nnum1's elements:\")\n",
        "print(num1)\n",
        "\n",
        "# MASKING\n",
        "tf   = np.array([False, True, False, True, True, False])\n",
        "\n",
        "print (tf)\n",
        "\n",
        "print(\"\\nnum1's selected elements:\")\n",
        "print(num1[tf])\n"
      ],
      "execution_count": 3,
      "outputs": [
        {
          "output_type": "stream",
          "text": [
            "\n",
            "num1's elements:\n",
            "[ 0  2  4  6  8 10]\n",
            "[False  True False  True  True False]\n",
            "\n",
            "num1's selected elements:\n",
            "[2 6 8]\n"
          ],
          "name": "stdout"
        }
      ]
    },
    {
      "metadata": {
        "id": "QIZUrxbGTL2d",
        "colab_type": "text"
      },
      "cell_type": "markdown",
      "source": [
        "먼저 F450과 F814 중 데이터 갯수가 더 많은 것을 찾아서 그것을 기준으로 삼자.\n"
      ]
    },
    {
      "metadata": {
        "id": "ptUxCr65_ps2",
        "colab_type": "code",
        "colab": {
          "base_uri": "https://localhost:8080/",
          "height": 51
        },
        "outputId": "bd1ab36f-9e75-4341-fb5d-fe764cf2842f"
      },
      "cell_type": "code",
      "source": [
        "print (len(F450))\n",
        "print (len(F814))"
      ],
      "execution_count": 4,
      "outputs": [
        {
          "output_type": "stream",
          "text": [
            "5739\n",
            "7193\n"
          ],
          "name": "stdout"
        }
      ]
    },
    {
      "metadata": {
        "id": "D_nIj28lAiWw",
        "colab_type": "text"
      },
      "cell_type": "markdown",
      "source": [
        "F450이 더 많으므로 그 안에 있는 별의 ID를 기준으로 다음과 같이 비교하면 5598개의 별의 ID가 일치한다는 것을 확인하고, 그 색지수를 구할 수 있다."
      ]
    },
    {
      "metadata": {
        "id": "L5k68Mv3TXwf",
        "colab_type": "code",
        "colab": {
          "base_uri": "https://localhost:8080/",
          "height": 51
        },
        "outputId": "cadb2d1d-8ac3-456d-cbae-ca554531c3f6"
      },
      "cell_type": "code",
      "source": [
        "# get CI value and masking \n",
        "mask  = np.zeros(len(F450)).astype(bool)\n",
        "color = np.zeros(len(F450))\n",
        "\n",
        "# Get color indices of the \"same\" stars in two filter images\n",
        "for i in range(0, len(F450)):\n",
        "    ID450 = F450[i,4]\n",
        "    for j in range(0, len(F814)):\n",
        "        ID814 = F814[j,4]\n",
        "        if ID450 == ID814:\n",
        "            mask[i]  = True\n",
        "            color[i] = F450[i,5] - F814[j,5]\n",
        "            break # Once the matched item is found from F814, go to next star of F450.\n",
        "print (len(F450[mask]))\n",
        "print (len(color[mask]))"
      ],
      "execution_count": 7,
      "outputs": [
        {
          "output_type": "stream",
          "text": [
            "5598\n",
            "5598\n"
          ],
          "name": "stdout"
        }
      ]
    },
    {
      "metadata": {
        "id": "-AfNcKl79Hoj",
        "colab_type": "text"
      },
      "cell_type": "markdown",
      "source": [
        "# Chart plot\n",
        "\n",
        "matplotlib를 이용하면 아래와 같은 코드로 HR diagram 을 그릴 수 있을 것이다."
      ]
    },
    {
      "metadata": {
        "id": "63dMeG1d7CmM",
        "colab_type": "code",
        "colab": {
          "base_uri": "https://localhost:8080/",
          "height": 648
        },
        "outputId": "a8a1e81b-e9b5-4233-ef63-061b6528d410"
      },
      "cell_type": "code",
      "source": [
        "import numpy as np\n",
        "import matplotlib.pyplot as plt\n",
        "\n",
        "x = np.arange(0,6,0.1)\n",
        "y = np.random.rand(60)\n",
        "CI = x \n",
        "Mag = y*20\n",
        "print(\"CI\\n\", CI)\n",
        "print(\"Mag\\n\", Mag)\n",
        "\n",
        "#plot CI - Mag\n",
        "plt.plot(CI, Mag, 'o', ms=5, alpha=1)\n",
        "plt.grid()\n",
        "plt.title('H-R Diagram')\n",
        "plt.xlabel('Color Index')\n",
        "plt.ylabel('Magnitude')\n",
        "plt.gca().invert_yaxis()\n",
        "\n",
        "#show the Diagram\n",
        "plt.show()"
      ],
      "execution_count": 8,
      "outputs": [
        {
          "output_type": "stream",
          "text": [
            "CI\n",
            " [0.  0.1 0.2 0.3 0.4 0.5 0.6 0.7 0.8 0.9 1.  1.1 1.2 1.3 1.4 1.5 1.6 1.7\n",
            " 1.8 1.9 2.  2.1 2.2 2.3 2.4 2.5 2.6 2.7 2.8 2.9 3.  3.1 3.2 3.3 3.4 3.5\n",
            " 3.6 3.7 3.8 3.9 4.  4.1 4.2 4.3 4.4 4.5 4.6 4.7 4.8 4.9 5.  5.1 5.2 5.3\n",
            " 5.4 5.5 5.6 5.7 5.8 5.9]\n",
            "Mag\n",
            " [ 5.63646738  1.35301909  5.6145887   0.70414065 16.13813063  3.40332709\n",
            "  9.96099724  8.80323544 17.84535651  4.89519235 19.72021474 11.46601077\n",
            " 15.31521835  3.68561772  6.31176583  6.64651744  0.26382869  1.02884785\n",
            " 16.30298974 17.02211477  0.05097518  0.68544797 10.22264562  8.18098573\n",
            " 10.32956598  0.73037913  4.87579007  7.91564735  2.32643866 16.47919217\n",
            " 13.01788878  9.12373314 15.04845193  0.05176214 17.24766506  8.65146482\n",
            " 15.56409284  3.62353312 11.78968306  5.864475    5.80907396 18.43368019\n",
            "  0.63551377 11.36019281  2.67045869 13.75151724  1.33749796 18.31613547\n",
            " 10.65416985  4.50164478 11.97663314  8.54458859 19.13341472 10.24537009\n",
            "  6.78675725  6.66859995  7.81143204  9.98653655  0.49697083 16.35013962]\n"
          ],
          "name": "stdout"
        },
        {
          "output_type": "display_data",
          "data": {
            "image/png": "[encoded data removed]",
            "text/plain": [
              "<matplotlib.figure.Figure at 0x7ff7d7dd7630>"
            ]
          },
          "metadata": {
            "tags": []
          }
        }
      ]
    },
    {
      "metadata": {
        "id": "M4mcBFX4B0Fy",
        "colab_type": "text"
      },
      "cell_type": "markdown",
      "source": [
        "$\\rm{Color~Index}$와 $\\rm{Magnitude}$ 값을 indexing 하는 코드는 각각 color[mask], F450[mask,5]이다. "
      ]
    },
    {
      "metadata": {
        "id": "RZ9i3EBEC4mk",
        "colab_type": "code",
        "colab": {
          "base_uri": "https://localhost:8080/",
          "height": 51
        },
        "outputId": "d9818f3a-4c54-43c2-dd78-8cbd5e61d0bf"
      },
      "cell_type": "code",
      "source": [
        "print(color[mask])\n",
        "print(F450[mask,5])"
      ],
      "execution_count": 9,
      "outputs": [
        {
          "output_type": "stream",
          "text": [
            "[0.801 0.824 0.87  ... 1.268 1.079 1.619]\n",
            "[22.2   23.015 22.51  ... 24.385 23.664 26.227]\n"
          ],
          "name": "stdout"
        }
      ]
    },
    {
      "metadata": {
        "id": "MUUo5f-PFmBv",
        "colab_type": "text"
      },
      "cell_type": "markdown",
      "source": [
        "HR diagram을 그려보자."
      ]
    },
    {
      "metadata": {
        "id": "rBgfRKpIFtwg",
        "colab_type": "code",
        "colab": {
          "base_uri": "https://localhost:8080/",
          "height": 559
        },
        "outputId": "a83a2992-483f-42d2-9bf5-de331ae282a2"
      },
      "cell_type": "code",
      "source": [
        "# Get current size\n",
        "fig_size = plt.rcParams[\"figure.figsize\"]\n",
        " \n",
        "# Prints: [8.0, 6.0]\n",
        "print (\"Current size:\", fig_size)\n",
        "\n",
        "# Set figure width to 12 and height to 9\n",
        "fig_size[0] = 10\n",
        "fig_size[1] = 8\n",
        "plt.rcParams[\"figure.figsize\"] = fig_size\n",
        "\n",
        "\n",
        "plt.plot(color[mask], F450[mask,5], 'o', ms=2, alpha=0.2)\n",
        "plt.title('H-R Diagram of M80', fontsize=20)\n",
        "plt.xlabel('Color Index (F450W - F814W)', fontsize=18)\n",
        "plt.ylabel('Magnitude (F450W)', fontsize=18)\n",
        "plt.gca().invert_yaxis()\n",
        "\n",
        "plt.grid()\n",
        "\n",
        "\n",
        "#show the Diagram\n",
        "plt.show()\n",
        "\n",
        "plt.savefig('H-R Diagram (Hipparcos catalog).png', dpi=None, facecolor='w', edgecolor='w',\n",
        "        orientation='portrait', papertype=None, format=None,\n",
        "        transparent=False, bbox_inches=None, pad_inches=0.1,\n",
        "        frameon=None, metadata=None)"
      ],
      "execution_count": 15,
      "outputs": [
        {
          "output_type": "stream",
          "text": [
            "Current size: [10.0, 8.0]\n"
          ],
          "name": "stdout"
        },
        {
          "output_type": "display_data",
          "data": {
            "image/png": "[encoded data removed]",
            "text/plain": [
              "<matplotlib.figure.Figure at 0x7ff7d7fe3cc0>"
            ]
          },
          "metadata": {
            "tags": []
          }
        },
        {
          "output_type": "display_data",
          "data": {
            "text/plain": [
              "<matplotlib.figure.Figure at 0x7ff7d7fb25f8>"
            ]
          },
          "metadata": {
            "tags": []
          }
        }
      ]
    },
    {
      "metadata": {
        "id": "cUZ0PtQ8DALi",
        "colab_type": "text"
      },
      "cell_type": "markdown",
      "source": [
        "정리 차원에서 최종 코드와 HIP catalog를 첨부한다.\n",
        "\n",
        "* [full code](https://github.com/guitar79/OA-2018/blob/master/07-3.Draw_HR_Diagram_using_HST_data.py)\n",
        "\n",
        "* [F450](https://github.com/guitar79/OA-2018/blob/master/hst_11233_06_wfpc2_f450w_wf_daophot_trm.cat)\n",
        "\n",
        "* [F814](https://github.com/guitar79/OA-2018/blob/master/hst_11233_06_wfpc2_f814w_wf_daophot_trm.cat)"
      ]
    }
  ]
}