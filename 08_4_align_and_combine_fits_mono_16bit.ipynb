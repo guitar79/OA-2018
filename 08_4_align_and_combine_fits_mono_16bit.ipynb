{
  "nbformat": 4,
  "nbformat_minor": 0,
  "metadata": {
    "colab": {
      "name": "08-4.align_and_combine_fits_mono_16bit",
      "version": "0.3.2",
      "provenance": [],
      "collapsed_sections": [],
      "toc_visible": true,
      "include_colab_link": true
    },
    "kernelspec": {
      "name": "python3",
      "display_name": "Python 3"
    },
    "accelerator": "GPU"
  },
  "cells": [
    {
      "cell_type": "markdown",
      "metadata": {
        "id": "view-in-github",
        "colab_type": "text"
      },
      "source": [
        "<a href=\"https://colab.research.google.com/github/guitar79/OA-2018/blob/master/08_4_align_and_combine_fits_mono_16bit.ipynb\" target=\"_parent\"><img src=\"https://colab.research.google.com/assets/colab-badge.svg\" alt=\"Open In Colab\"/></a>"
      ]
    },
    {
      "metadata": {
        "id": "hgwkawzGMlms",
        "colab_type": "text"
      },
      "cell_type": "markdown",
      "source": [
        "**Read fits file**\n",
        "\n",
        "\n",
        "* 이 자료는 천체사진 합성을 위하여 16 bit mono Fits file을 alignment 하고 combine 하는 방법에 대한 설명이다.\n",
        "\n",
        "* python이 처음이라면 [Python Basic](https://colab.research.google.com/drive/1PCOoDIKypPVX9KTItMOht1cl96cPmeR_?authuser=1#scrollTo=3g6o04iLM0AF), [Python packages](https://colab.research.google.com/drive/1-1wx2VPEyNe11bmgpSpwdQgrJASCAqdH?authuser=1)를 먼저 학습하기를 권한다.\n",
        "\n",
        "* package를 쉽게 설치하기 위해 Anaconda 사용을 권장한다.\n",
        "\n",
        "경기과학고등학교 관측천문학 강좌를 위해 만들었으며  <a rel=\"license\" href=\"http://creativecommons.org/licenses/by-nc-sa/4.0/\">크리에이티브 커먼즈 저작자표시-비영리-동일조건변경허락 4.0 국제 라이선스</a>에 따라 이용할 수 있음.\n",
        "\n",
        "<a rel=\"license\" href=\"http://creativecommons.org/licenses/by-nc-sa/4.0/\"><img alt=\"크리에이티브 커먼즈 라이선스\" style=\"border-width:0\" src=\"https://i.creativecommons.org/l/by-nc-sa/4.0/88x31.png\" /></a>"
      ]
    },
    {
      "metadata": {
        "id": "u7wfBH1zb8kW",
        "colab_type": "text"
      },
      "cell_type": "markdown",
      "source": [
        "#Download data\n",
        "\n",
        "[example fits files](https://drive.google.com/open?id=1guTGchioD5iD8tr1HOu0Qjjj_MjL-c-M)\n",
        "\n",
        "작성중입니다.\n"
      ]
    },
    {
      "metadata": {
        "id": "rBgfRKpIFtwg",
        "colab_type": "code",
        "colab": {}
      },
      "cell_type": "code",
      "source": [
        "# Get current size"
      ],
      "execution_count": 0,
      "outputs": []
    },
    {
      "metadata": {
        "id": "cUZ0PtQ8DALi",
        "colab_type": "text"
      },
      "cell_type": "markdown",
      "source": [
        "정리 차원에서 최종 코드를 첨부한다.\n",
        "\n",
        "* [full code](https://github.com/guitar79/OA-2018/blob/master/08-align_and_combine_fits_mono_16bit.py)"
      ]
    }
  ]
}