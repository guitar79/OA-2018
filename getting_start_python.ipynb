{
  "nbformat": 4,
  "nbformat_minor": 0,
  "metadata": {
    "colab": {
      "name": "getting_start_python.ipynb",
      "version": "0.3.2",
      "provenance": [],
      "include_colab_link": true
    },
    "kernelspec": {
      "name": "python3",
      "display_name": "Python 3"
    }
  },
  "cells": [
    {
      "cell_type": "markdown",
      "metadata": {
        "id": "view-in-github",
        "colab_type": "text"
      },
      "source": [
        "[View in Colaboratory](https://colab.research.google.com/github/guitar79/OA-2018/blob/master/getting_start_python.ipynb)"
      ]
    },
    {
      "metadata": {
        "id": "sy2en_WQUjS5",
        "colab_type": "text"
      },
      "cell_type": "markdown",
      "source": [
        "# Python Basics"
      ]
    },
    {
      "metadata": {
        "id": "JdowSWeyW1Qy",
        "colab_type": "text"
      },
      "cell_type": "markdown",
      "source": [
        "python 사용법에 대해 간단히 설명한다. 자세한 내용은 official Python tutorial (https://docs.python.org/3/tutorial/index.html) 을 참고하기 바란다.\n",
        "\n"
      ]
    },
    {
      "metadata": {
        "id": "UlSVsekUXEVg",
        "colab_type": "text"
      },
      "cell_type": "markdown",
      "source": [
        "python package를 사용하기 위해서는 미리 설치되어 있어야 한다. pip 또는 anaconda 를 이용하여 설치할 수 있는데, anaconda (https://www.anaconda.com/download/) 를 주로 사용할 것이다. \n"
      ]
    },
    {
      "metadata": {
        "id": "C3SDVrStXHog",
        "colab_type": "text"
      },
      "cell_type": "markdown",
      "source": [
        "**Importing**"
      ]
    },
    {
      "metadata": {
        "id": "gkFjFBpjXmVK",
        "colab_type": "text"
      },
      "cell_type": "markdown",
      "source": [
        "이름이 'numpy'인 Package는 아래와 같이 불러올 수 있다. "
      ]
    },
    {
      "metadata": {
        "id": "xzZwAEsvXl3C",
        "colab_type": "code",
        "colab": {}
      },
      "cell_type": "code",
      "source": [
        "import numpy"
      ],
      "execution_count": 0,
      "outputs": []
    },
    {
      "metadata": {
        "id": "7sXvmmmSYEIE",
        "colab_type": "text"
      },
      "cell_type": "markdown",
      "source": [
        "'astropy'라는 package의 여러 'subpackage' 중에서 이름이 'constants'인 subpackage 만을 불러올 경우에는 아래와 같이 입력한다."
      ]
    },
    {
      "metadata": {
        "id": "u_JNMK0eYGby",
        "colab_type": "code",
        "colab": {}
      },
      "cell_type": "code",
      "source": [
        "from astropy import constants"
      ],
      "execution_count": 0,
      "outputs": []
    },
    {
      "metadata": {
        "id": "xa-QqqIdUzzo",
        "colab_type": "text"
      },
      "cell_type": "markdown",
      "source": [
        "'fits' 라는 이름의 subsub package 가 있는 경우, 즉 ssub ∈ sub ∈ pkg 인 경우에는 아래와 같이 불러올 수 있다. \n"
      ]
    },
    {
      "metadata": {
        "id": "8sGPzo7DZe_d",
        "colab_type": "code",
        "colab": {}
      },
      "cell_type": "code",
      "source": [
        "from astropy.io import fits"
      ],
      "execution_count": 0,
      "outputs": []
    },
    {
      "metadata": {
        "id": "Xb0ev-2Ye9Q7",
        "colab_type": "text"
      },
      "cell_type": "markdown",
      "source": [
        "'matplotlib'라는 이름의 package에 'pyplot' 함수를 'plt'라는 이름으로 사용하고자 한다면 다음과 같이 입력해 준다."
      ]
    },
    {
      "metadata": {
        "id": "QD9EZep7kIOm",
        "colab_type": "code",
        "colab": {}
      },
      "cell_type": "code",
      "source": [
        "import matplotlib.pyplot as plt"
      ],
      "execution_count": 0,
      "outputs": []
    },
    {
      "metadata": {
        "id": "KqoOkfAwkHxS",
        "colab_type": "text"
      },
      "cell_type": "markdown",
      "source": [
        " (larger).(smaller).(even_smaller)와 같은 형식으로 패키지를 사용할 수 있다.\n",
        " 'astropy.stats'라는 이름의 package (module) 안에 있는 'sigma_clip'이라는 함수를 사용하고자 한다면 다음과 같이 입력해 준다.\n",
        "\n"
      ]
    },
    {
      "metadata": {
        "id": "hDt8_VCdgZAF",
        "colab_type": "code",
        "colab": {}
      },
      "cell_type": "code",
      "source": [
        "astropy.stats.sigma_clip()"
      ],
      "execution_count": 0,
      "outputs": []
    },
    {
      "metadata": {
        "id": "9Lm-HnqiE87b",
        "colab_type": "text"
      },
      "cell_type": "markdown",
      "source": [
        "**Data Types**"
      ]
    },
    {
      "metadata": {
        "id": "TxX2h05xl0l7",
        "colab_type": "text"
      },
      "cell_type": "markdown",
      "source": [
        "Python도 다른 프로그래밍 언어처럼 몇몇 데이터 타입이 있다. 그리고 데이터 타입을 보려면 다음과 같이 type 함수를 사용할 수 있다."
      ]
    },
    {
      "metadata": {
        "id": "iCFohFD2FPfp",
        "colab_type": "code",
        "colab": {
          "base_uri": "https://localhost:8080/",
          "height": 125
        },
        "cellView": "both",
        "outputId": "0f9906e3-e653-443e-a2e4-af06208c8a2d"
      },
      "cell_type": "code",
      "source": [
        "a = 3     # integer\n",
        "b = 3.14  # float (real number)\n",
        "c = 'cc'  # string\n",
        "\n",
        "print(a)  # will print 3\n",
        "print(b)  # will print 3.14\n",
        "print(c)  # will print cc\n",
        "print(type(a))   # the data types of a, b, c\n",
        "print(type(b))\n",
        "print(type(c))"
      ],
      "execution_count": 0,
      "outputs": [
        {
          "output_type": "stream",
          "text": [
            "3\n",
            "3.14\n",
            "cc\n",
            "<class 'int'>\n",
            "<class 'float'>\n",
            "<class 'str'>\n"
          ],
          "name": "stdout"
        }
      ]
    },
    {
      "metadata": {
        "id": "aL-DrUwlyee4",
        "colab_type": "text"
      },
      "cell_type": "markdown",
      "source": [
        "물론 'True', 'False' 형태도 있다. "
      ]
    },
    {
      "metadata": {
        "id": "9PIPOe9Nye3S",
        "colab_type": "code",
        "colab": {
          "base_uri": "https://localhost:8080/",
          "height": 53
        },
        "outputId": "6dd6c783-0ea8-4354-e353-a884f7787f60"
      },
      "cell_type": "code",
      "source": [
        "print(type(True))\n",
        "print(type(False))"
      ],
      "execution_count": 0,
      "outputs": [
        {
          "output_type": "stream",
          "text": [
            "<class 'bool'>\n",
            "<class 'bool'>\n"
          ],
          "name": "stdout"
        }
      ]
    },
    {
      "metadata": {
        "id": "8h-mgmAByyFk",
        "colab_type": "text"
      },
      "cell_type": "markdown",
      "source": [
        "'index'는 '0' 부터 시작하며, 다음과 같은 데이터 형태들이 있다. "
      ]
    },
    {
      "metadata": {
        "id": "D1xINvFTzAxT",
        "colab_type": "code",
        "colab": {
          "base_uri": "https://localhost:8080/",
          "height": 107
        },
        "outputId": "1c4d3361-0a0e-493f-e2aa-1d39597a756d"
      },
      "cell_type": "code",
      "source": [
        "import numpy as np\n",
        "\n",
        "A = [0,1,2]            # classical Python \"list\"\n",
        "B = (0,1,2)            # classical Python \"tuple\"\n",
        "C = np.array((0,1,2))  # numpy n-dimensional array\n",
        "print('A: ', A[0], A[1], A[2])\n",
        "print('B: ', B[0], B[1], B[2])\n",
        "print('C: ', C[0], C[1], C[2])\n",
        "print('ABC: ', A, B, C)\n",
        "print('type: ', type(A), type(B), type(C))"
      ],
      "execution_count": 0,
      "outputs": [
        {
          "output_type": "stream",
          "text": [
            "A:  0 1 2\n",
            "B:  0 1 2\n",
            "C:  0 1 2\n",
            "ABC:  [0, 1, 2] (0, 1, 2) [0 1 2]\n",
            "type:  <class 'list'> <class 'tuple'> <class 'numpy.ndarray'>\n"
          ],
          "name": "stdout"
        }
      ]
    },
    {
      "metadata": {
        "id": "kPgxKJ63zSPs",
        "colab_type": "text"
      },
      "cell_type": "markdown",
      "source": [
        ""
      ]
    },
    {
      "metadata": {
        "id": "FYhZKfaAzS0j",
        "colab_type": "code",
        "colab": {
          "base_uri": "https://localhost:8080/",
          "height": 71
        },
        "outputId": "382fb1fc-4d04-413a-9d30-efbf3472d32f"
      },
      "cell_type": "code",
      "source": [
        "C_obj = np.array([0,1,'test'], dtype='object')\n",
        "print(C_obj)\n",
        "print(C_obj[0], C_obj[1], C_obj[2])\n",
        "print(type(C_obj[0]), type(C_obj[1]), type(C_obj[2]))"
      ],
      "execution_count": 0,
      "outputs": [
        {
          "output_type": "stream",
          "text": [
            "[0 1 'test']\n",
            "0 1 test\n",
            "<class 'int'> <class 'int'> <class 'str'>\n"
          ],
          "name": "stdout"
        }
      ]
    },
    {
      "metadata": {
        "id": "fVuSjLhZ0CLk",
        "colab_type": "text"
      },
      "cell_type": "markdown",
      "source": [
        "**Conditions/Loops**"
      ]
    },
    {
      "metadata": {
        "id": "p9czHH5V0RVr",
        "colab_type": "code",
        "colab": {
          "base_uri": "https://localhost:8080/",
          "height": 35
        },
        "outputId": "1a92f886-1cea-4c72-cbf7-bd4d39e49aed"
      },
      "cell_type": "code",
      "source": [
        "x, y, z = 3, 3.14, 10-7\n",
        "if (x != y):\n",
        "    print('Different!')\n"
      ],
      "execution_count": 0,
      "outputs": [
        {
          "output_type": "stream",
          "text": [
            "Different!\n"
          ],
          "name": "stdout"
        }
      ]
    },
    {
      "metadata": {
        "id": "mc3dRZmY1FmT",
        "colab_type": "code",
        "colab": {}
      },
      "cell_type": "code",
      "source": [
        "L  = np.arange(0, 10, 1) # numpy array with elements [0, 10] with interval 1\n",
        "L1 = np.ones((10))  # 10 by 1 sized numpy array, filled with 1\n",
        "\n",
        "for i in range(0,10):\n",
        "    if (L[i] == 9):\n",
        "        print(\"\\t'Oh it's NEIN!'\")\n",
        "        continue\n",
        "    print(L[i], end=' ') # option \"end\" sets the ending part for each print; test many cases by yourself!\n",
        "    print(L[i]==L1[i], end=' ')"
      ],
      "execution_count": 0,
      "outputs": []
    },
    {
      "metadata": {
        "id": "b58oXfc31FPi",
        "colab_type": "code",
        "colab": {}
      },
      "cell_type": "code",
      "source": [
        "L1 = np.ones((10))  # 10 by 1 sized numpy array, filled with 1\n",
        "j = 0\n",
        "while (1):  # identical to while(True)\n",
        "    print(j, L1[j])\n",
        "    j += 1\n",
        "    if(j==5):\n",
        "        print(\"j reached 5\")\n",
        "        break"
      ],
      "execution_count": 0,
      "outputs": []
    },
    {
      "metadata": {
        "id": "7xuuxJEg0GJO",
        "colab_type": "text"
      },
      "cell_type": "markdown",
      "source": [
        "** Numpy**"
      ]
    },
    {
      "metadata": {
        "id": "wC9bsk4k2MkH",
        "colab_type": "code",
        "colab": {
          "base_uri": "https://localhost:8080/",
          "height": 503
        },
        "outputId": "d9a5f80e-7fea-488a-8998-64739cae081c"
      },
      "cell_type": "code",
      "source": [
        "num1 = np.arange(0, 11, 2) # generate numpy array [0, 11) with interval 2\n",
        "num2 = np.random.rand(6) # generate six random numbers (0,1)\n",
        "\n",
        "# Basics\n",
        "print(\"num1:\")\n",
        "print(num1)\n",
        "print(\"num2:\")\n",
        "print(num2)\n",
        "print(\"\\nnum1^2:\") # \"\\n\" means \"new line\".\n",
        "print(num1**2)           # Square each element\n",
        "print(\"\\nnum1^(0.5):\")\n",
        "print(np.sqrt(num1))     # Square root of each element\n",
        "print(\"\\nnum1 in 2 x 3 form:\")\n",
        "print(num1.reshape(2,3)) # reshape the num1 into 2 by 3 form. \n",
        "# Identical to np.reshape(num1, (2,3))\n",
        "num3 = np.reshape(num1, (2,3))\n",
        "print(\"\\nnum3's row 0:\")\n",
        "print(num3[0,:])         # row 0, column all (:)\n",
        "print(\"\\nnum3's min/max:\")\n",
        "print(num3.min(), num3.max())\n",
        "# Identical to np.min(num3), np.max(num3)\n",
        "print(np.where(num3 == num3.max())) # Show at which position the maximum occurs\n",
        "\n",
        "# MASKING\n",
        "tf   = np.array([False, True, False, True, True, False])\n",
        "print(\"\\nnum1's selected elements:\")\n",
        "print(num1[tf])\n",
        "\n",
        "tf   = (num2*10 > 3)       # Select only elements larger than 3 from num2*10\n",
        "# RHS is identical to just \"num2*10>3\"\n",
        "print(\"\\nnum2's selected elements:\")\n",
        "print(num2[tf])"
      ],
      "execution_count": 0,
      "outputs": [
        {
          "output_type": "stream",
          "text": [
            "num1:\n",
            "[ 0  2  4  6  8 10]\n",
            "num2:\n",
            "[0.56211736 0.99961462 0.48370879 0.53373763 0.35954605 0.74961354]\n",
            "\n",
            "num1^2:\n",
            "[  0   4  16  36  64 100]\n",
            "\n",
            "num1^(0.5):\n",
            "[0.         1.41421356 2.         2.44948974 2.82842712 3.16227766]\n",
            "\n",
            "num1 in 2 x 3 form:\n",
            "[[ 0  2  4]\n",
            " [ 6  8 10]]\n",
            "\n",
            "num3's row 0:\n",
            "[0 2 4]\n",
            "\n",
            "num3's min/max:\n",
            "0 10\n",
            "(array([1]), array([2]))\n",
            "\n",
            "num1's selected elements:\n",
            "[2 6 8]\n",
            "\n",
            "num2's selected elements:\n",
            "[0.56211736 0.99961462 0.48370879 0.53373763 0.35954605 0.74961354]\n"
          ],
          "name": "stdout"
        }
      ]
    }
  ]
}