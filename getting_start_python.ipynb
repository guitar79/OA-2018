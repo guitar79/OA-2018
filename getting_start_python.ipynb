{
  "nbformat": 4,
  "nbformat_minor": 0,
  "metadata": {
    "colab": {
      "name": "getting_start_python.ipynb",
      "version": "0.3.2",
      "provenance": [],
      "include_colab_link": true
    },
    "kernelspec": {
      "name": "python3",
      "display_name": "Python 3"
    }
  },
  "cells": [
    {
      "cell_type": "markdown",
      "metadata": {
        "id": "view-in-github",
        "colab_type": "text"
      },
      "source": [
        "[View in Colaboratory](https://colab.research.google.com/github/guitar79/OA-2018/blob/master/getting_start_python.ipynb)"
      ]
    },
    {
      "metadata": {
        "id": "t8_4JKDzOfmi",
        "colab_type": "text"
      },
      "cell_type": "markdown",
      "source": [
        "Python code samples"
      ]
    },
    {
      "metadata": {
        "id": "9Lm-HnqiE87b",
        "colab_type": "text"
      },
      "cell_type": "markdown",
      "source": [
        "A code sample"
      ]
    },
    {
      "metadata": {
        "id": "iCFohFD2FPfp",
        "colab_type": "code",
        "colab": {
          "base_uri": "https://localhost:8080/",
          "height": 53
        },
        "outputId": "bd745a7e-b348-4fd4-9e0f-96f44ea4515e"
      },
      "cell_type": "code",
      "source": [
        "x = 34 - 23 \t\t# A comment.\n",
        "y =  'hello' \t\t# Another one.\n",
        "z = 3.45\n",
        "if z == 3.45 or y ==  'Hello': \n",
        "  x = x + 1 \n",
        "  y = y + 'World' \t# String concat. \n",
        "print ('x : ', x)\n",
        "print ('y : ', y)"
      ],
      "execution_count": 5,
      "outputs": [
        {
          "output_type": "stream",
          "text": [
            "x :  12\n",
            "y :  helloWorld\n"
          ],
          "name": "stdout"
        }
      ]
    }
  ]
}