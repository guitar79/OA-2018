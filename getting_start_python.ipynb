{
  "nbformat": 4,
  "nbformat_minor": 0,
  "metadata": {
    "colab": {
      "name": "getting_start_python.ipynb",
      "version": "0.3.2",
      "provenance": [],
      "include_colab_link": true
    },
    "kernelspec": {
      "name": "python3",
      "display_name": "Python 3"
    }
  },
  "cells": [
    {
      "cell_type": "markdown",
      "metadata": {
        "id": "view-in-github",
        "colab_type": "text"
      },
      "source": [
        "[View in Colaboratory](https://colab.research.google.com/github/guitar79/OA-2018/blob/master/getting_start_python.ipynb)"
      ]
    },
    {
      "metadata": {
        "id": "sy2en_WQUjS5",
        "colab_type": "text"
      },
      "cell_type": "markdown",
      "source": [
        "# Python Basics"
      ]
    },
    {
      "metadata": {
        "id": "JdowSWeyW1Qy",
        "colab_type": "text"
      },
      "cell_type": "markdown",
      "source": [
        "python 사용법에 대해 간단히 설명한다. 자세한 내용은 official Python tutorial (https://docs.python.org/3/tutorial/index.html) 을 참고하기 바란다.\n",
        "\n"
      ]
    },
    {
      "metadata": {
        "id": "iW_yxEWiTbyH",
        "colab_type": "text"
      },
      "cell_type": "markdown",
      "source": [
        "**Using Packages**"
      ]
    },
    {
      "metadata": {
        "id": "UlSVsekUXEVg",
        "colab_type": "text"
      },
      "cell_type": "markdown",
      "source": [
        "python package를 사용하기 위해서는 미리 설치되어 있어야 한다. pip 또는 anaconda 를 이용하여 설치할 수 있는데, anaconda (https://www.anaconda.com/download/) 를 주로 사용할 것이다. \n"
      ]
    },
    {
      "metadata": {
        "id": "C3SDVrStXHog",
        "colab_type": "text"
      },
      "cell_type": "markdown",
      "source": [
        "**Importing**"
      ]
    },
    {
      "metadata": {
        "id": "gkFjFBpjXmVK",
        "colab_type": "text"
      },
      "cell_type": "markdown",
      "source": [
        "이름이 'pkg'인 Package는 아래와 같이 불러올 수 있다. "
      ]
    },
    {
      "metadata": {
        "id": "xzZwAEsvXl3C",
        "colab_type": "code",
        "colab": {}
      },
      "cell_type": "code",
      "source": [
        "import pkg"
      ],
      "execution_count": 0,
      "outputs": []
    },
    {
      "metadata": {
        "id": "7sXvmmmSYEIE",
        "colab_type": "text"
      },
      "cell_type": "markdown",
      "source": [
        "'pkg'라는 package의 여러 'subpackage' 중에서 이름이 'sub'인 subpackage 만을 불러올 경우에는 아래와 같이 입력한다."
      ]
    },
    {
      "metadata": {
        "id": "u_JNMK0eYGby",
        "colab_type": "code",
        "colab": {}
      },
      "cell_type": "code",
      "source": [
        "from pkg import sub"
      ],
      "execution_count": 0,
      "outputs": []
    },
    {
      "metadata": {
        "id": "xa-QqqIdUzzo",
        "colab_type": "text"
      },
      "cell_type": "markdown",
      "source": [
        "'ssub' 라는 이름의 subsub package 가 있는 경우, 즉 ssub ∈ sub ∈ pkg 인 경우에는 아래와 같이 불러올 수 있다. \n"
      ]
    },
    {
      "metadata": {
        "id": "8sGPzo7DZe_d",
        "colab_type": "code",
        "colab": {}
      },
      "cell_type": "code",
      "source": [
        "from pkg.sub import ssub"
      ],
      "execution_count": 0,
      "outputs": []
    },
    {
      "metadata": {
        "id": "Xb0ev-2Ye9Q7",
        "colab_type": "text"
      },
      "cell_type": "markdown",
      "source": [
        " (larger).(smaller).(even_smaller)와 같은 형식으로 패키지를 사용할 수 있다.\n",
        " 'ssub'라는 이름의 package (module) 안에 있는 'sum'이라는 함수를 사용하고자 한다면, 다음과 같이 입력해 준다."
      ]
    },
    {
      "metadata": {
        "id": "hDt8_VCdgZAF",
        "colab_type": "code",
        "colab": {
          "base_uri": "https://localhost:8080/",
          "height": 172
        },
        "outputId": "71d2b9de-52b9-453c-d956-c8fa57026573"
      },
      "cell_type": "code",
      "source": [
        "ssub.sum(1, 2, 3)"
      ],
      "execution_count": 11,
      "outputs": [
        {
          "output_type": "error",
          "ename": "NameError",
          "evalue": "ignored",
          "traceback": [
            "\u001b[0;31m---------------------------------------------------------------------------\u001b[0m",
            "\u001b[0;31mNameError\u001b[0m                                 Traceback (most recent call last)",
            "\u001b[0;32m<ipython-input-11-f91a93b9f5a2>\u001b[0m in \u001b[0;36m<module>\u001b[0;34m()\u001b[0m\n\u001b[0;32m----> 1\u001b[0;31m \u001b[0mssub\u001b[0m\u001b[0;34m.\u001b[0m\u001b[0msum\u001b[0m\u001b[0;34m(\u001b[0m\u001b[0;36m1\u001b[0m\u001b[0;34m,\u001b[0m \u001b[0;36m2\u001b[0m\u001b[0;34m,\u001b[0m \u001b[0;36m3\u001b[0m\u001b[0;34m)\u001b[0m\u001b[0;34m\u001b[0m\u001b[0m\n\u001b[0m",
            "\u001b[0;31mNameError\u001b[0m: name 'ssub' is not defined"
          ]
        }
      ]
    },
    {
      "metadata": {
        "id": "9Lm-HnqiE87b",
        "colab_type": "text"
      },
      "cell_type": "markdown",
      "source": [
        "A code sample"
      ]
    },
    {
      "metadata": {
        "id": "iCFohFD2FPfp",
        "colab_type": "code",
        "colab": {
          "base_uri": "https://localhost:8080/",
          "height": 53
        },
        "cellView": "both",
        "outputId": "cc294b93-5323-4455-8c30-812be3734cd7"
      },
      "cell_type": "code",
      "source": [
        "x = 34 - 23 \t\t# A comment.\n",
        "y =  'hello' \t\t# Another one.\n",
        "z = 3.45\n",
        "if z == 3.45 or y ==  'Hello': \n",
        "  x = x + 1 \n",
        "  y = y + 'World' \t# String concat. \n",
        "print ('x : ', x)\n",
        "print ('y : ', y)"
      ],
      "execution_count": 10,
      "outputs": [
        {
          "output_type": "stream",
          "text": [
            "x :  12\n",
            "y :  helloWorld\n"
          ],
          "name": "stdout"
        }
      ]
    },
    {
      "metadata": {
        "id": "xJL6b0XBRPc1",
        "colab_type": "toc"
      },
      "cell_type": "markdown",
      "source": [
        ""
      ]
    },
    {
      "metadata": {
        "id": "c_InkbqlQzMq",
        "colab_type": "text"
      },
      "cell_type": "markdown",
      "source": [
        "conda update --all\n",
        "conda config --add channels http://ssb.stsci.edu/astroconda\n",
        "conda create -n iraf python=2.7 iraf-all pyraf-all stsci\n",
        "\n",
        "```\n",
        "# 코드로 형식 지정됨 **굵은 텍스트**\n",
        "```\n",
        "\n"
      ]
    },
    {
      "metadata": {
        "id": "ypPUuIoqSAWX",
        "colab_type": "code",
        "colab": {}
      },
      "cell_type": "code",
      "source": [
        "!pip install astropy\n",
        "!pip install photutils\n",
        "!pip install pytest-astropy\n",
        "import astropy, photutils\n",
        "photutils.test()\n",
        "astropy.test()"
      ],
      "execution_count": 0,
      "outputs": []
    },
    {
      "metadata": {
        "id": "Luf8BgNaSpS5",
        "colab_type": "code",
        "colab": {}
      },
      "cell_type": "code",
      "source": [
        "import subprocess as sp\n",
        "\n",
        "# Open SAO ds9:\n",
        "sp.call(\"ds9\")\n",
        "# Open ginga:\n",
        "sp.call(\"ginga\")"
      ],
      "execution_count": 0,
      "outputs": []
    }
  ]
}