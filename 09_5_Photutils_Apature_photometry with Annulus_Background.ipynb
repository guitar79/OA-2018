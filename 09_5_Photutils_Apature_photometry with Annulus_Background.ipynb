{
 "cells": [
  {
   "cell_type": "markdown",
   "metadata": {},
   "source": [
    "# Point Spread Function and StarFinder\n",
    "\n",
    "\n",
    "경기과학고등학교 관측천문학 강좌를 위해 만들었으며  <a rel=\"license\" href=\"http://creativecommons.org/licenses/by-nc-sa/4.0/\">크리에이티브 커먼즈 저작자표시-비영리-동일조건변경허락 4.0 국제 라이선스</a>에 따라 이용할 수 있음.\n",
    "\n",
    "<a rel=\"license\" href=\"http://creativecommons.org/licenses/by-nc-sa/4.0/\"><img alt=\"크리에이티브 커먼즈 라이선스\" style=\"border-width:0\" src=\"https://i.creativecommons.org/l/by-nc-sa/4.0/88x31.png\" /></a>\n"
   ]
  },
  {
   "cell_type": "markdown",
   "metadata": {},
   "source": [
    "# `photutils` Annulus Background\n",
    "\n",
    "sky annulus를 사용하여 sky background 를 추정하는 것이 가장 널리 사용되어 왔는데 그 과정은 다음과 같다. \n",
    "\n",
    "1. Set the annulus based on FWHM. \n",
    "2. Get the statistics of the sky in the annulus: sky value and its error.\n",
    "\n",
    "이전에 Star finder에서 사용했던 preprocessing 이 완료된 [example file](https://drive.google.com/file/d/154vZIQRABEujYlFGBASl7-ePrduS7FrO/view?usp=sharing) 을 다시 이용해 보자. \n",
    "\n",
    "1. Get FWHM from `MaximDL` (it was ~ 2.5 pix)\n",
    "2. Find stars from `DAOStarFinder` using `100*sky_sigma` threshold. (very strong constrain)\n",
    "3. Make circular annuli with inner/outer radius of `4*FWHM` and `6*FWHM`, centered at each star.\n",
    "4. Do 3-sigma clipping with 10 iterations for each annulus, and get the median and standard deviation.\n",
    "5. To mimic SExtractor, I will choose `sky` as \n",
    "```python\n",
    "# pseudo code\n",
    "mean, median, std = sigma_clipped_stats(sky_annulus, sigma=3, iters=10)\n",
    "condition = ((2.5 * median - 1.5 mean) > 0.3 std)\n",
    "if condition:\n",
    "    msky = median\n",
    "else\n",
    "    msky = 2.5 * median - 1.5 mean\n",
    "```\n",
    "6. If the standard deviation is $s_s=$`std`, this will be used for the flux error of the source:\n",
    "$$ \\Delta N = \\sqrt{ N + n_a (m_s + R^2) + \\frac{n_a^2 s_s^2}{n_s}} $$\n",
    "\n",
    "* **TIP**: I have used `sigma_clipped_stats` in the pseudo code, which returns the standard deviation ($s_s$) using $\\sqrt{\\sum (x_i - \\bar{x})^2/N}$, **not** using $N-1$. If the sky is known to be Gaussian, which is rarely the case, it is desirable to use this `std` as $s_s$ (due to maximum likelihood issue). But if it is not, then we MUST multiply the factor $\\sqrt{(N)/(N-1)}$ to get the desired $s_s$. If you use the `std` without this correction, you are **underestimating** the error, since *that* `std` is derived from the assumption that you know sky is Gaussian. *That* `std` is smaller than the *desired* `std` because it is for the use when you know more about the sky (i.e., Gaussian distribution).\n"
   ]
  },
  {
   "cell_type": "markdown",
   "metadata": {},
   "source": [
    "### Steps 1, 2, 3 Finding stats and Making Annulus\n",
    "\n",
    "앞서 배웠던 코드를 응용하여 별을 찾아서 Annulus를 그려보자.\n"
   ]
  },
  {
   "cell_type": "code",
   "execution_count": 1,
   "metadata": {},
   "outputs": [
    {
     "name": "stderr",
     "output_type": "stream",
     "text": [
      "WARNING: The following header keyword is invalid or follows an unrecognized non-standard convention:\n",
      "DELMAG   =   0.0000            /Veriable - Comparison,   Delmag                  [astropy.io.fits.card]\n"
     ]
    },
    {
     "name": "stdout",
     "output_type": "stream",
     "text": [
      "3 sigma 5 iters clipped case:\n",
      "0.004250 x  100   =   0.425048\n",
      "\n",
      "21 stars were founded\n",
      " id     xcentroid          ycentroid           sharpness           roundness1            roundness2       npix sky        peak               flux                 mag         \n",
      "--- ------------------ ------------------ ------------------- -------------------- ---------------------- ---- --- ------------------ ------------------ ---------------------\n",
      "  1 369.66076607921025  48.74640436331067 0.49772213001587345  0.17829365552441911    0.09445919249284787   25 0.0 0.7817535400390625   1.17203459563049  -0.17235107798860816\n",
      "  2 214.80614723081484  70.87584666588063  0.4553294642259009   0.1626232267362356      0.124166150841904   25 0.0 0.7805938720703125 1.1909403253732875  -0.18972500192193636\n",
      "  3  510.8970131458162  70.63947938092609  0.3947143236816323  0.19387500230999186    0.13266624443773958   25 0.0 0.7769622802734375 1.1911366532615366   -0.1899039720380747\n",
      "  4   98.1700349394943  73.91611691506917 0.44628224156876467  -0.0770666233392146 -0.0065478796272964235   25 0.0  0.782318115234375 1.1754524801455963  -0.17551269163261735\n",
      "  5 209.82758362465827  83.37606312891455  0.4025904436433877 -0.04610268407874855    0.16000307660481702   25 0.0  0.781402587890625 1.0897788163404072   -0.0933459040480383\n",
      "  6  96.19554814915324   143.761450900794 0.26999308533323507  0.21910327697797796    0.14713797341909488   25 0.0 0.7852020263671875 1.0196029299310605  -0.02107768696920185\n",
      "  7 388.25835223246537 145.33382520597945 0.35770449736178855  0.11360954975381592    0.12551297596098396   25 0.0 0.7819671630859375 1.1364034603215967  -0.13883136867328363\n",
      "  8 328.33198298051764 152.92820474534736 0.27577860558380474  0.03299160229641473    0.06494501971847974   25 0.0      0.78466796875 1.0694167748256809  -0.07286748035593733\n",
      "  9 415.65616224934234  180.6725628974966 0.40966205167951386   0.3496831561189246    0.17765262213846536   25 0.0 0.7843780517578125 1.0556914933768524  -0.05884255520290447\n",
      " 10  267.6419874526671 217.34046824176036   0.569731265721827 -0.19943390038895667    0.15100185326254525   25 0.0 0.7521209716796875 1.0520182973000565  -0.05505823344958477\n",
      " 11 453.42938860206743   306.553709113988  0.5905041842593614  -0.2224977709335423    0.10405374766697988   25 0.0 0.7939300537109375 1.1431516069113057  -0.14525957791024643\n",
      " 12 193.64878931643943  318.6795442291384  0.5209795689405702  0.33572157512301715    0.10817927716753416   25 0.0  0.791900634765625 1.1537366170848986  -0.15526669102232218\n",
      " 13  556.4205954759708  351.4735987863875  0.5975412271649421  -0.2715888627038887    0.14527065470607486   25 0.0   0.75921630859375 1.0752291040014448  -0.07875252807683786\n",
      " 14  456.1595409464933 359.46431166058727  0.3279591181071297 0.011940957859631885    0.15343623003845097   25 0.0  0.787689208984375 1.0181035381414432  -0.01947986680185097\n",
      " 15 389.31946289811054 379.97775609976185  0.6041480649103627 0.003849415325302835   0.048481839657919794   25 0.0  0.745208740234375  1.089712155040052  -0.09327948800114942\n",
      " 16  537.8792316275335  422.3752860112788 0.35278052073259897 -0.07548844232591898    0.16831682704462259   25 0.0 0.7874603271484375 1.0745678531500233  -0.07808461010433473\n",
      " 17 490.93291991796315 435.87498414388756 0.46166893003166737  0.05481705369863064    0.13412499256860858   25 0.0 0.7894744873046875 1.2399220008173122  -0.23348591516349276\n",
      " 18  408.1587518767225 441.40656057942965   0.590262140927147   0.1265165256011474    0.20474224476643052   25 0.0 0.7375030517578125 1.0596566830105973  -0.06291295366920421\n",
      " 19 252.22423362216503  445.1028007328877  0.2881734677467871  0.11928724570056293    0.12567620042564825   25 0.0  0.790802001953125 1.1526288452014815  -0.15422370962791868\n",
      " 20  386.8700519650798 475.61941936004786  0.6262270641630163  0.23407804966332893    0.17854666992329798   25 0.0      0.73779296875 1.0349181504202631 -0.037265009201056895\n",
      " 21 240.69995500424133 495.99403954554026 0.42689551814703364   0.1942639788453342    0.14561094783946277   25 0.0   0.79144287109375 1.1705697531619892  -0.17099324501913699\n"
     ]
    },
    {
     "data": {
      "text/plain": [
       "<Figure size 1200x1200 with 2 Axes>"
      ]
     },
     "metadata": {},
     "output_type": "display_data"
    }
   ],
   "source": [
    "#%%\n",
    "import matplotlib.pyplot as plt\n",
    "import numpy as np\n",
    "from astropy.io import fits\n",
    "from mpl_toolkits.axes_grid1 import make_axes_locatable\n",
    "from astropy.stats import sigma_clip, sigma_clipped_stats\n",
    "from photutils import DAOStarFinder\n",
    "from photutils import CircularAperture as CircAp\n",
    "from photutils import CircularAnnulus as CircAn\n",
    "from photutils import aperture_photometry as APPHOT\n",
    "#%%\n",
    "dir_name = '20170220_m35/'\n",
    "f_name = 'g3035794_p.fits'\n",
    "\n",
    "hdu = fits.open(dir_name+f_name)\n",
    "img = np.array(hdu[0].data[300:800, 1100:1700]/65536.0, dtype=np.float32)\n",
    "\n",
    "# if image value < 10^(-6), replace the pixel as 10^(-6)\n",
    "img[img < 1.e-6] = 1.e-6\n",
    "\n",
    "FWHM   = 2.7\n",
    "sky_th = 100    # sky_th * sky_sigma will be used for detection lower limit : sky_th = 5\n",
    "\n",
    "# What if we do \"sigma-clip\" than MAD?\n",
    "sky_a, sky_m, sky_s_sc = sigma_clipped_stats(img) # default is 3-sigma, 5 iters\n",
    "thresh = sky_th*sky_s_sc\n",
    "print('3 sigma 5 iters clipped case:')\n",
    "print('{0:8.6f} x {1:4d}   =   {2:8.6f}\\n'.format(sky_s_sc, sky_th, thresh))\n",
    "\n",
    "DAOfind = DAOStarFinder(fwhm=FWHM, threshold=thresh, \n",
    "                        sharplo=0.2, sharphi=3.0,  # default values: sharplo=0.2, sharphi=1.0,\n",
    "                        roundlo=-1.0, roundhi=1.0,  # default values: roundlo=-1.0, roundhi=1.0,\n",
    "                        sigma_radius=1.5,          # default values: sigma_radius=1.5,\n",
    "                        ratio=0.9,                 # 1.0: circular gaussian:  ratio=1.0,\n",
    "                        exclude_border=True)       # To exclude sources near edges : exclude_border=True\n",
    "\n",
    "# The DAOStarFinder object (\"DAOfind\") gets at least one input: the image.\n",
    "# Then it returns the astropy table which contains the aperture photometry results:\n",
    "DAOfound = DAOfind(img)\n",
    "\n",
    "if len(DAOfound)==0 :\n",
    "    print ('No star was founded using DAOStarFinder\\n'*3)\n",
    "else : \n",
    "    # Use the object \"found\" for aperture photometry:\n",
    "    print (len(DAOfound), 'stars were founded')\n",
    "    #print('DAOfound \\n', DAOfound)\n",
    "    DAOfound.pprint(max_width=1800)\n",
    "    # save XY coordinates:\n",
    "    DAOfound.write(dir_name+f_name[:-5]+'_DAOStarFinder.csv', overwrite=True, format='ascii.fast_csv')\n",
    "    DAOcoord = (DAOfound['xcentroid'], DAOfound['ycentroid']) \n",
    "    DAOannul = CircAn(positions=DAOcoord, r_in=4*FWHM, r_out=6*FWHM)\n",
    "    \n",
    "    # Save apertures as circular, 4 pixel radius, at each (X, Y)\n",
    "    DAOapert = CircAp(DAOcoord, r=4.)  \n",
    "    #print('DAOapert\\n ', DAOapert)\n",
    "    \n",
    "    DAOimgXY = np.array(DAOcoord)\n",
    "    #print('DAOimgXY \\n', DAOimgXY)\n",
    "    \n",
    "    plt.figure(figsize=(12,12))\n",
    "    ax = plt.gca()\n",
    "    im = plt.imshow(img, vmax=0.35, origin='lower')\n",
    "    DAOannul.plot(color='red', lw=2., alpha=0.7)\n",
    "    divider = make_axes_locatable(ax)\n",
    "    cax = divider.append_axes(\"right\", size=\"3%\", pad=0.05)\n",
    "    plt.colorbar(im, cax=cax)\n",
    "    plt.show()"
   ]
  },
  {
   "cell_type": "markdown",
   "metadata": {},
   "source": [
    "### Digress: `ApertureMask`\n",
    "\n",
    "이제 annulus 를 얻었으면 통계값을 구해보자. 여기에서 `.to_mask` 속성을 이용해 볼 수 있다. `.cutout(img)`는  annulus를 포함하는 영역을 `2*r_out=30` pixel의 크기로 잘라준다.\n"
   ]
  },
  {
   "cell_type": "code",
   "execution_count": 2,
   "metadata": {},
   "outputs": [
    {
     "data": {
      "image/png": "[encoded data removed]",
      "text/plain": [
       "<Figure size 432x288 with 1 Axes>"
      ]
     },
     "metadata": {
      "needs_background": "light"
     },
     "output_type": "display_data"
    }
   ],
   "source": [
    "#%%\n",
    "# since our `DAOannul` has many elements, let me use [1] to use only the 4th annulus:\n",
    "mask_annul = (DAOannul.to_mask(method='center'))[1]\n",
    "# CAUTION!! YOU MUST USE 'center', NOT 'exact'!!!\n",
    "\n",
    "cutimg = mask_annul.cutout(img)\n",
    "plt.imshow(cutimg, vmin=0.1, vmax=0.35, origin='lower')\n",
    "plt.show()\n"
   ]
  },
  {
   "cell_type": "markdown",
   "metadata": {},
   "source": [
    "이 annulus를 이미지에 적용하여 cutimg와 같은 크기의 배열에서 annulus를 제외한 pixel의 value는 0인 배열을 얻을 수 있다. \n"
   ]
  },
  {
   "cell_type": "code",
   "execution_count": 3,
   "metadata": {},
   "outputs": [
    {
     "data": {
      "image/png": "[encoded data removed]",
      "text/plain": [
       "<Figure size 432x288 with 1 Axes>"
      ]
     },
     "metadata": {
      "needs_background": "light"
     },
     "output_type": "display_data"
    }
   ],
   "source": [
    "#%%\n",
    "sky_apply  = mask_annul.multiply(img)  # change from 'sky_apply  = mask_annul.apply(img)'\n",
    "plt.imshow(sky_apply, origin='lower', vmin=0.1, vmax=0.35)\n",
    "plt.show()\n"
   ]
  },
  {
   "cell_type": "markdown",
   "metadata": {},
   "source": [
    "### Step 4: Sigma Clipping to Sky\n",
    "\n",
    "annulus pixel의 statistics value 를 구하기 위하여 sky_apply의 0 이 아닌 pixel 만 저장하여 계산을 해 보자. (평균, 중앙값, 표준 편차 등)\n"
   ]
  },
  {
   "cell_type": "code",
   "execution_count": 4,
   "metadata": {},
   "outputs": [],
   "source": [
    "#%%\n",
    "#Returns magnitude from flux.\n",
    "def mag_inst(flux, ferr):\n",
    "    m_inst = -2.5 * np.log10(flux)\n",
    "    merr   = 2.5/np.log(10) * ferr / flux\n",
    "    return m_inst, merr\n",
    "\n",
    "def sky_fit(all_sky, method='mode', sky_nsigma=3, sky_iter=5, \\\n",
    "            mode_option='sex', med_factor=2.5, mean_factor=1.5):\n",
    "    '''\n",
    "    Estimate sky from given sky values.\n",
    "\n",
    "    Parameters\n",
    "    ----------\n",
    "    all_sky : ~numpy.ndarray\n",
    "        The sky values as numpy ndarray format. It MUST be 1-d for proper use.\n",
    "    method : {\"mean\", \"median\", \"mode\"}, optional\n",
    "        The method to estimate sky value. You can give options to \"mode\"\n",
    "        case; see mode_option.\n",
    "        \"mode\" is analogous to Mode Estimator Background of photutils.\n",
    "    sky_nsigma : float, optinal\n",
    "        The input parameter for sky sigma clipping.\n",
    "    sky_iter : float, optinal\n",
    "        The input parameter for sky sigma clipping.\n",
    "    mode_option : {\"sex\", \"IRAF\", \"MMM\"}, optional.\n",
    "        sex  == (med_factor, mean_factor) = (2.5, 1.5)\n",
    "        IRAF == (med_factor, mean_factor) = (3, 2)\n",
    "        MMM  == (med_factor, mean_factor) = (3, 2)\n",
    "\n",
    "    Returns\n",
    "    -------\n",
    "    sky : float\n",
    "        The estimated sky value within the all_sky data, after sigma clipping.\n",
    "    std : float\n",
    "        The sample standard deviation of sky value within the all_sky data,\n",
    "        after sigma clipping.\n",
    "    nsky : int\n",
    "        The number of pixels which were used for sky estimation after the\n",
    "        sigma clipping.\n",
    "    nrej : int\n",
    "        The number of pixels which are rejected after sigma clipping.\n",
    "    -------\n",
    "\n",
    "    '''\n",
    "    sky = all_sky.copy()\n",
    "    if method == 'mean':\n",
    "        return np.mean(sky), np.std(sky, ddof=1)\n",
    "\n",
    "    elif method == 'median':\n",
    "        return np.median(sky), np.std(sky, ddof=1)\n",
    "\n",
    "    elif method == 'mode':\n",
    "        sky_clip   = sigma_clip(sky, sigma=sky_nsigma, iters=sky_iter)\n",
    "        sky_clipped= sky[np.invert(sky_clip.mask)]\n",
    "        nsky       = np.count_nonzero(sky_clipped)\n",
    "        mean       = np.mean(sky_clipped)\n",
    "        med        = np.median(sky_clipped)\n",
    "        std        = np.std(sky_clipped, ddof=1)\n",
    "        nrej       = len(all_sky) - len(sky_clipped)\n",
    "\n",
    "        if nrej < 0:\n",
    "            raise ValueError('nrej < 0: check the code')\n",
    "\n",
    "        if nrej > nsky: # rejected > survived\n",
    "            raise Warning('More than half of the pixels rejected.')\n",
    "\n",
    "        if mode_option == 'IRAF':\n",
    "            if (mean < med):\n",
    "                sky = mean\n",
    "            else:\n",
    "                sky = 3 * med - 2 * mean\n",
    "\n",
    "        elif mode_option == 'MMM':\n",
    "            sky = 3 * med - 2 * mean\n",
    "\n",
    "        elif mode_option == 'sex':\n",
    "            if (mean - med) / std > 0.3:\n",
    "                sky = med\n",
    "            else:\n",
    "                sky = (2.5 * med) - (1.5 * mean)\n",
    "        else:\n",
    "            raise ValueError('mode_option not understood')\n",
    "\n",
    "        return sky, std, nsky, nrej\n",
    "\n"
   ]
  },
  {
   "cell_type": "markdown",
   "metadata": {},
   "source": [
    "이 코드는 sky background value, standard deviation, the number of sky pixels used, and the number of rejected sky pixels 를 계산해 주는 함수이다. 위에서 얻은 annulus에 이 함수를 적용해 보자. "
   ]
  },
  {
   "cell_type": "code",
   "execution_count": 5,
   "metadata": {},
   "outputs": [
    {
     "name": "stdout",
     "output_type": "stream",
     "text": [
      "0.16609772639488105 0.0018943212279716008 402 60\n"
     ]
    }
   ],
   "source": [
    "#%%\n",
    "sky_apply  = mask_annul.multiply(img)\n",
    "sky_non0   = np.nonzero(sky_apply)\n",
    "sky_pixel  = sky_apply[sky_non0]\n",
    "msky, sky_std, nsky, nrej = sky_fit(sky_pixel, method='mode', mode_option='sex')\n",
    "print(msky, sky_std, nsky, nrej)\n"
   ]
  },
  {
   "cell_type": "markdown",
   "metadata": {},
   "source": [
    "즉, sky background value는 초당 0.1660 electrons per second 이며, 402 개의 sky background pixel (3 시그마 10 반복 반복에 의해 거부 된 60 개)의 sample standard deviation 은 0.00752 이다.\n"
   ]
  },
  {
   "cell_type": "code",
   "execution_count": 6,
   "metadata": {},
   "outputs": [
    {
     "name": "stdout",
     "output_type": "stream",
     "text": [
      "Star ID    msky  sky_std  nsky nrej\n",
      "0: 0.16421 0.00157  449   5\n",
      "1: 0.16610 0.00189  402  60\n",
      "2: 0.16384 0.00148  463   2\n",
      "3: 0.16679 0.00143  458   2\n",
      "4: 0.16651 0.00279  383  76\n",
      "5: 0.16980 0.00147  451   5\n",
      "6: 0.16606 0.00155  451   2\n",
      "7: 0.16740 0.00211  396  66\n",
      "8: 0.16649 0.00141  434  17\n",
      "9: 0.16930 0.00150  448   2\n",
      "10: 0.16823 0.00153  440   7\n",
      "11: 0.17269 0.00157  441  10\n",
      "12: 0.16768 0.00163  422  25\n",
      "13: 0.16971 0.00175  420  39\n",
      "14: 0.17079 0.00165  435  28\n",
      "15: 0.16905 0.00159  454   7\n",
      "16: 0.17086 0.00194  412  48\n",
      "17: 0.17228 0.00160  457   2\n",
      "18: 0.17477 0.00162  418  41\n",
      "19: 0.17344 0.00146  447  13\n",
      "20: 0.17545 0.00142  259   8\n"
     ]
    },
    {
     "data": {
      "image/png": "[encoded data removed]",
      "text/plain": [
       "<Figure size 432x288 with 1 Axes>"
      ]
     },
     "metadata": {
      "needs_background": "light"
     },
     "output_type": "display_data"
    }
   ],
   "source": [
    "#%%\n",
    "N_stars = len(DAOfound)\n",
    "print('Star ID    msky  sky_std  nsky nrej')\n",
    "\n",
    "for i in range(0, N_stars):\n",
    "    mask_annul = (DAOannul.to_mask(method='center'))[i]\n",
    "    sky_apply  = mask_annul.multiply(img)\n",
    "    sky_non0   = np.nonzero(sky_apply)\n",
    "    sky_pixel  = sky_apply[sky_non0]\n",
    "    msky, sky_std, nsky, nrej = sky_fit(sky_pixel, method='mode', mode_option='sex')\n",
    "    print('{0}: {1:.5f} {2:.5f} {3:4d} {4:3d}'.format(i, msky, sky_std, nsky, nrej))\n",
    "    plt.errorbar([i], msky, yerr=sky_std, capsize=3, marker='o', color='b')\n",
    "\n",
    "plt.xlabel('Star ID')\n",
    "plt.ylabel('msky +- sky_std')\n",
    "plt.xticks(np.arange(0, N_stars+5, step=5))\n",
    "plt.grid(ls=':')\n",
    "plt.show()\n"
   ]
  },
  {
   "cell_type": "markdown",
   "metadata": {},
   "source": [
    "하늘의 background 값이 곳에 따라 일부 위치 조금씩은 다를 수 있지만 전반적으로 비슷한 값을 보인다. "
   ]
  },
  {
   "cell_type": "code",
   "execution_count": 7,
   "metadata": {},
   "outputs": [
    {
     "data": {
      "image/png": "[encoded data removed]",
      "text/plain": [
       "<Figure size 432x288 with 1 Axes>"
      ]
     },
     "metadata": {
      "needs_background": "light"
     },
     "output_type": "display_data"
    },
    {
     "name": "stdout",
     "output_type": "stream",
     "text": [
      "ID, Msky, sky_std, Sky count Pixel_N, Sky reject Pixel_N, mag_ann, merr_ann\n",
      "0, 10761.84855, 103.16273,  449,   5, -14.165, 0.004\n",
      "1, 10885.38060, 124.14624,  402,  60, -14.202, 0.004\n",
      "2, 10737.62635, 97.00850,  463,   2, -14.311, 0.004\n",
      "3, 10930.81987, 94.02212,  458,   2, -14.250, 0.004\n",
      "4, 10912.56397, 182.64647,  383,  76, -14.361, 0.004\n",
      "5, 11127.90576, 96.26705,  451,   5, -14.588, 0.003\n",
      "6, 10883.19734, 101.69152,  451,   2, -14.426, 0.003\n",
      "7, 10970.63636, 138.17893,  396,  66, -14.567, 0.003\n",
      "8, 10910.88940, 92.69040,  434,  17, -14.407, 0.003\n",
      "9, 11095.11384, 98.07838,  448,   2, -14.014, 0.005\n",
      "10, 11024.98523, 100.31639,  440,   7, -14.067, 0.004\n",
      "11, 11317.48980, 103.05020,  441,  10, -14.147, 0.004\n",
      "12, 10989.07227, 106.93705,  422,  25, -14.010, 0.005\n",
      "13, 11122.09286, 114.51827,  420,  39, -14.547, 0.003\n",
      "14, 11192.81379, 108.01199,  435,  28, -13.877, 0.005\n",
      "15, 11078.55066, 104.13242,  454,   7, -14.448, 0.003\n",
      "16, 11197.60922, 127.29724,  412,  48, -14.154, 0.004\n",
      "17, 11290.61926, 105.14012,  457,   2, -13.897, 0.005\n",
      "18, 11453.59928, 106.35636,  418,  41, -14.518, 0.003\n",
      "19, 11366.38255, 95.45249,  447,  13, -13.854, 0.005\n",
      "20, 11498.42278, 92.88266,  259,   8, -14.225, 0.004\n",
      "\n"
     ]
    }
   ],
   "source": [
    "#%%\n",
    "# change img value to 16 bit Integer in ADU\n",
    "img = np.array(img*65536.0, dtype=np.uint16)\n",
    "ronoise = 9.00  # electrons\n",
    "gain = 2.54     # e/ADU\n",
    "N_star = len(DAOfound)\n",
    "\n",
    "mag_ann  = np.zeros(N_star)\n",
    "merr_ann = np.zeros(N_star)\n",
    "\n",
    "# aperture sum\n",
    "apert_sum = APPHOT(img, DAOapert, method='exact')['aperture_sum']\n",
    "ap_area   = DAOapert.area()\n",
    "#print(apert_sum)\n",
    "\n",
    "apert_result = 'ID, Msky, sky_std, Sky count Pixel_N, Sky reject Pixel_N, mag_ann, merr_ann\\n'\n",
    "for i in range(0, N_star):\n",
    "    # sky estimation\n",
    "    mask_annul = (DAOannul.to_mask(method='center'))[i]\n",
    "    sky_apply  = mask_annul.multiply(img)\n",
    "    sky_non0   = np.nonzero(sky_apply)\n",
    "    sky_pixel  = sky_apply[sky_non0]\n",
    "    msky, sky_std, nsky, nrej = sky_fit(sky_pixel, method='mode', mode_option='sex')\n",
    "       \n",
    "    flux_star = apert_sum[i] - msky * ap_area  # total - sky\n",
    "    flux_err  = np.sqrt(apert_sum[i] * gain    # Poissonian (star + sky)\n",
    "                        + ap_area * ronoise**2 # Gaussian\n",
    "                        + (ap_area * (gain * sky_std))**2 / nsky ) \n",
    "    mag_ann[i], merr_ann[i] = mag_inst(flux_star, flux_err)\n",
    "    #print('{0:7d}: {1:.5f} {2:.5f} {3:4d} {4:3d} {5:.3f} {6:.3f}'.format(i, msky, sky_std, nsky, nrej, mag_ann[i], merr_ann[i]))\n",
    "    apert_result += '{0}, {1:.5f}, {2:.5f}, {3:4d}, {4:3d}, {5:.3f}, {6:.3f}\\n'.format(i, msky, sky_std, nsky, nrej, mag_ann[i], merr_ann[i])\n",
    "    \n",
    "    plt.errorbar(i, mag_ann[i], yerr=merr_ann[i], marker='x', ms=10, capsize=3)\n",
    "\n",
    "plt.xlabel('Star ID')\n",
    "plt.ylabel('Instrumental mag')\n",
    "plt.xticks(np.arange(0, N_stars+5, step=5))\n",
    "plt.grid(ls=':')\n",
    "plt.show()\n",
    "\n",
    "#print and save result\n",
    "print(apert_result)\n",
    "with open(dir_name+f_name[:-5]+'_APP_Annumus_result.csv', 'w') as f:\n",
    "    f.write(apert_result)\n"
   ]
  }
 ],
 "metadata": {
  "kernelspec": {
   "display_name": "Python 3",
   "language": "python",
   "name": "python3"
  },
  "language_info": {
   "codemirror_mode": {
    "name": "ipython",
    "version": 3
   },
   "file_extension": ".py",
   "mimetype": "text/x-python",
   "name": "python",
   "nbconvert_exporter": "python",
   "pygments_lexer": "ipython3",
   "version": "3.6.7"
  }
 },
 "nbformat": 4,
 "nbformat_minor": 2
}
