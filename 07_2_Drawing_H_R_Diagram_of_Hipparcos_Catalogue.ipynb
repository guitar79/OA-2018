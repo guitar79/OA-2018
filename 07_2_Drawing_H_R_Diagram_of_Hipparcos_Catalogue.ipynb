{
 "cells": [
  {
   "cell_type": "markdown",
   "metadata": {
    "colab_type": "text",
    "id": "view-in-github"
   },
   "source": [
    "[View in Colaboratory](https://colab.research.google.com/github/guitar79/OA-2018/blob/master/07_2_Drawing_H_R_Diagram_of_Hipparcos_Catalogue.ipynb)"
   ]
  },
  {
   "cell_type": "markdown",
   "metadata": {
    "colab_type": "text",
    "id": "3g6o04iLM0AF"
   },
   "source": [
    "**Construction of Hertzsprung-Russell diagrams in Python**\n",
    "\n",
    "* 이 자료는 [Hipparcos Catalogue](https://ko.wikipedia.org/wiki/%ED%9E%88%ED%8C%8C%EB%A5%B4%EC%BD%94%EC%8A%A4_%EB%AA%A9%EB%A1%9D)를 이용하여 HR Diagram을 그리는 교수학습자료이다.\n",
    "\n",
    "* python이 처음이라면 [Python Basic](https://colab.research.google.com/drive/1PCOoDIKypPVX9KTItMOht1cl96cPmeR_?authuser=1#scrollTo=3g6o04iLM0AF), [Python packages](https://colab.research.google.com/drive/1-1wx2VPEyNe11bmgpSpwdQgrJASCAqdH?authuser=1)를 먼저 학습하기를 권한다.\n",
    "\n",
    "* 이 자료는 아래 자료를 약간 번역하고, python3 환경에서 돌아가도록 수정하여 작성하였다.\n",
    "\n",
    "* http://balbuceosastropy.blogspot.com/2014/03/construction-of-hertzsprung-russell.html\n",
    "\n",
    "* package를 쉽게 설치하기 위해 Anaconda 사용을 권장한다.\n",
    "\n",
    "* 경기과학고등학교 관측천문학 강좌를 위해 만들었으며 라이센스는 다음을 따른다.\n",
    "<a rel=\"license\" href=\"http://creativecommons.org/licenses/by-nc-sa/4.0/\"><img alt=\"크리에이티브 커먼즈 라이선스\" style=\"border-width:0\" src=\"https://i.creativecommons.org/l/by-nc-sa/4.0/88x31.png\" /></a><br />이 저작물은 <a rel=\"license\" href=\"http://creativecommons.org/licenses/by-nc-sa/4.0/\">크리에이티브 커먼즈 저작자표시-비영리-동일조건변경허락 4.0 국제 라이선스</a>에 따라 이용할 수 있음."
   ]
  },
  {
   "cell_type": "markdown",
   "metadata": {
    "colab_type": "text",
    "id": "u7wfBH1zb8kW"
   },
   "source": [
    "#Introductons\n",
    "\n",
    "**Theory**\n",
    "\n",
    "Some relevant facts in the development of a Hertsprung-Russel diagram (H-R diagram in short) are:\n",
    "\n",
    "*  On the one hand there is a relationship between the absolute magnitude of a star and its luminosity, which has been described in this post: The color of celestial objects: part I\n",
    "\n",
    "*  There is also a relationship between the spectral class of the star (O B A F G K M), its surface temperature and its color index (eg. B-V). This relationship between color index and temperature can also be seen in the previous post. Regarding the relationship between spectral classes and surface temperatures, you can read my post The color of celestial objects: part II\n",
    "\n",
    "*  The purpose of the H-R diagram is to show the relationship between both groups of magnitudes. The \"classic\" H-R diagram shows the spectral class of the stars (or the corresponding color index B-V) on the horizontal axis and the absolute magnitudes on the vertical axis.\n",
    "\n",
    "*  The position of a star in the H-R diagram tells us something about its characteristics. Thus for example if a star has a spectral class indicating a \"cold\" surface temperature (for example classes K or M), but its absolute magnitude / luminosity is high, this indicates that the star has a large surface, whereby the big radiative surface \"compensates\" the low intensity of the radiation due to its low temperature. Ie it would be a \"giant\" star or \"supergiant\". As the color indices corresponding to cold temperatures tend to red, we would speak for instance of \"red giants\".\n",
    "\n",
    "**The HIPPARCOS catalog**\n",
    "\n",
    "The biggest difficulty to build an H-R diagram is to determine the luminosity or absolute magnitude of the stars, as this involves knowing their distances. In this sense, the catalog of celestial objects SDSS I've been using so far in previous posts is not the most suitable because its main purpose is the photometry of extragalactic objects, providing little information of stars in our galaxy, and certainly lacking accurate information on the distance that separates us from them.\n",
    "\n",
    "For this reason, the catalog of stars that we will use is HIPPARCOS, given that the priomordial objective of this mission was precisely to make accurate measurements of about 120000 stars. Furthermore, the information in this catalog includes the spectral class of the vast majority of these objects, so it is the most suitable source that we can use to make an H-R diagram.\n",
    "\n",
    "A description of the fields in the catalog can be downloaded in pdf format at the following page: Hipparcos Overview. In particular, for this post, we are interested in the following fields:\n",
    "\n",
    "*  H1 Identifier (HIP)\n",
    "*  H5 V Johnson magnitude (Vmag)\n",
    "*  H11 Trigonometric parallax, expressed in units of milliarcsec (Plx)\n",
    "*  H37 Colour index (B-V)\n",
    "*  H76 Spectral type (SpType)\n",
    "\n",
    "The absolute magnitudes can be calculated from the values of V. For this you can use the relationship between the absolute magnitude $M$, the apparent magnitude $m$ and the parallax $p$ parallax in arcseconds. \n",
    "\n",
    "> $M=m+5(1+log_{10}p)$\n",
    "\n",
    "If parallax is expressed in milliarcseconds (Plx), and taking as apparent magnitude the value V in the catalog, we obtain:\n",
    "\n",
    "> $M=V_{mag}+5 (1+log_{10} \\dfrac{Plx}{1000})$\n",
    "\n",
    "That once simplified gives:\n",
    "\n",
    "> $M=V_{mag}+5 (log_{10} \\dfrac{Plx}{100})$"
   ]
  },
  {
   "cell_type": "markdown",
   "metadata": {
    "colab_type": "text",
    "id": "EO475o4L3tOt"
   },
   "source": [
    "# Processing data\n",
    "\n",
    "**Downloading data for H-R diagram**\n",
    "\n",
    "Strasbourg astronomical Data Center (CDS)로부터 the catalog I/239 자료를 다운받기 위해서 VizieR Search Page (http://vizier.u-strasbg.fr/viz-bin/VizieR-3?-source=I/239/hip_main) 에 접속한다. \n",
    "\n",
    "field 중에서 (HIP, Vmag, Plx, BV, SpType)만 선택하고, 왼쪽 메뉴에서 \"Preferences\" 선택, \"unlimited\" , \"; -Separated Values\", \"Submit\" 버튼을 누르면 약 3.8MB 크기의 자료가 다운받아 진다. \n",
    "\n",
    "text editor로 열어보면 약 118322개의 자료가 들어있는 것을 확인할 수 있다.\n",
    "\n",
    "**DataFrame with the data**\n",
    "\n",
    "pandas의 dataframe으로 자료를 처리해 보자."
   ]
  },
  {
   "cell_type": "code",
   "execution_count": 1,
   "metadata": {
    "colab": {},
    "colab_type": "code",
    "id": "EY-BQN5YMPrf"
   },
   "outputs": [],
   "source": [
    "import numpy as np\n",
    "import matplotlib.pyplot as plt\n",
    "import pandas as pd\n",
    "import sys\n",
    "\n",
    "#Now I will read the file creating a Pandas DataFrame:\n",
    "filename = 'I_239_selection.tsv'\n",
    "df = pd.read_table(filename, skiprows=43, sep=';', header=None, index_col=0,\n",
    "                   names = ['HIP', 'Vmag', 'Plx', 'B-V', 'SpType'],\n",
    "                   skipfooter=1, engine='python')"
   ]
  },
  {
   "cell_type": "markdown",
   "metadata": {
    "colab_type": "text",
    "id": "F8Jrvm67doj8"
   },
   "source": [
    "df의 shape,  head, tail을 보자."
   ]
  },
  {
   "cell_type": "code",
   "execution_count": 2,
   "metadata": {
    "colab": {
     "base_uri": "https://localhost:8080/",
     "height": 391
    },
    "colab_type": "code",
    "id": "HLGSMzKqdwT5",
    "outputId": "ea9e8117-f58e-4c83-9421-bdd1c5b6a04e"
   },
   "outputs": [
    {
     "name": "stdout",
     "output_type": "stream",
     "text": [
      "***shape of the dataframe***\n",
      "(118218, 4)\n",
      "\n",
      "***head of the dataframe***\n",
      "      Vmag      Plx     B-V SpType\n",
      "HIP                               \n",
      "1     9.10     3.54   0.482     F5\n",
      "2     9.27    21.90   0.999    K3V\n",
      "3     6.61     2.81  -0.019     B9\n",
      "4     8.06     7.75   0.370    F0V\n",
      "5     8.55     2.87   0.902  G8III\n",
      "\n",
      "***tail of the dataframe***\n",
      "         Vmag      Plx     B-V SpType\n",
      "HIP                                  \n",
      "118318   6.99     1.92   1.595     K2\n",
      "118319   8.23    10.63   0.639    G2V\n",
      "118320   7.59     5.00   0.999     K0\n",
      "118321   9.20    19.22   0.698    G5V\n",
      "118322   4.49     8.71  -0.075   B9IV\n"
     ]
    }
   ],
   "source": [
    "print('***shape of the dataframe***')\n",
    "print(df.shape)\n",
    "\n",
    "print('')\n",
    "print('***head of the dataframe***')\n",
    "print(df.head())\n",
    "\n",
    "print('')\n",
    "print('***tail of the dataframe***')\n",
    "print(df.tail())"
   ]
  },
  {
   "cell_type": "markdown",
   "metadata": {
    "colab_type": "text",
    "id": "K78zH9WBdz_W"
   },
   "source": [
    "df의 정보를 보자. count 값을 보면 데이터 행의 숫자인 118218보다 데이터 갯수가 적은 것을 볼 수 있다. "
   ]
  },
  {
   "cell_type": "code",
   "execution_count": 3,
   "metadata": {
    "colab": {
     "base_uri": "https://localhost:8080/",
     "height": 119
    },
    "colab_type": "code",
    "id": "-h4Rcn2Fd0qY",
    "outputId": "c395996b-0b28-4311-cba6-c2fa994a3a2f"
   },
   "outputs": [
    {
     "name": "stdout",
     "output_type": "stream",
     "text": [
      "***describe about the dataframe***\n",
      "          Vmag      Plx     B-V  SpType\n",
      "count   118218   118218  118218  115184\n",
      "unique    1127     5617    2437    4124\n",
      "top       8.69                       K0\n",
      "freq       504      263    1281    8570\n"
     ]
    }
   ],
   "source": [
    "print('***describe about the dataframe***')\n",
    "print(df.describe())"
   ]
  },
  {
   "cell_type": "markdown",
   "metadata": {
    "colab_type": "text",
    "id": "g8UVgtKZd4Lq"
   },
   "source": [
    "데이터가 없는 값을 'nan' 으로 넣어주자."
   ]
  },
  {
   "cell_type": "code",
   "execution_count": 4,
   "metadata": {
    "colab": {
     "base_uri": "https://localhost:8080/",
     "height": 119
    },
    "colab_type": "code",
    "id": "QrEWOlmP7Wxr",
    "outputId": "e17e201e-11da-4555-c007-17f9202a8810"
   },
   "outputs": [
    {
     "name": "stdout",
     "output_type": "stream",
     "text": [
      "***describe about df_clean***\n",
      "          Vmag     Plx     B-V  SpType\n",
      "count   118217  117955  116937  115184\n",
      "unique    1126    5616    2436    4124\n",
      "top       8.69    2.93   1.000      K0\n",
      "freq       504     183     317    8570\n"
     ]
    }
   ],
   "source": [
    "#python3로 수정하였음.\n",
    "df_clean = df.apply(lambda x: x.str.strip()).replace('', np.nan)\n",
    "\n",
    "#python2에서는 \n",
    "#df_clean = df.applymap(lambda x: np.nan if isinstance(x, basestring) and x.isspace() else x)\n",
    "\n",
    "print('***describe about df_clean***')\n",
    "print(df_clean.describe())"
   ]
  },
  {
   "cell_type": "markdown",
   "metadata": {
    "colab_type": "text",
    "id": "kxpwOJAxfuO1"
   },
   "source": [
    "'NaN' 값이 있는 raw를 지워야 겠다."
   ]
  },
  {
   "cell_type": "code",
   "execution_count": 5,
   "metadata": {
    "colab": {
     "base_uri": "https://localhost:8080/",
     "height": 323
    },
    "colab_type": "code",
    "id": "OVDrHgwRf5hy",
    "outputId": "ca685a99-9947-4ce1-fe06-e631231877ca"
   },
   "outputs": [
    {
     "name": "stdout",
     "output_type": "stream",
     "text": [
      "***describe about df_clean after NaN value removed***\n",
      "          Vmag     Plx     B-V  SpType\n",
      "count   114472  114472  114472  114472\n",
      "unique    1072    5361    2426    4070\n",
      "top       8.69    2.93   1.000      K0\n",
      "freq       502     182     308    8537\n",
      "\n",
      "***shape of the df_clean***\n",
      "(114472, 4)\n",
      "\n",
      "***head of the df_clean***\n",
      "     Vmag    Plx     B-V SpType\n",
      "HIP                            \n",
      "1    9.10   3.54   0.482     F5\n",
      "2    9.27  21.90   0.999    K3V\n",
      "3    6.61   2.81  -0.019     B9\n",
      "4    8.06   7.75   0.370    F0V\n",
      "5    8.55   2.87   0.902  G8III\n"
     ]
    }
   ],
   "source": [
    "df_clean= df_clean.dropna()\n",
    "print('***describe about df_clean after NaN value removed***')\n",
    "print(df_clean.describe())\n",
    "\n",
    "print('')\n",
    "print('***shape of the df_clean***')\n",
    "print(df_clean.shape)\n",
    "\n",
    "print('')\n",
    "print('***head of the df_clean***')\n",
    "print(df_clean.head())"
   ]
  },
  {
   "cell_type": "markdown",
   "metadata": {
    "colab_type": "text",
    "id": "3a-emiWlloP_"
   },
   "source": [
    "이제 df_clean 으로 계산을 할 것이다. \n",
    "위의 계산식에 의거하여 계산하기 위하여 'Vmag'', 'Plx', 'B-V' column의 data type을 string에서 numeric value로 바꾸어 주자.\n",
    "그리고 절대등급 $M_v$ 를 계산하여 column에 추가해 보자.\n"
   ]
  },
  {
   "cell_type": "code",
   "execution_count": 6,
   "metadata": {
    "colab": {
     "base_uri": "https://localhost:8080/",
     "height": 408
    },
    "colab_type": "code",
    "id": "GRvdzEYimD91",
    "outputId": "d5e74db5-77a9-4d1f-86d6-a6372897a4b4"
   },
   "outputs": [
    {
     "name": "stderr",
     "output_type": "stream",
     "text": [
      "C:\\Users\\user\\Anaconda3\\lib\\site-packages\\ipykernel_launcher.py:7: RuntimeWarning: divide by zero encountered in log10\n",
      "  import sys\n",
      "C:\\Users\\user\\Anaconda3\\lib\\site-packages\\ipykernel_launcher.py:7: RuntimeWarning: invalid value encountered in log10\n",
      "  import sys\n"
     ]
    },
    {
     "name": "stdout",
     "output_type": "stream",
     "text": [
      "***describe about df_clean***\n",
      "                Vmag            Plx            B-V           M_V\n",
      "count  114472.000000  114472.000000  114472.000000  1.107700e+05\n",
      "mean        8.297756       7.105059       0.702421          -inf\n",
      "std         1.248646      11.063782       0.490229           NaN\n",
      "min        -1.440000     -35.100000      -0.400000          -inf\n",
      "25%         7.610000       2.520000       0.341000  2.576435e-01\n",
      "50%         8.400000       4.580000       0.605000  1.504575e+00\n",
      "75%         9.070000       8.260000       1.075000  3.050985e+00\n",
      "max        13.610000     772.330000       5.460000  1.544901e+01\n",
      "\n",
      "***head of the df_clean***\n",
      "     Vmag    Plx    B-V SpType       M_V\n",
      "HIP                                     \n",
      "1    9.10   3.54  0.482     F5  1.845016\n",
      "2    9.27  21.90  0.999    K3V  5.972221\n",
      "3    6.61   2.81 -0.019     B9 -1.146468\n",
      "4    8.06   7.75  0.370    F0V  2.506509\n",
      "5    8.55   2.87  0.902  G8III  0.839409\n"
     ]
    }
   ],
   "source": [
    "# converting them from strings to numeric values\n",
    "df_clean['Vmag'] = df_clean['Vmag'].astype(np.float)\n",
    "df_clean['Plx'] = df_clean['Plx'].astype(np.float)\n",
    "df_clean['B-V'] = df_clean['B-V'].astype(np.float)\n",
    "\n",
    "# Add a new column with the absolute magnitude\n",
    "df_clean['M_V'] = df_clean['Vmag'] + 5 * np.log10(df_clean['Plx']/100.)\n",
    "\n",
    "print('***describe about df_clean***')\n",
    "print(df_clean.describe())\n",
    "\n",
    "print('')\n",
    "print('***head of the df_clean***')\n",
    "print(df_clean.head())"
   ]
  },
  {
   "cell_type": "markdown",
   "metadata": {
    "colab_type": "text",
    "id": "62OniAYonS4E"
   },
   "source": [
    "Next let's study the spectral types present in the dataframe. Really the only information needed at this time from the SpType column are the first two characters. Furthermore we will be only interested in those cases where the first character is alphabetic and the second is a number, like G8 or F5. After removing the anomalies, a new column is created with only the first two characters:"
   ]
  },
  {
   "cell_type": "code",
   "execution_count": 7,
   "metadata": {
    "colab": {
     "base_uri": "https://localhost:8080/",
     "height": 221
    },
    "colab_type": "code",
    "id": "Y8vHOUQmnVDC",
    "outputId": "4fcc8358-eeea-48ad-c000-aba7ed9d0fa9"
   },
   "outputs": [
    {
     "name": "stdout",
     "output_type": "stream",
     "text": [
      "\n",
      "***shape of the df_clean***\n",
      "(111562, 6)\n",
      "\n",
      "***head of the df_clean***\n",
      "     Vmag    Plx    B-V SpType       M_V SpType2\n",
      "HIP                                             \n",
      "1    9.10   3.54  0.482     F5  1.845016      F5\n",
      "2    9.27  21.90  0.999    K3V  5.972221      K3\n",
      "3    6.61   2.81 -0.019     B9 -1.146468      B9\n",
      "4    8.06   7.75  0.370    F0V  2.506509      F0\n",
      "5    8.55   2.87  0.902  G8III  0.839409      G8\n"
     ]
    }
   ],
   "source": [
    "# Rows that do not meet the condition alpha + num are eliminated\n",
    "f = lambda s: (len(s) >= 2)  and (s[0].isalpha()) and (s[1].isdigit())\n",
    "i  = df_clean['SpType'].apply(f)\n",
    "df_clean = df_clean[i]\n",
    "\n",
    "# A new column is created with the first two characters from 'SpType'\n",
    "f = lambda s: s[0:2]\n",
    "df_clean['SpType2'] = df_clean['SpType'].apply(f)\n",
    "\n",
    "print('')\n",
    "print('***shape of the df_clean***')\n",
    "print(df_clean.shape)\n",
    "\n",
    "print('')\n",
    "print('***head of the df_clean***')\n",
    "print(df_clean.head())"
   ]
  },
  {
   "cell_type": "markdown",
   "metadata": {
    "colab_type": "text",
    "id": "HjSDcOE1vgxd"
   },
   "source": [
    "spectral class에 따라 분류해 보자."
   ]
  },
  {
   "cell_type": "code",
   "execution_count": 8,
   "metadata": {
    "colab": {
     "base_uri": "https://localhost:8080/",
     "height": 238
    },
    "colab_type": "code",
    "id": "ahuHgAhBvnSB",
    "outputId": "86837910-ef86-4726-f569-6f39390adc6c"
   },
   "outputs": [
    {
     "name": "stdout",
     "output_type": "stream",
     "text": [
      "***count number each class in df_clean***\n",
      "K    31578\n",
      "F    25201\n",
      "G    22213\n",
      "A    17651\n",
      "B    10281\n",
      "M     4212\n",
      "O      256\n",
      "C       82\n",
      "N       48\n",
      "R       23\n",
      "S       17\n",
      "Name: SpType, dtype: int64\n"
     ]
    }
   ],
   "source": [
    "f = lambda s: s[0]\n",
    "clases = df_clean['SpType'].map(f)\n",
    "\n",
    "print('***count number each class in df_clean***')\n",
    "print(clases.value_counts())"
   ]
  },
  {
   "cell_type": "markdown",
   "metadata": {
    "colab_type": "text",
    "id": "hAtwUM7axb2m"
   },
   "source": [
    "spectral class에서 OBAFGKM 을 제외한 C, N, R and S를 지워야 겠다."
   ]
  },
  {
   "cell_type": "code",
   "execution_count": 9,
   "metadata": {
    "colab": {
     "base_uri": "https://localhost:8080/",
     "height": 170
    },
    "colab_type": "code",
    "id": "gosul4qgxryD",
    "outputId": "eabe1392-f4b3-44f1-ddfa-4922f2d900fd"
   },
   "outputs": [
    {
     "name": "stdout",
     "output_type": "stream",
     "text": [
      "***count number each class in df_clean***\n",
      "K    31578\n",
      "F    25201\n",
      "G    22213\n",
      "A    17651\n",
      "B    10281\n",
      "M     4212\n",
      "O      256\n",
      "Name: SpType, dtype: int64\n"
     ]
    }
   ],
   "source": [
    "f = lambda s: s[0] in 'OBAFGKM'\n",
    "df_clean = df_clean[df_clean['SpType'].map(f)]\n",
    "\n",
    "f = lambda s: s[0]\n",
    "clases = df_clean['SpType'].map(f)\n",
    "\n",
    "print('***count number each class in df_clean***')\n",
    "print(clases.value_counts())"
   ]
  },
  {
   "cell_type": "markdown",
   "metadata": {
    "colab_type": "text",
    "id": "p0mS_3XsyQUX"
   },
   "source": [
    "The purpose is to make a graph where on the horizontal axis are the spectral classes included in the Morgan-Keenan system (MKK) \"OBAFGKM\", followed by a digit 0-9. In addition we want that the spectral classes appear ordered precisely in this order (B5 before A0...). So I'm going to replace the letters by digits in ascending sequence in the SpType2 column, in order to sort by that column.\n"
   ]
  },
  {
   "cell_type": "code",
   "execution_count": 10,
   "metadata": {
    "colab": {
     "base_uri": "https://localhost:8080/",
     "height": 170
    },
    "colab_type": "code",
    "id": "Zm-Vei-0yT6Z",
    "outputId": "cd7e969a-d042-4915-efdd-fccbd90c75a8"
   },
   "outputs": [
    {
     "name": "stdout",
     "output_type": "stream",
     "text": [
      "\n",
      "***head of the df_clean***\n",
      "     Vmag    Plx    B-V SpType       M_V SpType2\n",
      "HIP                                             \n",
      "1    9.10   3.54  0.482     F5  1.845016      35\n",
      "2    9.27  21.90  0.999    K3V  5.972221      53\n",
      "3    6.61   2.81 -0.019     B9 -1.146468      19\n",
      "4    8.06   7.75  0.370    F0V  2.506509      30\n",
      "5    8.55   2.87  0.902  G8III  0.839409      48\n"
     ]
    }
   ],
   "source": [
    "f = lambda s: s[0] in 'OBAFGKM'\n",
    "df_clean = df_clean[df_clean['SpType'].map(f)]\n",
    "\n",
    "f = lambda s: s[0]\n",
    "clases = df_clean['SpType'].map(f)\n",
    "\n",
    "orden = {'O':'0', 'B':'1', 'A':'2', 'F':'3', 'G':'4', 'K':'5', 'M':'6'}\n",
    "f = lambda s: orden[s[0]]+s[1]\n",
    "df_clean['SpType2'] = df_clean['SpType2'].apply(f)\n",
    "\n",
    "print('')\n",
    "print('***head of the df_clean***')\n",
    "print(df_clean.head())"
   ]
  },
  {
   "cell_type": "markdown",
   "metadata": {
    "colab_type": "text",
    "id": "-AfNcKl79Hoj"
   },
   "source": [
    "# Chart plot"
   ]
  },
  {
   "cell_type": "code",
   "execution_count": 11,
   "metadata": {
    "colab": {
     "base_uri": "https://localhost:8080/",
     "height": 661
    },
    "colab_type": "code",
    "id": "JIh_YWgCyl6z",
    "outputId": "eb900f9d-84ad-4b1a-c805-da9f49ccb635"
   },
   "outputs": [
    {
     "data": {
      "image/png": "[encoded data removed]",
      "text/plain": [
       "<Figure size 576x720 with 1 Axes>"
      ]
     },
     "metadata": {
      "needs_background": "light"
     },
     "output_type": "display_data"
    }
   ],
   "source": [
    "fig, ax = plt.subplots(figsize=(8,10))\n",
    "\n",
    "ax.set_xlim(0, 70)\n",
    "ax.set_ylim(15, -10)\n",
    "ax.grid()\n",
    "ax.set_title('H-R Diagram \\n (Hipparcos catalog)')\n",
    "\n",
    "ax.title.set_fontsize(20)\n",
    "ax.set_xlabel('spectral class')\n",
    "ax.xaxis.label.set_fontsize(20)\n",
    "ax.set_ylabel('Absolute magnitude (M)')\n",
    "ax.yaxis.label.set_fontsize(20)\n",
    "\n",
    "ax.scatter(df_clean['SpType2'].astype(np.int), df_clean['M_V'],\n",
    "           s=50, edgecolors='none', alpha=0.015, c='k')\n",
    "ax.set_xticks(range(5,75,10))\n",
    "ax.set_xticklabels(['O', 'B', 'A', 'F', 'G', 'K', 'M'])\n",
    "ax.tick_params(axis='both', labelsize=14)"
   ]
  },
  {
   "cell_type": "markdown",
   "metadata": {
    "colab_type": "text",
    "id": "VbKzxa9Tyzcb"
   },
   "source": [
    "The diagram above is not very satisfactory, in the sense that as the horizontal axis correspond to a discrete set of values (the different spectral types), vertical stripes are formed by accumulation of observations on these values. It would be preferable to use a continuous scale of decimal values. Therefore we are going to repeat the plot, this time using the color index B-V instead of the spectral classes. Furthermore, it will show that both diagrams have the same shape, confirming the relationship between spectral classes and color indexes."
   ]
  },
  {
   "cell_type": "code",
   "execution_count": null,
   "metadata": {
    "colab": {
     "base_uri": "https://localhost:8080/",
     "height": 661
    },
    "colab_type": "code",
    "id": "rn8_8-80y1vF",
    "outputId": "8a2faabd-bb0c-4391-c686-3ecb06b43903"
   },
   "outputs": [],
   "source": [
    "fig, ax = plt.subplots(figsize=(8,10))\n",
    "\n",
    "ax.set_xlim(-0.5, 2.5)\n",
    "ax.set_ylim(15, -10)\n",
    "ax.grid()\n",
    "ax.set_title('H-R Diagram \\n (Hipparcos catalog)')\n",
    "\n",
    "ax.title.set_fontsize(20)\n",
    "ax.set_xlabel('Color index (B-V)')\n",
    "ax.xaxis.label.set_fontsize(20)\n",
    "ax.set_ylabel('Absolute magnitude (M)')\n",
    "ax.yaxis.label.set_fontsize(20)\n",
    "\n",
    "ax.scatter(df_clean['B-V'], df_clean['M_V'],\n",
    "           #s=50, edgecolors='none', alpha=0.015, c='k')\n",
    "           s=1, edgecolors='none', c='k')\n",
    "\n",
    "ax.tick_params(axis='both', labelsize=14)"
   ]
  },
  {
   "cell_type": "markdown",
   "metadata": {
    "colab_type": "text",
    "id": "IfsioTVxCNm8"
   },
   "source": [
    "# Luminosity classes\n",
    "\n",
    "In addition to the spectral type OBAFGKM, many stars in the Hipparcos catalog contain, in the field SpType, the luminosity class coded with the Roman numerals I to VII, that indicate the type of star in question. You can read an explanation of this classification system in the Wikipedia: Stellar classification\n",
    "\n",
    "So let's analyze the presence of these luminosity classes in the HIPPARCOS catalog:"
   ]
  },
  {
   "cell_type": "code",
   "execution_count": null,
   "metadata": {
    "colab": {
     "base_uri": "https://localhost:8080/",
     "height": 136
    },
    "colab_type": "code",
    "id": "nOZLbCIY0HGe",
    "outputId": "9f4acfd3-b24b-421b-b985-31edf06c346a"
   },
   "outputs": [],
   "source": [
    "f = lambda s: 'VII' in s\n",
    "b = df_clean['SpType'].map(f)\n",
    "print (\"Class VII: white dwarfs, there are %d stars\" %sum(b))\n",
    "\n",
    "f = lambda s: ('VI' in s) and ('VII' not in s)\n",
    "b = df_clean['SpType'].map(f)\n",
    "print (\"Class VI: subdwarfs, there are %d stars\" %sum(b))\n",
    "\n",
    "f = lambda s: ('V' in s) and ('VI' not in s) and ('IV' not in s)\n",
    "b = df_clean['SpType'].map(f)\n",
    "print (\"Class V: main-sequence, there are %d stars\" %sum(b))\n",
    "\n",
    "f = lambda s: 'IV' in s\n",
    "b = df_clean['SpType'].map(f)\n",
    "print (\"Class IV: subgiants, there are %d stars\" %sum(b))\n",
    "\n",
    "f = lambda s: 'III' in s\n",
    "b = df_clean['SpType'].map(f)\n",
    "print (\"Class III: giants, there are %d stars\" %sum(b))\n",
    "\n",
    "f = lambda s: ('II' in s) and ('III' not in s) and ('VII' not in s)\n",
    "b = df_clean['SpType'].map(f)\n",
    "print (\"Class II:  bright giants, there are %d stars\" %sum(b))\n",
    "\n",
    "f = lambda s: ('I' in s) and ('II' not in s) and ('V' not in s)\n",
    "b = df_clean['SpType'].map(f)\n",
    "print (\"Class I: supergiants, there are %d stars\" %sum(b))"
   ]
  },
  {
   "cell_type": "markdown",
   "metadata": {
    "colab_type": "text",
    "id": "WBTu2pcc0RCU"
   },
   "source": [
    "As you can see below, about half of the stars in the catalog have no luminosity class encoded in the SpType field:"
   ]
  },
  {
   "cell_type": "code",
   "execution_count": null,
   "metadata": {
    "colab": {
     "base_uri": "https://localhost:8080/",
     "height": 34
    },
    "colab_type": "code",
    "id": "CpFDhZ_M0SRZ",
    "outputId": "fd60236f-27a1-4c04-852d-9eccf07c2070"
   },
   "outputs": [],
   "source": [
    "f = lambda s: ('I' not in s) and ('V' not in s)\n",
    "b = df_clean['SpType'].map(f)\n",
    "\n",
    "print (sum(b))"
   ]
  },
  {
   "cell_type": "markdown",
   "metadata": {
    "colab_type": "text",
    "id": "8qBMkJ6h0zNi"
   },
   "source": [
    "However, there's yet a significant number of entries in the catalog that do contain information of the stellar class, so it makes sense to show the position of each of these luminosity classes in the H-R diagram"
   ]
  },
  {
   "cell_type": "code",
   "execution_count": null,
   "metadata": {
    "colab": {
     "base_uri": "https://localhost:8080/",
     "height": 661
    },
    "colab_type": "code",
    "id": "d5y2x0RL026v",
    "outputId": "e6be8d87-27b2-462e-851b-35aab40157d0"
   },
   "outputs": [],
   "source": [
    "def plot_lum_class(b,c, label):\n",
    "    ''' b: boolean Series to make the selection\n",
    "        c: Color\n",
    "        label: for the legend\n",
    "    '''\n",
    "    x = df_clean['B-V'][b]\n",
    "    y = df_clean['M_V'][b]\n",
    "    ax.scatter(x, y, c = c, s=6, edgecolors='none', label = label)\n",
    "\n",
    "fig = plt.figure(figsize=(8,10))\n",
    "ax = fig.add_subplot(111)\n",
    "\n",
    "ax.set_xlim(-0.5, 2.5)\n",
    "ax.set_ylim(15, -15)\n",
    "ax.grid()\n",
    "ax.set_title('H-R Diagram \\n (Hipparcos catalog)')\n",
    "\n",
    "ax.title.set_fontsize(20)\n",
    "ax.set_xlabel('Color index (B-V)')\n",
    "ax.xaxis.label.set_fontsize(20)\n",
    "ax.set_ylabel('Absolute magnitude (M)')\n",
    "ax.yaxis.label.set_fontsize(20)\n",
    "\n",
    "f = lambda s: 'VII' in s\n",
    "b = df_clean['SpType'].map(f)\n",
    "plot_lum_class(b,'white', 'VII: white dwarfs')\n",
    "\n",
    "f = lambda s: ('VI' in s) and ('VII' not in s)\n",
    "b = df_clean['SpType'].map(f)\n",
    "plot_lum_class(b,'blue', 'VI: subdwarfs')\n",
    "\n",
    "f = lambda s: ('V' in s) and ('VI' not in s) and ('IV' not in s)\n",
    "b = df_clean['SpType'].map(f)\n",
    "plot_lum_class(b,'black', 'V: main-sequence')\n",
    "\n",
    "f = lambda s: 'IV' in s\n",
    "b = df_clean['SpType'].map(f)\n",
    "plot_lum_class(b,'grey', 'IV: subgiants')\n",
    "\n",
    "f = lambda s: 'III' in s\n",
    "b = df_clean['SpType'].map(f)\n",
    "plot_lum_class(b,'green', 'III: giants')\n",
    "\n",
    "f = lambda s: ('II' in s) and ('III' not in s) and ('VII' not in s)\n",
    "b = df_clean['SpType'].map(f)\n",
    "plot_lum_class(b,'orange', 'II: bright giants')\n",
    "\n",
    "f = lambda s: ('I' in s) and ('II' not in s) and ('V' not in s)\n",
    "b = df_clean['SpType'].map(f)\n",
    "plot_lum_class(b,'yellow', 'I: supergiants')\n",
    "\n",
    "ax.tick_params(axis='both', labelsize=14)\n",
    "legend = ax.legend(scatterpoints=1, markerscale = 5, shadow=True)\n",
    "frame = legend.get_frame()\n",
    "\n",
    "#frame.set_facecolor('0.90')"
   ]
  }
 ],
 "metadata": {
  "accelerator": "GPU",
  "colab": {
   "collapsed_sections": [],
   "include_colab_link": true,
   "name": "07-2.Drawing_H-R_Diagram_of_Hipparcos_Catalogue",
   "provenance": [],
   "toc_visible": true,
   "version": "0.3.2"
  },
  "kernelspec": {
   "display_name": "Python 3",
   "language": "python",
   "name": "python3"
  },
  "language_info": {
   "codemirror_mode": {
    "name": "ipython",
    "version": 3
   },
   "file_extension": ".py",
   "mimetype": "text/x-python",
   "name": "python",
   "nbconvert_exporter": "python",
   "pygments_lexer": "ipython3",
   "version": "3.6.6"
  }
 },
 "nbformat": 4,
 "nbformat_minor": 1
}
