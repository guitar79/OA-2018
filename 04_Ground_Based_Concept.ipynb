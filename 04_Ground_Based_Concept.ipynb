{
 "cells": [
  {
   "cell_type": "markdown",
   "metadata": {
    "slideshow": {
     "slide_type": "-"
    }
   },
   "source": [
    "# Ground Based Observation\n",
    "\n",
    "\n",
    "If you make observations on the ground, the biggest problem is the atmosphere. The atmosphere makes two important problems:\n",
    "\n",
    "* Seeing\n",
    "* Extinction (= scattering + absorption)\n",
    "\n",
    "In the following, we will explore what seeing and extinction are, and learn how to get the \"real\" magnitude from instrumental magnitude (called the **standardization** process).\n",
    "\n",
    "Finally, I will show you some examples for you to understand how to do the real standardization process.\n",
    "\n",
    "-----"
   ]
  },
  {
   "cell_type": "markdown",
   "metadata": {},
   "source": [
    "## 1. Seeing\n",
    "\n",
    "\n",
    "Seeing is one of the critical problems. You may refer to [here](https://drive.google.com/open?id=0B-MLFRYnMxUvWTNiZjhaZHA1cnM) and grasp the meaning of seeing. In this section, I will ignore the instrumental seeing, which usually is a low-frequency component.\n",
    "\n",
    "Because of the atmospheric seeing, the point source is smoothed from its own \"point\". The function which describes this spreadness is called the **point spread function**, or just **psf**.\n",
    "\n",
    "There are two most widely used analytic psfs: [Gaussian](https://en.wikipedia.org/wiki/Gaussian_function) and [Moffat](https://en.wikipedia.org/wiki/Moffat_distribution). The first suggestion of using Moffat profile was made in 1969 by A. F. J. Moffat in [this paper](http://adsabs.harvard.edu/cgi-bin/bib_query?bibcode=1969A%26A.....3..455M&db_key=AST) (Astronomy and Astrophysics, Vol. 3, p. 455 (1969)). \n",
    "\n",
    "Among parameters for psfs, one that is very widely used in astronomy is the FWHM (full width at half-maximum). FWHM is defined as the distance between the two points which have the value $\\frac{1}{2} f_{\\rm max}$. FWHM is also used for Lorenzian profile, which has infinite standard deviation (the second centered moment diverges, so the standard deviation is not defined, but FWHM can). The profiles of two psfs and their FWHMs are described below:"
   ]
  },
  {
   "cell_type": "markdown",
   "metadata": {},
   "source": [
    "### 1.1. Gauss\n",
    "The circular, i.e., azimuthally symmetric Gauss psf is like this:\n",
    "\n",
    "$$ f_{\\rm Gauss}(r) = A e^{ -(r-r_0)^2/2\\sigma^2 } $$\n",
    "\n",
    "Here, $r$ is the distance from the center, $r_0$, and $\\sigma$ is the standard deviation of the profile. The normalization constant $A = \\frac{1}{\\sqrt{2 \\pi \\sigma^2}}$, such that the integration $ \\int_{-\\infty}^{+\\infty} f_{\\rm Gauss}(r) dr = 1$. \n",
    "\n",
    "The FWHM is calculated by setting $f_{\\rm Gauss}(r_{1/2}) = \\frac{A}{2}$. First we obtain\n",
    "\n",
    "$$ (r_{1/2} - r_0)^2 = 2 \\log_e 2 \\sigma^2$$\n",
    "\n",
    "and thus\n",
    "\n",
    "$$ {\\rm FWHM} := 2(r_{1/2} - r_0) = 2 \\sqrt{2 \\log_e 2} \\sigma ~.$$"
   ]
  },
  {
   "cell_type": "markdown",
   "metadata": {},
   "source": [
    "### 1.2. Moffat\n",
    "The circular, i.e., azimuthally symmetric Moffat psf is like this:\n",
    "\n",
    "$$f_{\\rm Moffat} (r) = A \\left [ 1 + \\left ( \\frac{r-r_0}{R} \\right )^2 \\right ]^{-\\beta} ~.$$\n",
    "\n",
    "Here, $r$ is the distance from the center, $r_0$, as in Gauss psf. By integration, I obtained the normalization constant $ A = \\frac{\\Gamma(\\beta)}{R\\sqrt{\\pi} \\Gamma(\\beta-\\frac{1}{2})} $. The parameter $R$ is called the core width and $\\beta$ is called the power. In [astropy Moffat 2D](http://docs.astropy.org/en/stable/api/astropy.modeling.functional_models.Moffat2D.html#astropy.modeling.functional_models.Moffat2D), `gamma` is used for the core width ($R$), and `alpha` is used for the power ($\\beta$), which might be confusing. [IRAF Moffat 2D](http://stsdas.stsci.edu/cgi-bin/gethelp.cgi?psfmeasure) uses `alpha` as the core width ($R$) and `beta` for the power ($\\beta$), which has been a more standard notation in astronomy. Moffat considered atmospheric turbulence, instrumental abberation, and photographic receiver when he first instroduced this profile.\n",
    "\n",
    "The FWHM is calculated by setting $f_{\\rm Moffat}(r_{1/2}) = \\frac{A}{2}$. As we did in Gauss example, we obtain\n",
    "\n",
    "$$ (r_{1/2} - r_0)^2 = R^2 (2^{1/\\beta}-1) $$\n",
    "\n",
    "and thus\n",
    "\n",
    "$$ {\\rm FWHM} := 2(r_{1/2} - r_0) = 2 R \\sqrt{2^{1/\\beta}-1} ~.$$"
   ]
  },
  {
   "cell_type": "markdown",
   "metadata": {},
   "source": [
    "### 1.3. Comparison (Gauss VS Moffat)\n",
    "\n",
    "In uniform atmospheric seeing condition and long exposure time, psf should converge to a symmetric shape, i.e., isophotal curves should look like a concentric circles. It actually is rarely the case. We encounter elliptical, or even irregularly shaped isophotes. In such cases, you may make elliptical model rotated by certain angle, or simulate the seeing. Those fitting or simulation can be done using Astropy if necessary. Usually we believe the tracking is perfect, and use circular aperture. \n",
    "\n",
    "In the following example, I will show you the difference between Gaussian and Moffat in 1-D simple case."
   ]
  },
  {
   "cell_type": "code",
   "execution_count": 1,
   "metadata": {},
   "outputs": [
    {
     "data": {
      "text/plain": [
       "<Figure size 640x480 with 2 Axes>"
      ]
     },
     "metadata": {},
     "output_type": "display_data"
    }
   ],
   "source": [
    "from astropy.modeling.functional_models import Moffat1D, Gaussian1D\n",
    "from scipy.special import gamma as G\n",
    "import numpy as np\n",
    "from matplotlib import pyplot as plt\n",
    "\n",
    "def norm_gauss(sigma):\n",
    "    return 1/np.sqrt(2 * np.pi * sigma**2)\n",
    "\n",
    "def norm_moffat(width, power):\n",
    "    return G(power) / (width * np.sqrt(np.pi) * G(power - 1/2))\n",
    "\n",
    "def HWHM_moffat(width, power):\n",
    "    return width * np.sqrt( 2**(1/power) - 1)\n",
    "\n",
    "x       = np.arange(0,8,0.1)\n",
    "sigma   = np.array([1, 2])\n",
    "width   = np.array([2, 5])\n",
    "power   = np.array([1.5, 2.5])\n",
    "\n",
    "\n",
    "ax1 = plt.subplot(1,2,1)\n",
    "ax2 = plt.subplot(1,2,2)\n",
    "for s in sigma:\n",
    "    gauss  = Gaussian1D(amplitude=1, mean=0, stddev=s)    \n",
    "    ax1.plot(x, norm_gauss(s)*gauss(x), ls=\":\", \n",
    "             label=\"sigma={0:.0f}, HWHM={1:.1f}\".format(s, 2.355*s/2))\n",
    "    ax2.plot(x, -2.5 * np.log10(norm_gauss(s)*gauss(x)), ls=\":\", \n",
    "             label=\"sigma={0:.0f}, HWHM={1:.1f}\".format(s, 2.355*s/2))\n",
    "\n",
    "for w in width:\n",
    "    for p in power:\n",
    "        moffat = Moffat1D(amplitude=1, x_0=0, gamma=w, alpha=p)\n",
    "        HWHM   = HWHM_moffat(w, p)\n",
    "        ax1.plot(x, norm_moffat(w, p) * moffat(x), lw=2,\n",
    "                 label='w={0:.0f}, p={1:.1f}, HWHM={2:.1f}'.format(w, p, HWHM))\n",
    "        ax2.plot(x, -2.5*np.log10(norm_moffat(w, p) * moffat(x)), lw=2,\n",
    "                 label='width={0:.0f}, power={1:.1f}, HWHM={2:.1f}'.format(w, p, HWHM))\n",
    "\n",
    "ax1.grid(ls=\":\")\n",
    "ax2.grid(ls=\":\")\n",
    "ax2.set_ylim(1, 5)\n",
    "ax2.invert_yaxis()\n",
    "ax2.set_title('log scale = magnitude scale')\n",
    "plt.legend(bbox_to_anchor=(1.02, 1))\n",
    "plt.tight_layout()\n",
    "plt.show()"
   ]
  },
  {
   "cell_type": "markdown",
   "metadata": {},
   "source": [
    "Moffat describes in his 1969 paper that\n",
    "\n",
    "> Two-dimensional intensity profiles of focal stellar images in photographic emulsions were derived by convolving gaussian seeing distributions with diffraction proffles and emulsion scattering functions. **The results predict too low an intensity for large radial distances from the centre of the image**, contradicting the assumption that seeing is gaussian.\n",
    "\n",
    "He noted that the stellar profile is too bright than the good-fitted Gaussian at larger radius, and this contradicts with the old assumption that seeing profile is Gaussian. This can be seen from the above figure I drew. Compare blue dotted (Gauss) and red solid lines (Moffat). The HWHMs are 1.2 and 1.1, so you may expect the latter to have more \"concentrated\" profile. But at radius larger than about 1.5, latter becomes larger. \n",
    "\n",
    "This means the Gaussian fitting may not always be a good choice, especially in the presence of atmosphere.\n",
    "\n",
    "* **Question**: Why do you think I let the abscissa to be in a logarithmic scale? Can you guess what the $\\log_{10}$ of stellar profile means?\n",
    "\n",
    "* **TIP**: The reason I normalized psfs is that I wanted to simulate the psf of the same star with different atmospheric condition. The total flux of the star should be constant, but the psf changes due to the seeing.\n",
    "-----"
   ]
  },
  {
   "cell_type": "markdown",
   "metadata": {},
   "source": [
    "## 2. Extinction\n",
    "\n",
    "Because of the atmosphere, stellar flux diminishes because of **absorption** and **scattering**. It is mainly because of the change in weather; the same star can appear to have different flux every time, even though the exposure time and instruments are exactly the same. This of course depends on the thickness of atmosphere in the line of sight. More complicated issue is that this extinction is also a function of wavelength, so you have to apply different extinction factor for different filters, *in principle*. \n",
    "\n",
    "\n",
    "### 2.1. Atmospheric Extinction\n",
    "Under parallel uniform atmosphere assumption, the flux diminishes by a factor of $e^{-\\tau}$, where $\\tau$ is the optical depth. In magnitude system, i.e., the logarithmic scale, this means the increase in magnitude is proportional to the airmass, $X = \\sec(z)$: \n",
    "\n",
    "\\begin{equation}\n",
    "    m(X) = m_0 + k_X X\n",
    "\\end{equation}\n",
    "\n",
    "where $m$ is the observed magnitude, $m_0$ is the magnitude if it were not for the atmosphere, and $k_X$ is a constant called the *extinction coefficient*.\n",
    "\n",
    "\n",
    "### 2.2. Wavelength Dependence\n",
    "It is natural that the extinction, which include absorption and scattering, depends on wavelength. In [Rayleigh regime](https://en.wikipedia.org/wiki/Rayleigh_scattering), i.e., when wavelength is much longer than particles ($x \\ll \\lambda$ where $x$ is the size parameter), the extinction is approximately proportional to $\\lambda^{-4}$. So shorter wavelength must have larger $k_X$ value, which means it suffers more extinction from atmosphere. \n",
    "\n",
    "> $k_X$ is actually a wavelength dependent one ($k_{X, \\lambda}$). Typical values are\n",
    " * 0.4 in U-band\n",
    " * 0.2 in B-band\n",
    " * 0.1 in V-band\n",
    "\n",
    "\n",
    "In broad-band observation, the word \"wavelength\" can be substituted by \"filter\". For example, if we want the V band magnitude, we need to find coefficients $a$ and $k_{XC}$ from \n",
    "\n",
    "\\begin{equation}\n",
    "    m_V = m_{V, 0} + k_{X, V} X + a({\\rm B}-{\\rm V}) + k_{XC, V} X ({\\rm B}-{\\rm V}) ~.\n",
    "\\end{equation}\n",
    "\n",
    "You can use U, R, I, or any other bands instead of B, but I used B which is conventional. The subscript C in $k_{XC}$ means \"color\".\n",
    "\n",
    "Fortunately, $a$ is very small ($|a| \\lesssim 0.1$), and $k_{\\rm XC}$ is nearly zero for most instances. Considering B-V color is usually less than unity, you can see that the color terms (the third and the fourth term) will be very negligible. Especially the introduction of $k_{XC}$ increases the uncertainty in many cases, so it is not usually used unless the sky is very clear.\n",
    "\n",
    "> The color dependent terms ($k_{XC, V}$ and even $a$) is not very useful unless you need very precise determination.\n",
    "\n",
    "\n",
    "-----"
   ]
  },
  {
   "cell_type": "markdown",
   "metadata": {},
   "source": [
    "## 3. Zero-point\n",
    "\n",
    "What we will calculate from program or software is just $m_{\\rm inst} = 2.5 \\log_{10} ({\\rm photon~count~per~1s})$ (the **instrumental magnitude**). In such cases, even the Moon may appear to have magnitude of only 10-mag or so, which is non-sensical. The normalization to photon count can be done by subtracting certain value from instrumental magnitude, which is mathematically identical to the normalization using 0-mag star (think about Pogson's formula). \n",
    "\n",
    "The correction to this kind of problem is done by **zeropoint** magnitude. If the zeropoint is denoted as $m_z$, we get the real magnitude as $m = m_{\\rm inst} - m_z$.\n",
    "\n",
    "-----"
   ]
  },
  {
   "cell_type": "markdown",
   "metadata": {},
   "source": [
    "## 4. Standardization\n",
    "\n",
    "### 4.1. Idea\n",
    "Combining the zeropoint correction and extinction correction and ignore the color terms, we get\n",
    "\n",
    "\\begin{equation}\n",
    "\tm_{0, V} = m_{{\\rm inst}, V} - m_{z, V} - k_{X, V} X \\quad( - {\\rm color~correction~terms})~,\n",
    "\\end{equation}\n",
    "\n",
    "or more frequently, changing $m_{0, V} $ to $V$, $m_{{\\rm inst}, V}$ to $v$, etc, \n",
    "\n",
    "\\begin{equation}\n",
    "\tv - V = z_{V} + k_{V} X \\quad( + {\\rm color~correction~terms})~,\n",
    "\\end{equation}\n",
    "\n",
    "for V-band, as an example. Conventionally people use upper case for the actual (apparent) magnitude and lower case for instrumental (apparent) magnitude. \n",
    "\n",
    "This process, *transforming the instrumental magnitude to the \"real\" magnitude*, is called the **standardization**.\n",
    "\n",
    "\n",
    "### 4.2. Standardization in Practice\n",
    "\n",
    "Now, how do we get $m_z$ and $k_X$? What we know is only $X$ and what we can calculate is only $m_{\\rm inst}$! Fortunately, we have some stars which have very accurately known $m_0$ values. These are called the **standard stars**. Some famous ones are **Landolt standard stars**.\n",
    "\n",
    "So the strategy is clear: Take images of standard stars at different airmasses, at nearly identical sky conditions. Plot $m_{\\rm inst} - m_0$ VS $X$, and the slope and intercept will be $k_X$ and $m_z$, respectively. This is only true when we neglect the wavelength (or color) dependency of extinction. Note that these two depends on sky condition, i.e., **these should be determined at each night**, in principle.\n",
    "\n",
    "The easiest case occurs if the targets of interst are at almost identical zenith distance (i.e., constant $X$). Observation of a bright star cluster is such a case. Then we can regard $k_X X$ as a constant, and set it as part of $m_z$, so $ m_0 = m_{\\rm inst} - m_z' $.\n",
    "\n",
    "\n",
    "\n",
    "\n",
    "-----"
   ]
  },
  {
   "cell_type": "markdown",
   "metadata": {
    "collapsed": true
   },
   "source": [
    "## Example 1: Calculating Instrumental Magnitude and Color\n",
    "\n",
    "Consider you have obtained images of two objects and three standard stars. (I have obtained these data from the tutorial examples of a class which I took in 2016, and the data are not very realistic, but good enough to use for our example, so I adopted)\n",
    "\n",
    "\n",
    "Each of the standard stars was taken at three different airmasses, named `X`: 1.0, 1.3, and 2.0. The exposure time in V and B bands are `T_B` and `T_V`. The photon counts are given in `count_V` and `count_B`. Say the gain value `gain=1.0` and ignore the readout noise. Also assume the sky conditions were prefectly good during the observation. \n",
    "\n",
    "> **How can we calculate the magnitudes, colors, and their uncertainties?** \n",
    "\n",
    "For brevity, I will use lower cased letters, `b` and `v` for the *instrumental* magnitudes, and `B`, `V` for the *real (literature)* magnitudes.\n",
    "\n",
    "Let me first load and show you the data:\n"
   ]
  },
  {
   "cell_type": "code",
   "execution_count": 2,
   "metadata": {},
   "outputs": [
    {
     "ename": "FileNotFoundError",
     "evalue": "[Errno 2] No such file or directory: 'Ground_Based_Tutorial/data_0.dat'",
     "output_type": "error",
     "traceback": [
      "\u001b[1;31m---------------------------------------------------------------------------\u001b[0m",
      "\u001b[1;31mFileNotFoundError\u001b[0m                         Traceback (most recent call last)",
      "\u001b[1;32m<ipython-input-2-09943c992873>\u001b[0m in \u001b[0;36m<module>\u001b[1;34m\u001b[0m\n\u001b[0;32m      1\u001b[0m \u001b[1;32mfrom\u001b[0m \u001b[0mastropy\u001b[0m\u001b[1;33m.\u001b[0m\u001b[0mio\u001b[0m\u001b[1;33m.\u001b[0m\u001b[0mascii\u001b[0m \u001b[1;32mimport\u001b[0m \u001b[0mread\u001b[0m\u001b[1;33m\u001b[0m\u001b[1;33m\u001b[0m\u001b[0m\n\u001b[1;32m----> 2\u001b[1;33m \u001b[0mdata\u001b[0m \u001b[1;33m=\u001b[0m \u001b[0mread\u001b[0m\u001b[1;33m(\u001b[0m\u001b[1;34m'Ground_Based_Tutorial/data_0.dat'\u001b[0m\u001b[1;33m)\u001b[0m\u001b[1;33m\u001b[0m\u001b[1;33m\u001b[0m\u001b[0m\n\u001b[0m\u001b[0;32m      3\u001b[0m \u001b[0mprint\u001b[0m\u001b[1;33m(\u001b[0m\u001b[0mtype\u001b[0m\u001b[1;33m(\u001b[0m\u001b[0mdata\u001b[0m\u001b[1;33m)\u001b[0m\u001b[1;33m)\u001b[0m\u001b[1;33m\u001b[0m\u001b[1;33m\u001b[0m\u001b[0m\n\u001b[0;32m      4\u001b[0m \u001b[0mdata\u001b[0m\u001b[1;33m.\u001b[0m\u001b[0mpprint\u001b[0m\u001b[1;33m\u001b[0m\u001b[1;33m\u001b[0m\u001b[0m\n",
      "\u001b[1;32m~\\Anaconda3\\lib\\site-packages\\astropy\\io\\ascii\\ui.py\u001b[0m in \u001b[0;36mread\u001b[1;34m(table, guess, **kwargs)\u001b[0m\n\u001b[0;32m    349\u001b[0m         \u001b[1;31m# through below to the non-guess way so that any problems result in a\u001b[0m\u001b[1;33m\u001b[0m\u001b[1;33m\u001b[0m\u001b[1;33m\u001b[0m\u001b[0m\n\u001b[0;32m    350\u001b[0m         \u001b[1;31m# more useful traceback.\u001b[0m\u001b[1;33m\u001b[0m\u001b[1;33m\u001b[0m\u001b[1;33m\u001b[0m\u001b[0m\n\u001b[1;32m--> 351\u001b[1;33m         \u001b[0mdat\u001b[0m \u001b[1;33m=\u001b[0m \u001b[0m_guess\u001b[0m\u001b[1;33m(\u001b[0m\u001b[0mtable\u001b[0m\u001b[1;33m,\u001b[0m \u001b[0mnew_kwargs\u001b[0m\u001b[1;33m,\u001b[0m \u001b[0mformat\u001b[0m\u001b[1;33m,\u001b[0m \u001b[0mfast_reader\u001b[0m\u001b[1;33m)\u001b[0m\u001b[1;33m\u001b[0m\u001b[1;33m\u001b[0m\u001b[0m\n\u001b[0m\u001b[0;32m    352\u001b[0m         \u001b[1;32mif\u001b[0m \u001b[0mdat\u001b[0m \u001b[1;32mis\u001b[0m \u001b[1;32mNone\u001b[0m\u001b[1;33m:\u001b[0m\u001b[1;33m\u001b[0m\u001b[1;33m\u001b[0m\u001b[0m\n\u001b[0;32m    353\u001b[0m             \u001b[0mguess\u001b[0m \u001b[1;33m=\u001b[0m \u001b[1;32mFalse\u001b[0m\u001b[1;33m\u001b[0m\u001b[1;33m\u001b[0m\u001b[0m\n",
      "\u001b[1;32m~\\Anaconda3\\lib\\site-packages\\astropy\\io\\ascii\\ui.py\u001b[0m in \u001b[0;36m_guess\u001b[1;34m(table, read_kwargs, format, fast_reader)\u001b[0m\n\u001b[0;32m    495\u001b[0m             \u001b[0mreader\u001b[0m \u001b[1;33m=\u001b[0m \u001b[0mget_reader\u001b[0m\u001b[1;33m(\u001b[0m\u001b[1;33m**\u001b[0m\u001b[0mguess_kwargs\u001b[0m\u001b[1;33m)\u001b[0m\u001b[1;33m\u001b[0m\u001b[1;33m\u001b[0m\u001b[0m\n\u001b[0;32m    496\u001b[0m             \u001b[0mreader\u001b[0m\u001b[1;33m.\u001b[0m\u001b[0mguessing\u001b[0m \u001b[1;33m=\u001b[0m \u001b[1;32mTrue\u001b[0m\u001b[1;33m\u001b[0m\u001b[1;33m\u001b[0m\u001b[0m\n\u001b[1;32m--> 497\u001b[1;33m             \u001b[0mdat\u001b[0m \u001b[1;33m=\u001b[0m \u001b[0mreader\u001b[0m\u001b[1;33m.\u001b[0m\u001b[0mread\u001b[0m\u001b[1;33m(\u001b[0m\u001b[0mtable\u001b[0m\u001b[1;33m)\u001b[0m\u001b[1;33m\u001b[0m\u001b[1;33m\u001b[0m\u001b[0m\n\u001b[0m\u001b[0;32m    498\u001b[0m             _read_trace.append({'kwargs': guess_kwargs,\n\u001b[0;32m    499\u001b[0m                                 \u001b[1;34m'Reader'\u001b[0m\u001b[1;33m:\u001b[0m \u001b[0mreader\u001b[0m\u001b[1;33m.\u001b[0m\u001b[0m__class__\u001b[0m\u001b[1;33m,\u001b[0m\u001b[1;33m\u001b[0m\u001b[1;33m\u001b[0m\u001b[0m\n",
      "\u001b[1;32m~\\Anaconda3\\lib\\site-packages\\astropy\\io\\ascii\\core.py\u001b[0m in \u001b[0;36mread\u001b[1;34m(self, table)\u001b[0m\n\u001b[0;32m   1144\u001b[0m \u001b[1;33m\u001b[0m\u001b[0m\n\u001b[0;32m   1145\u001b[0m         \u001b[1;31m# Get a list of the lines (rows) in the table\u001b[0m\u001b[1;33m\u001b[0m\u001b[1;33m\u001b[0m\u001b[1;33m\u001b[0m\u001b[0m\n\u001b[1;32m-> 1146\u001b[1;33m         \u001b[0mself\u001b[0m\u001b[1;33m.\u001b[0m\u001b[0mlines\u001b[0m \u001b[1;33m=\u001b[0m \u001b[0mself\u001b[0m\u001b[1;33m.\u001b[0m\u001b[0minputter\u001b[0m\u001b[1;33m.\u001b[0m\u001b[0mget_lines\u001b[0m\u001b[1;33m(\u001b[0m\u001b[0mtable\u001b[0m\u001b[1;33m)\u001b[0m\u001b[1;33m\u001b[0m\u001b[1;33m\u001b[0m\u001b[0m\n\u001b[0m\u001b[0;32m   1147\u001b[0m \u001b[1;33m\u001b[0m\u001b[0m\n\u001b[0;32m   1148\u001b[0m         \u001b[1;31m# Set self.data.data_lines to a slice of lines contain the data rows\u001b[0m\u001b[1;33m\u001b[0m\u001b[1;33m\u001b[0m\u001b[1;33m\u001b[0m\u001b[0m\n",
      "\u001b[1;32m~\\Anaconda3\\lib\\site-packages\\astropy\\io\\ascii\\core.py\u001b[0m in \u001b[0;36mget_lines\u001b[1;34m(self, table)\u001b[0m\n\u001b[0;32m    291\u001b[0m                     ('\\n' not in table + '' and '\\r' not in table + '')):\n\u001b[0;32m    292\u001b[0m                 with get_readable_fileobj(table,\n\u001b[1;32m--> 293\u001b[1;33m                                           encoding=self.encoding) as fileobj:\n\u001b[0m\u001b[0;32m    294\u001b[0m                     \u001b[0mtable\u001b[0m \u001b[1;33m=\u001b[0m \u001b[0mfileobj\u001b[0m\u001b[1;33m.\u001b[0m\u001b[0mread\u001b[0m\u001b[1;33m(\u001b[0m\u001b[1;33m)\u001b[0m\u001b[1;33m\u001b[0m\u001b[1;33m\u001b[0m\u001b[0m\n\u001b[0;32m    295\u001b[0m             \u001b[0mlines\u001b[0m \u001b[1;33m=\u001b[0m \u001b[0mtable\u001b[0m\u001b[1;33m.\u001b[0m\u001b[0msplitlines\u001b[0m\u001b[1;33m(\u001b[0m\u001b[1;33m)\u001b[0m\u001b[1;33m\u001b[0m\u001b[1;33m\u001b[0m\u001b[0m\n",
      "\u001b[1;32m~\\Anaconda3\\lib\\contextlib.py\u001b[0m in \u001b[0;36m__enter__\u001b[1;34m(self)\u001b[0m\n\u001b[0;32m     79\u001b[0m     \u001b[1;32mdef\u001b[0m \u001b[0m__enter__\u001b[0m\u001b[1;33m(\u001b[0m\u001b[0mself\u001b[0m\u001b[1;33m)\u001b[0m\u001b[1;33m:\u001b[0m\u001b[1;33m\u001b[0m\u001b[1;33m\u001b[0m\u001b[0m\n\u001b[0;32m     80\u001b[0m         \u001b[1;32mtry\u001b[0m\u001b[1;33m:\u001b[0m\u001b[1;33m\u001b[0m\u001b[1;33m\u001b[0m\u001b[0m\n\u001b[1;32m---> 81\u001b[1;33m             \u001b[1;32mreturn\u001b[0m \u001b[0mnext\u001b[0m\u001b[1;33m(\u001b[0m\u001b[0mself\u001b[0m\u001b[1;33m.\u001b[0m\u001b[0mgen\u001b[0m\u001b[1;33m)\u001b[0m\u001b[1;33m\u001b[0m\u001b[1;33m\u001b[0m\u001b[0m\n\u001b[0m\u001b[0;32m     82\u001b[0m         \u001b[1;32mexcept\u001b[0m \u001b[0mStopIteration\u001b[0m\u001b[1;33m:\u001b[0m\u001b[1;33m\u001b[0m\u001b[1;33m\u001b[0m\u001b[0m\n\u001b[0;32m     83\u001b[0m             \u001b[1;32mraise\u001b[0m \u001b[0mRuntimeError\u001b[0m\u001b[1;33m(\u001b[0m\u001b[1;34m\"generator didn't yield\"\u001b[0m\u001b[1;33m)\u001b[0m \u001b[1;32mfrom\u001b[0m \u001b[1;32mNone\u001b[0m\u001b[1;33m\u001b[0m\u001b[1;33m\u001b[0m\u001b[0m\n",
      "\u001b[1;32m~\\Anaconda3\\lib\\site-packages\\astropy\\utils\\data.py\u001b[0m in \u001b[0;36mget_readable_fileobj\u001b[1;34m(name_or_obj, encoding, cache, show_progress, remote_timeout)\u001b[0m\n\u001b[0;32m    191\u001b[0m                 \u001b[0mname_or_obj\u001b[0m\u001b[1;33m,\u001b[0m \u001b[0mcache\u001b[0m\u001b[1;33m=\u001b[0m\u001b[0mcache\u001b[0m\u001b[1;33m,\u001b[0m \u001b[0mshow_progress\u001b[0m\u001b[1;33m=\u001b[0m\u001b[0mshow_progress\u001b[0m\u001b[1;33m,\u001b[0m\u001b[1;33m\u001b[0m\u001b[1;33m\u001b[0m\u001b[0m\n\u001b[0;32m    192\u001b[0m                 timeout=remote_timeout)\n\u001b[1;32m--> 193\u001b[1;33m         \u001b[0mfileobj\u001b[0m \u001b[1;33m=\u001b[0m \u001b[0mio\u001b[0m\u001b[1;33m.\u001b[0m\u001b[0mFileIO\u001b[0m\u001b[1;33m(\u001b[0m\u001b[0mname_or_obj\u001b[0m\u001b[1;33m,\u001b[0m \u001b[1;34m'r'\u001b[0m\u001b[1;33m)\u001b[0m\u001b[1;33m\u001b[0m\u001b[1;33m\u001b[0m\u001b[0m\n\u001b[0m\u001b[0;32m    194\u001b[0m         \u001b[1;32mif\u001b[0m \u001b[0mis_url\u001b[0m \u001b[1;32mand\u001b[0m \u001b[1;32mnot\u001b[0m \u001b[0mcache\u001b[0m\u001b[1;33m:\u001b[0m\u001b[1;33m\u001b[0m\u001b[1;33m\u001b[0m\u001b[0m\n\u001b[0;32m    195\u001b[0m             \u001b[0mdelete_fds\u001b[0m\u001b[1;33m.\u001b[0m\u001b[0mappend\u001b[0m\u001b[1;33m(\u001b[0m\u001b[0mfileobj\u001b[0m\u001b[1;33m)\u001b[0m\u001b[1;33m\u001b[0m\u001b[1;33m\u001b[0m\u001b[0m\n",
      "\u001b[1;31mFileNotFoundError\u001b[0m: [Errno 2] No such file or directory: 'Ground_Based_Tutorial/data_0.dat'"
     ]
    }
   ],
   "source": [
    "from astropy.io.ascii import read\n",
    "data = read('Ground_Based_Tutorial/data_0.dat')\n",
    "print(type(data))\n",
    "data.pprint"
   ]
  },
  {
   "cell_type": "markdown",
   "metadata": {},
   "source": [
    "If you want further information of astropy tables, see [this manual page](http://docs.astropy.org/en/stable/table/).\n",
    "\n",
    "To calculate the instrumental magnitude, you have to calculate\n",
    "\n",
    "\\begin{equation}\n",
    "\tm_{\\rm inst} \\equiv -2.5 \\log_{10}\\left ( \\frac{N}{\\Delta t} \\right ) ~.\n",
    "\\end{equation}\n",
    "\n",
    "$m_{\\rm inst}$ equals to `b` or `v`, $N$ (\"count\") is the column named `count_V` or `count_B`, and $\\Delta t$ (exposure time in seconds) is the one named `T_V` or `T_B`, depending on the filters you are interested in. For the uncertainties, only the Poissonian error of stellar flux matters *if dark and readout noise are ignored, and sky noise is negligible to that of the stellar flux and perfectly constant *. Then $\\Delta N = \\sqrt{N}$, so \n",
    "\n",
    "\\begin{align}\n",
    "\t\\Delta m_{\\rm inst} &\\approx \\left | \\frac{\\partial m_{\\rm inst}}{\\partial n} \\Delta N \\right | \\\\\n",
    "\t\t\t&= \\frac{2.5}{\\log 10} \\frac{\\Delta N}{N} \\\\\n",
    "\t\t\t&\\approx \\frac{1.0857}{\\sqrt{N}} ~.\n",
    "\\end{align}\n",
    "\n",
    "\n",
    "The (instrumental) B-V color can be obtained easily by subtracting the instrumental magnitudes `v` from `b`. The uncertainty of color is, by assuming there is no correlation between `b` and `v` magnitudes, $\\Delta {\\rm color} = \\sqrt{\\Delta v^2 + \\Delta b^2}$.\n",
    "\n",
    "* **Question**: What if the sky value is constant but not zero? Can you guess the mathematical form of $\\Delta N$?\n",
    "* **Question**: What if the sky value has average of 0 but has fluctuation (so called standard deviation)? Can you guess the mathematical form of $\\Delta N$?\n",
    "\n",
    "* **TIP**: Check the Appendix A\n",
    "\n",
    "* **TIP**: For a *very accurate* error analysis using CCD, see Merline & Howell 1995 (Experimental Astronomy, **6**, *163*)\n",
    "\n",
    "* **TIP**: It's bothersome to think about the ADU and electron units all the time. As a rule of thumb, think you always have to change all the ADU's to the electrons unit. Then you can realize where the gain factor should be.\n",
    "\n",
    "* **Question**: If several images are combined by summing, averaging, or medianing to make one image, it means we have more *information* in that single image, and thus our intuition says that the uncertainty ($\\Delta N/N$) should become smaller. Which parameters do you think will be changed to diminish $\\Delta N/N$ ?\n",
    "\n",
    "To calculate these, let me use the `Astropy.Table`, which is a kind of variants of `numpy.ndarray`:\n"
   ]
  },
  {
   "cell_type": "code",
   "execution_count": null,
   "metadata": {},
   "outputs": [],
   "source": [
    "import numpy as np\n",
    "from astropy.io.ascii import read\n",
    "from astropy import table\n",
    "\n",
    "# b, v, c means instrumental B, V magnitudes and instrumental B-V color.\n",
    "v  = table.Column(name='v' , data = -2.5 * np.log10(data['count_V']/data['T_V']))\n",
    "b  = table.Column(name='b' , data = -2.5 * np.log10(data['count_B']/data['T_B']))\n",
    "dv = table.Column(name='dv', data = 1.0857 / np.sqrt(data['count_V']))\n",
    "db = table.Column(name='db', data = 1.0857 / np.sqrt(data['count_B']))\n",
    "\n",
    "c  = table.Column(name='color' , data = b-v)\n",
    "dc = table.Column(name='dcolor', data = np.sqrt(db**2 + dv**2) )\n",
    "\n",
    "# Only save upto 3 or 5 decimal points\n",
    "v.format  ='%6.3f'\n",
    "b.format  ='%6.3f'\n",
    "c.format  ='%6.3f'\n",
    "dv.format ='%6.5f'\n",
    "db.format ='%6.5f'\n",
    "dc.format ='%6.5f'\n",
    "\n",
    "data.add_columns([v, dv, b, db, c, dc])\n",
    "\n",
    "# To be more visual, I will \"sort\" with respect to the column 'Target':\n",
    "data = data.group_by('Target') \n",
    "\n",
    "# Then print:\n",
    "data.pprint(max_width=200)  # max_width is used to print out all the values"
   ]
  },
  {
   "cell_type": "markdown",
   "metadata": {},
   "source": [
    "-----\n",
    "\n",
    "## Example 2: Merge Literature Data\n",
    "\n",
    "Because the standard stars are the \"standard\" stars, we know their accurately measured B and V magnitudes, and thus the colors. For simplicity, let me assume these literature values are exact, and thus no uncertainty is there. \n",
    "\n",
    "> ** Let me show you how the instrumental magnitudes differ from the literature values. **\n",
    "\n",
    " The literature values are given as:"
   ]
  },
  {
   "cell_type": "code",
   "execution_count": null,
   "metadata": {},
   "outputs": [],
   "source": [
    "import numpy as np\n",
    "from astropy.io.ascii import read\n",
    "std = read('Ground_Based_Tutorial/data_std.dat')\n",
    "std.pprint"
   ]
  },
  {
   "cell_type": "markdown",
   "metadata": {},
   "source": [
    "Now let me 'join' the literature value to the observed data, only for standard stars for standardization:"
   ]
  },
  {
   "cell_type": "code",
   "execution_count": null,
   "metadata": {},
   "outputs": [],
   "source": [
    "data_std = table.join(data, std, keys='Target')\n",
    "# Joins two tables, data and std, based on the column 'Target'.\n",
    "# Columns with name 'obj1' and 'obj2' does not exist in table std,\n",
    "# so those rows will be deleted.\n",
    "data_std.pprint(max_width=200)\n",
    "\n",
    "print('Plot of literature VS instrumental magnitudes')\n",
    "from matplotlib import pyplot as plt\n",
    "plt.plot(data_std['B'], data_std['b'], marker='x', mfc='b', ls='', label='B')\n",
    "plt.plot(data_std['V'], data_std['v'], marker='+', mfc='r', ls='', label='V')\n",
    "plt.xlabel('Literature magnitude')\n",
    "plt.ylabel('Instrumental magnitude')\n",
    "plt.grid(ls=':')\n",
    "plt.legend()\n",
    "plt.show()"
   ]
  },
  {
   "cell_type": "markdown",
   "metadata": {},
   "source": [
    "As you can see, the literature and the instrumental magnitude differ a lot, by roughly about 25 magnitude, but in a good linear relationship. Since the literature values are exact, we have to find a way to tune the instrumental magnitude to match the literature magnitudes. This is the standardization, as mentioned before. \n",
    "\n",
    "-----"
   ]
  },
  {
   "cell_type": "markdown",
   "metadata": {},
   "source": [
    "## Example 3: Parameters for Standardization\n",
    "\n",
    "We will start from the following formula:\n",
    "\n",
    "\\begin{align}\n",
    "\tv - V &=  z_{V} + k_{V} X \\quad( + {\\rm color~correction~terms})~,\\\\\n",
    "    b - B &=  z_{B} + k_{B} X \\quad( + {\\rm color~correction~terms})~,\n",
    "\\end{align}\n",
    "\n",
    "where $v(b)$ and $V(B)$ are the instrumental and literature magnitudes of standard stars. \n",
    "\n",
    "> ** How do we obtain the zero point ($z$) and the extinction coefficient ($k$)?**\n",
    "\n",
    "\n",
    "Answer is very simple: Fit a line to ($v - V$) and ($b-B$) versus $X$!\n",
    "\n",
    "I will use line fitting module from `scipy.optimize.curve_fit`, but you can also use `numpy.polyfit` or just make your own package to use. "
   ]
  },
  {
   "cell_type": "code",
   "execution_count": null,
   "metadata": {},
   "outputs": [],
   "source": [
    "from scipy.optimize import curve_fit\n",
    "\n",
    "# Define a function that will be used for fitting.\n",
    "# Except for x, other two parameters (zero and k) should have 'default' value\n",
    "# to be used in scipy.optimize.curve_fit.\n",
    "def fitting(x, zero=0, k=1):\n",
    "    return zero + k*x\n",
    "\n",
    "vV = data_std['v'] - data_std['V']\n",
    "bB = data_std['b'] - data_std['B']\n",
    "\n",
    "# curve_fit gives two outputs: fitted parameters & covariance matrix\n",
    "# The covariance matrix can be used for parameter error analysis and correlation check.\n",
    "fitted_V = curve_fit(fitting, data_std['X'], vV, sigma=data_std['dv'])\n",
    "fitted_B = curve_fit(fitting, data_std['X'], bB, sigma=data_std['db'])\n",
    "fitpar_V = fitted_V[0] # contains z_V and k_V\n",
    "fitpar_B = fitted_B[0] # contains z_B and k_B\n",
    "\n",
    "# In Python, *something means you \"unzip\" the variable named \"something\".\n",
    "# If something=[1, 2, 3], '*something' is identical to type '1, 2, 3'.\n",
    "plt.plot(data_std['X'], vV, 'o')\n",
    "plt.plot(data_std['X'], fitting(data_std['X'], *fitpar_V), label='V')\n",
    "plt.plot(data_std['X'], fitting(data_std['X'], *fitpar_B), label='B')\n",
    "plt.plot(data_std['X'], bB, 'o')\n",
    "plt.xlabel('Airmass (X)')\n",
    "plt.ylabel('obs - true magnitude')\n",
    "plt.legend()\n",
    "plt.show()\n",
    "print('B: z_B & k_B =',fitpar_B)\n",
    "print('V: z_V & k_V =',fitpar_V)\n"
   ]
  },
  {
   "cell_type": "markdown",
   "metadata": {},
   "source": [
    "-----\n",
    "\n",
    "## Example 4: Standardization with One More Color Term\n",
    "Although we neglected the color terms in section 2.2, of course at some point you may want to get more accurate result. One possible way is to neglect the $k_{XC}$ term, but include $a$ term. Then you can combine the following two:\n",
    "\n",
    "\\begin{align}\n",
    "\tz_V' &= v - V - z_V \\\\\n",
    "        &= k_V X + a_V({\\rm B}-{\\rm V}) \\\\\n",
    "    z_B' &= b - v - z_C \\\\\n",
    "        &= k_C X + a_C({\\rm B}-{\\rm V}) ~.\n",
    "\\end{align}\n",
    "The subscript $C$ means color. "
   ]
  },
  {
   "cell_type": "code",
   "execution_count": null,
   "metadata": {},
   "outputs": [],
   "source": [
    "def fitting2(INPUT, zero=0, k=1, a=1):\n",
    "    X     = INPUT['X']\n",
    "    COLOR = INPUT['COLOR']\n",
    "    return zero + k*X + a*COLOR\n",
    "\n",
    "vV = data_std['v'] - data_std['V']\n",
    "bv = data_std['color']\n",
    "\n",
    "fitted_vV = curve_fit(fitting2, data_std['X','COLOR'], vV)\n",
    "fitpar_vV = fitted_vV[0]\n",
    "fitted_bv = curve_fit(fitting2, data_std['X','COLOR'], bv)\n",
    "fitpar_bv = fitted_bv[0]\n",
    "print('v-V: z_V , k_V , a_V =',fitpar_vV)\n",
    "print('b-v: z_C , k_C , a_C =',fitpar_bv)"
   ]
  }
 ],
 "metadata": {
  "kernelspec": {
   "display_name": "Python 3",
   "language": "python",
   "name": "python3"
  },
  "language_info": {
   "codemirror_mode": {
    "name": "ipython",
    "version": 3
   },
   "file_extension": ".py",
   "mimetype": "text/x-python",
   "name": "python",
   "nbconvert_exporter": "python",
   "pygments_lexer": "ipython3",
   "version": "3.6.7"
  }
 },
 "nbformat": 4,
 "nbformat_minor": 2
}
